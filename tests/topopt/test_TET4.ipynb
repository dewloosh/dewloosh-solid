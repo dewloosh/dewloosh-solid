{
 "cells": [
  {
   "cell_type": "code",
   "execution_count": 1,
   "metadata": {},
   "outputs": [],
   "source": [
    "from dewloosh.solid.fem import FemMesh, TET4, Structure\n",
    "from dewloosh.math.linalg import normalize\n",
    "import pyvista as pv\n",
    "import numpy as np"
   ]
  },
  {
   "cell_type": "code",
   "execution_count": 2,
   "metadata": {},
   "outputs": [],
   "source": [
    "# geometry [cm]\n",
    "d = 100.0\n",
    "h = 1.0\n",
    "a = 1.5\n",
    "b = 0.5\n",
    "\n",
    "# mesh options\n",
    "regular_mesh = True\n",
    "n_radii, n_angles, n_z = 20, 100, 40\n",
    "\n",
    "# mass of the ball [kg]\n",
    "m = 10\n",
    "g = 9.81\n",
    "\n",
    "# material\n",
    "E = 12000\n",
    "nu = 0.2"
   ]
  },
  {
   "cell_type": "code",
   "execution_count": 3,
   "metadata": {},
   "outputs": [],
   "source": [
    "if regular_mesh:\n",
    "    from dewloosh.geom.tri.trimesh import circular_disk\n",
    "    from dewloosh.geom.utils import detach_mesh_bulk\n",
    "    from dewloosh.geom.tet.tetutils import extrude_T3_TET4\n",
    "    min_radius = b/2\n",
    "    max_radius = a/2\n",
    "    points, triangles = \\\n",
    "        circular_disk(n_angles, n_radii, min_radius, max_radius)\n",
    "    points, triangles = detach_mesh_bulk(points, triangles)\n",
    "    coords, topo = extrude_T3_TET4(points, triangles, h, n_z)\n",
    "else:\n",
    "    import tetgen\n",
    "    cyl = pv.CylinderStructured(center=(0.0, 0.0, h/2), direction=(0.0, 0.0, 1.0),\n",
    "                                radius=np.linspace(b/2, a/2, n_radii), height=h, \n",
    "                                theta_resolution=n_angles, z_resolution=n_z)\n",
    "    cyl_surf = cyl.extract_surface().triangulate()\n",
    "    tet = tetgen.TetGen(cyl_surf)\n",
    "    tet.tetrahedralize(order=1, mindihedral=10, minratio=1.1, quality=True)\n",
    "    grid = tet.grid\n",
    "    coords = np.array(grid.points).astype(float)\n",
    "    topo = grid.cells_dict[10].astype(np.int32)"
   ]
  },
  {
   "cell_type": "code",
   "execution_count": 4,
   "metadata": {},
   "outputs": [],
   "source": [
    "# essential boundary conditions\n",
    "cond_ebc = np.abs(coords[:, 2]) <= 1e-5\n",
    "ebcinds = np.where(cond_ebc)[0]\n",
    "fixity = np.zeros((coords.shape[0], 3), dtype=bool)\n",
    "fixity[ebcinds, :] = True"
   ]
  },
  {
   "cell_type": "code",
   "execution_count": 5,
   "metadata": {},
   "outputs": [],
   "source": [
    "# Hooke model\n",
    "A = np.array([\n",
    "    [1, nu, nu, 0, 0, 0], \n",
    "    [nu, 1, nu, 0, 0, 0],\n",
    "    [nu, nu, 1, 0, 0, 0], \n",
    "    [0., 0, 0, (1-nu)/2, 0, 0],\n",
    "    [0., 0, 0, 0, (1-nu)/2, 0],\n",
    "    [0., 0, 0, 0, 0, (1-nu)/2]]) * (E /(1-nu**2))"
   ]
  },
  {
   "cell_type": "code",
   "execution_count": 6,
   "metadata": {},
   "outputs": [],
   "source": [
    "# natural boundary conditions\n",
    "cond_nbc_1 = coords[:, 2] >= (h - 1e-8)\n",
    "cond_nbc_2 = np.abs((coords[:, 0]**2 + coords[:, 1]**2)**(1/2) - b/2) <= 0.001\n",
    "cond_nbc = cond_nbc_1 & cond_nbc_2\n",
    "nbcinds = np.where(cond_nbc)[0]\n",
    "q = (m * g * d) / (len(nbcinds) * np.sqrt(d**2-b**2))\n",
    "c = np.array([0, 0, h + np.sqrt(d**2-b**2)/2])\n",
    "foo = lambda x : normalize(x - c) * q\n",
    "loads = np.zeros((coords.shape[0], 3))\n",
    "loads[nbcinds] = [foo(coords[nID]) for nID in nbcinds]"
   ]
  },
  {
   "cell_type": "code",
   "execution_count": 7,
   "metadata": {},
   "outputs": [],
   "source": [
    "mesh = FemMesh(coords=coords, topo=topo, celltype=TET4, \n",
    "               fixity=fixity, loads=loads, model=A)\n",
    "structure = Structure(mesh=mesh)"
   ]
  },
  {
   "cell_type": "code",
   "execution_count": 8,
   "metadata": {},
   "outputs": [],
   "source": [
    "mesh.plot()"
   ]
  },
  {
   "cell_type": "code",
   "execution_count": 11,
   "metadata": {},
   "outputs": [
    {
     "ename": "PyPardisoError",
     "evalue": "The Pardiso solver failed with error code -3. See Pardiso documentation for details.",
     "output_type": "error",
     "traceback": [
      "\u001b[1;31m---------------------------------------------------------------------------\u001b[0m",
      "\u001b[1;31mPyPardisoError\u001b[0m                            Traceback (most recent call last)",
      "\u001b[1;32m~\\AppData\\Local\\Temp/ipykernel_10940/875808821.py\u001b[0m in \u001b[0;36m<module>\u001b[1;34m\u001b[0m\n\u001b[1;32m----> 1\u001b[1;33m \u001b[0mstructure\u001b[0m\u001b[1;33m.\u001b[0m\u001b[0mlinsolve\u001b[0m\u001b[1;33m(\u001b[0m\u001b[0mmtype\u001b[0m\u001b[1;33m=\u001b[0m\u001b[1;36m1\u001b[0m\u001b[1;33m)\u001b[0m\u001b[1;33m\u001b[0m\u001b[1;33m\u001b[0m\u001b[0m\n\u001b[0m\u001b[0;32m      2\u001b[0m \u001b[0mstructure\u001b[0m\u001b[1;33m.\u001b[0m\u001b[0msummary\u001b[0m\u001b[1;33m\u001b[0m\u001b[1;33m\u001b[0m\u001b[0m\n",
      "\u001b[1;32mf:\\github\\dewloosh-solid\\src\\dewloosh\\solid\\fem\\structure\\structure.py\u001b[0m in \u001b[0;36mlinsolve\u001b[1;34m(self, *args, **kwargs)\u001b[0m\n\u001b[0;32m     66\u001b[0m     \u001b[1;32mdef\u001b[0m \u001b[0mlinsolve\u001b[0m\u001b[1;33m(\u001b[0m\u001b[0mself\u001b[0m\u001b[1;33m,\u001b[0m \u001b[1;33m*\u001b[0m\u001b[0margs\u001b[0m\u001b[1;33m,\u001b[0m \u001b[1;33m**\u001b[0m\u001b[0mkwargs\u001b[0m\u001b[1;33m)\u001b[0m\u001b[1;33m:\u001b[0m\u001b[1;33m\u001b[0m\u001b[1;33m\u001b[0m\u001b[0m\n\u001b[0;32m     67\u001b[0m         \u001b[0mself\u001b[0m\u001b[1;33m.\u001b[0m\u001b[0mpreprocess\u001b[0m\u001b[1;33m(\u001b[0m\u001b[1;33m*\u001b[0m\u001b[0margs\u001b[0m\u001b[1;33m,\u001b[0m \u001b[1;33m**\u001b[0m\u001b[0mkwargs\u001b[0m\u001b[1;33m)\u001b[0m\u001b[1;33m\u001b[0m\u001b[1;33m\u001b[0m\u001b[0m\n\u001b[1;32m---> 68\u001b[1;33m         \u001b[0mself\u001b[0m\u001b[1;33m.\u001b[0m\u001b[0mprocess\u001b[0m\u001b[1;33m(\u001b[0m\u001b[1;33m*\u001b[0m\u001b[0margs\u001b[0m\u001b[1;33m,\u001b[0m \u001b[1;33m**\u001b[0m\u001b[0mkwargs\u001b[0m\u001b[1;33m)\u001b[0m\u001b[1;33m\u001b[0m\u001b[1;33m\u001b[0m\u001b[0m\n\u001b[0m\u001b[0;32m     69\u001b[0m         \u001b[0mself\u001b[0m\u001b[1;33m.\u001b[0m\u001b[0mpostprocess\u001b[0m\u001b[1;33m(\u001b[0m\u001b[1;33m*\u001b[0m\u001b[0margs\u001b[0m\u001b[1;33m,\u001b[0m \u001b[1;33m**\u001b[0m\u001b[0mkwargs\u001b[0m\u001b[1;33m)\u001b[0m\u001b[1;33m\u001b[0m\u001b[1;33m\u001b[0m\u001b[0m\n\u001b[0;32m     70\u001b[0m \u001b[1;33m\u001b[0m\u001b[0m\n",
      "\u001b[1;32mf:\\github\\dewloosh-solid\\src\\dewloosh\\solid\\fem\\structure\\structure.py\u001b[0m in \u001b[0;36mprocess\u001b[1;34m(self, use_umfpack, summary, permc_spec, solver, mtype, *args, **kwargs)\u001b[0m\n\u001b[0;32m    123\u001b[0m             \u001b[1;32melse\u001b[0m\u001b[1;33m:\u001b[0m\u001b[1;33m\u001b[0m\u001b[1;33m\u001b[0m\u001b[0m\n\u001b[0;32m    124\u001b[0m                 \u001b[0mpds\u001b[0m \u001b[1;33m=\u001b[0m \u001b[0mPyPardisoSolver\u001b[0m\u001b[1;33m(\u001b[0m\u001b[0mmtype\u001b[0m\u001b[1;33m=\u001b[0m\u001b[0mmtype\u001b[0m\u001b[1;33m)\u001b[0m\u001b[1;33m\u001b[0m\u001b[1;33m\u001b[0m\u001b[0m\n\u001b[1;32m--> 125\u001b[1;33m                 \u001b[0mself\u001b[0m\u001b[1;33m.\u001b[0m\u001b[0m_du\u001b[0m \u001b[1;33m=\u001b[0m \u001b[0mpds\u001b[0m\u001b[1;33m.\u001b[0m\u001b[0msolve\u001b[0m\u001b[1;33m(\u001b[0m\u001b[0mK_coo\u001b[0m\u001b[1;33m,\u001b[0m \u001b[0mself\u001b[0m\u001b[1;33m.\u001b[0m\u001b[0m_f\u001b[0m\u001b[1;33m)\u001b[0m\u001b[1;33m\u001b[0m\u001b[1;33m\u001b[0m\u001b[0m\n\u001b[0m\u001b[0;32m    126\u001b[0m         \u001b[1;32melif\u001b[0m \u001b[0msolver\u001b[0m \u001b[1;33m==\u001b[0m \u001b[1;34m'scipy'\u001b[0m\u001b[1;33m:\u001b[0m\u001b[1;33m\u001b[0m\u001b[1;33m\u001b[0m\u001b[0m\n\u001b[0;32m    127\u001b[0m             self._du = spsolve(K_coo.astype(np.float32),\n",
      "\u001b[1;32mf:\\GitHub\\.dewloosh\\lib\\site-packages\\pypardiso\\pardiso_wrapper.py\u001b[0m in \u001b[0;36msolve\u001b[1;34m(self, A, b)\u001b[0m\n\u001b[0;32m    172\u001b[0m             \u001b[0mself\u001b[0m\u001b[1;33m.\u001b[0m\u001b[0mset_phase\u001b[0m\u001b[1;33m(\u001b[0m\u001b[1;36m13\u001b[0m\u001b[1;33m)\u001b[0m\u001b[1;33m\u001b[0m\u001b[1;33m\u001b[0m\u001b[0m\n\u001b[0;32m    173\u001b[0m \u001b[1;33m\u001b[0m\u001b[0m\n\u001b[1;32m--> 174\u001b[1;33m         \u001b[0mx\u001b[0m \u001b[1;33m=\u001b[0m \u001b[0mself\u001b[0m\u001b[1;33m.\u001b[0m\u001b[0m_call_pardiso\u001b[0m\u001b[1;33m(\u001b[0m\u001b[0mA\u001b[0m\u001b[1;33m,\u001b[0m \u001b[0mb\u001b[0m\u001b[1;33m)\u001b[0m\u001b[1;33m\u001b[0m\u001b[1;33m\u001b[0m\u001b[0m\n\u001b[0m\u001b[0;32m    175\u001b[0m \u001b[1;33m\u001b[0m\u001b[0m\n\u001b[0;32m    176\u001b[0m         \u001b[1;31m# it is possible to call the solver with empty columns, but computationally expensive to check this\u001b[0m\u001b[1;33m\u001b[0m\u001b[1;33m\u001b[0m\u001b[1;33m\u001b[0m\u001b[0m\n",
      "\u001b[1;32mf:\\GitHub\\.dewloosh\\lib\\site-packages\\pypardiso\\pardiso_wrapper.py\u001b[0m in \u001b[0;36m_call_pardiso\u001b[1;34m(self, A, b)\u001b[0m\n\u001b[0;32m    279\u001b[0m \u001b[1;33m\u001b[0m\u001b[0m\n\u001b[0;32m    280\u001b[0m         \u001b[1;32mif\u001b[0m \u001b[0mpardiso_error\u001b[0m\u001b[1;33m.\u001b[0m\u001b[0mvalue\u001b[0m \u001b[1;33m!=\u001b[0m \u001b[1;36m0\u001b[0m\u001b[1;33m:\u001b[0m\u001b[1;33m\u001b[0m\u001b[1;33m\u001b[0m\u001b[0m\n\u001b[1;32m--> 281\u001b[1;33m             \u001b[1;32mraise\u001b[0m \u001b[0mPyPardisoError\u001b[0m\u001b[1;33m(\u001b[0m\u001b[0mpardiso_error\u001b[0m\u001b[1;33m.\u001b[0m\u001b[0mvalue\u001b[0m\u001b[1;33m)\u001b[0m\u001b[1;33m\u001b[0m\u001b[1;33m\u001b[0m\u001b[0m\n\u001b[0m\u001b[0;32m    282\u001b[0m         \u001b[1;32melse\u001b[0m\u001b[1;33m:\u001b[0m\u001b[1;33m\u001b[0m\u001b[1;33m\u001b[0m\u001b[0m\n\u001b[0;32m    283\u001b[0m             \u001b[1;32mreturn\u001b[0m \u001b[0mnp\u001b[0m\u001b[1;33m.\u001b[0m\u001b[0mascontiguousarray\u001b[0m\u001b[1;33m(\u001b[0m\u001b[0mx\u001b[0m\u001b[1;33m)\u001b[0m  \u001b[1;31m# change memory-layout back from fortran to c order\u001b[0m\u001b[1;33m\u001b[0m\u001b[1;33m\u001b[0m\u001b[0m\n",
      "\u001b[1;31mPyPardisoError\u001b[0m: The Pardiso solver failed with error code -3. See Pardiso documentation for details."
     ]
    }
   ],
   "source": [
    "structure.linsolve()\n",
    "structure.summary"
   ]
  },
  {
   "cell_type": "code",
   "execution_count": 26,
   "metadata": {},
   "outputs": [
    {
     "data": {
      "text/plain": [
       "-0.03509608398273206"
      ]
     },
     "execution_count": 26,
     "metadata": {},
     "output_type": "execute_result"
    }
   ],
   "source": [
    "dofsol = structure.mesh.pointdata.dofsol.to_numpy()\n",
    "dofsol[:, 2].min()"
   ]
  },
  {
   "cell_type": "code",
   "execution_count": 27,
   "metadata": {},
   "outputs": [],
   "source": [
    "from dewloosh.solid.topopt.SIMP_OC_FEM import OC_SIMP_COMP as OC"
   ]
  },
  {
   "cell_type": "code",
   "execution_count": 28,
   "metadata": {},
   "outputs": [],
   "source": [
    "# iteration parameters\n",
    "OC_params = {\n",
    "    'p_start' : 1.0,  # SIMP penalty factor\n",
    "    'p_stop' : 3.0,\n",
    "    'p_inc' : 0.1,\n",
    "    'p_step' : 5,\n",
    "    'q' : 0.5,  # smoothing factor\n",
    "    'vfrac' : 0.3,  # fraction of target volume over initial volume\n",
    "    'dtol' : 0.1,  # to control maximum change in the variables\n",
    "    'r_min' : (a-b)/2/10,  # for the density filter\n",
    "    'miniter' : 150,\n",
    "    'maxiter' : 300\n",
    "    }\n",
    "oc = OC(structure,  summary=True, **OC_params)"
   ]
  },
  {
   "cell_type": "code",
   "execution_count": 29,
   "metadata": {},
   "outputs": [],
   "source": [
    "optres = next(oc)"
   ]
  },
  {
   "cell_type": "code",
   "execution_count": 30,
   "metadata": {},
   "outputs": [
    {
     "name": "stdout",
     "output_type": "stream",
     "text": [
      "Iteration   0 :    vol 0.47093459640075047     obj 31.089544438911105     pen 1.0\n",
      "Iteration   1 :    vol 0.4709344258916675     obj 26.31151351371163     pen 1.1\n",
      "Iteration   2 :    vol 0.47094745794898624     obj 22.388174260172164     pen 1.1\n",
      "Iteration   3 :    vol 0.47092152348202865     obj 19.16458399004137     pen 1.1\n",
      "Iteration   4 :    vol 0.4709331811505234     obj 16.511763397513114     pen 1.1\n",
      "Iteration   5 :    vol 0.4709302310856791     obj 14.32686787902686     pen 1.1\n",
      "Iteration   6 :    vol 0.4709281433307578     obj 12.536413677278633     pen 1.2000000000000002\n",
      "Iteration   7 :    vol 0.4709153112124423     obj 11.05491219424971     pen 1.2000000000000002\n",
      "Iteration   8 :    vol 0.470924300734922     obj 9.830943944401813     pen 1.2000000000000002\n",
      "Iteration   9 :    vol 0.47093259276202704     obj 8.81972565046517     pen 1.2000000000000002\n",
      "Iteration   10 :    vol 0.4709240927498987     obj 7.983565950440104     pen 1.2000000000000002\n",
      "Iteration   11 :    vol 0.47094220518725394     obj 7.3106085587683545     pen 1.3000000000000003\n",
      "Iteration   12 :    vol 0.47092618333254666     obj 6.885285091775297     pen 1.3000000000000003\n",
      "Iteration   13 :    vol 0.4709385523576708     obj 6.765076098471853     pen 1.3000000000000003\n",
      "Iteration   14 :    vol 0.4709376237101337     obj 6.682411110486277     pen 1.3000000000000003\n",
      "Iteration   15 :    vol 0.4709194340355889     obj 6.632780069087156     pen 1.3000000000000003\n",
      "Iteration   16 :    vol 0.47092094532552137     obj 6.618691831790496     pen 1.4000000000000004\n",
      "Iteration   17 :    vol 0.47093585822945305     obj 6.622524341982825     pen 1.4000000000000004\n",
      "Iteration   18 :    vol 0.47093573007687195     obj 6.6406040801688215     pen 1.4000000000000004\n",
      "Iteration   19 :    vol 0.4709328271064474     obj 6.6680398675283294     pen 1.4000000000000004\n",
      "Iteration   20 :    vol 0.47093435122912397     obj 6.70201527243431     pen 1.4000000000000004\n",
      "Iteration   21 :    vol 0.4709317830592731     obj 6.753246158635002     pen 1.5000000000000004\n",
      "Iteration   22 :    vol 0.470923127831554     obj 6.805121603885069     pen 1.5000000000000004\n",
      "Iteration   23 :    vol 0.4709253259032497     obj 6.857077251544679     pen 1.5000000000000004\n",
      "Iteration   24 :    vol 0.47093018820104515     obj 6.909313772642318     pen 1.5000000000000004\n",
      "Iteration   25 :    vol 0.4709304555145396     obj 6.962152331140997     pen 1.5000000000000004\n",
      "Iteration   26 :    vol 0.4709298708221216     obj 7.022802697279333     pen 1.6000000000000005\n",
      "Iteration   27 :    vol 0.47093281559982125     obj 7.080683940118633     pen 1.6000000000000005\n",
      "Iteration   28 :    vol 0.4709338401682495     obj 7.136562738695857     pen 1.6000000000000005\n",
      "Iteration   29 :    vol 0.47092454611545526     obj 7.19103280579955     pen 1.6000000000000005\n",
      "Iteration   30 :    vol 0.47093266822859503     obj 7.243987988009014     pen 1.6000000000000005\n",
      "Iteration   31 :    vol 0.47092986294605915     obj 7.300889855603613     pen 1.7000000000000006\n",
      "Iteration   32 :    vol 0.47092786973632184     obj 7.35431252218612     pen 1.7000000000000006\n",
      "Iteration   33 :    vol 0.4709333282279454     obj 7.40506123194471     pen 1.7000000000000006\n",
      "Iteration   34 :    vol 0.47092469207901805     obj 7.454130543513802     pen 1.7000000000000006\n",
      "Iteration   35 :    vol 0.47093210088051496     obj 7.5014469498827445     pen 1.7000000000000006\n",
      "Iteration   36 :    vol 0.47093457424350305     obj 7.552909109015366     pen 1.8000000000000007\n",
      "Iteration   37 :    vol 0.4709270673851353     obj 7.601147512808138     pen 1.8000000000000007\n",
      "Iteration   38 :    vol 0.47093287291297214     obj 7.646788000568402     pen 1.8000000000000007\n",
      "Iteration   39 :    vol 0.4709251233492519     obj 7.691058582754236     pen 1.8000000000000007\n",
      "Iteration   40 :    vol 0.47092369511624116     obj 7.734080844604824     pen 1.8000000000000007\n",
      "Iteration   41 :    vol 0.47093373733578736     obj 7.781861619344662     pen 1.9000000000000008\n",
      "Iteration   42 :    vol 0.4709236699781647     obj 7.826650503137489     pen 1.9000000000000008\n",
      "Iteration   43 :    vol 0.4709296502622178     obj 7.868885060906277     pen 1.9000000000000008\n",
      "Iteration   44 :    vol 0.4709233307818618     obj 7.9098049868387115     pen 1.9000000000000008\n",
      "Iteration   45 :    vol 0.47092898019834134     obj 7.949397830897329     pen 1.9000000000000008\n",
      "Iteration   46 :    vol 0.47093178242745026     obj 7.993749288111113     pen 2.000000000000001\n",
      "Iteration   47 :    vol 0.4709292722189555     obj 8.03462333156635     pen 2.000000000000001\n",
      "Iteration   48 :    vol 0.4709323637924651     obj 8.072942850038775     pen 2.000000000000001\n",
      "Iteration   49 :    vol 0.47093146992091445     obj 8.10978083697472     pen 2.000000000000001\n",
      "Iteration   50 :    vol 0.47092902228208366     obj 8.145672448012933     pen 2.000000000000001\n",
      "Iteration   51 :    vol 0.4709307457251254     obj 8.185897243244797     pen 2.100000000000001\n",
      "Iteration   52 :    vol 0.47092545869183006     obj 8.222757726887652     pen 2.100000000000001\n",
      "Iteration   53 :    vol 0.4709278355451672     obj 8.257246571827894     pen 2.100000000000001\n",
      "Iteration   54 :    vol 0.47093018299356987     obj 8.290318062073021     pen 2.100000000000001\n",
      "Iteration   55 :    vol 0.4709257785527547     obj 8.322728101738038     pen 2.100000000000001\n",
      "Iteration   56 :    vol 0.4709273084496152     obj 8.359329439940757     pen 2.200000000000001\n",
      "Iteration   57 :    vol 0.4709312695943434     obj 8.392422259323917     pen 2.200000000000001\n",
      "Iteration   58 :    vol 0.4709265366119798     obj 8.423547101077174     pen 2.200000000000001\n",
      "Iteration   59 :    vol 0.4709295788820711     obj 8.45329536568811     pen 2.200000000000001\n",
      "Iteration   60 :    vol 0.4709257317621984     obj 8.482464285621896     pen 2.200000000000001\n",
      "Iteration   61 :    vol 0.47092871252431884     obj 8.516041818197003     pen 2.300000000000001\n",
      "Iteration   62 :    vol 0.4709319227974925     obj 8.546272421151295     pen 2.300000000000001\n",
      "Iteration   63 :    vol 0.47092954200421666     obj 8.574732775629936     pen 2.300000000000001\n",
      "Iteration   64 :    vol 0.47092583342384675     obj 8.602244495743317     pen 2.300000000000001\n",
      "Iteration   65 :    vol 0.4709310900657709     obj 8.629135991288877     pen 2.300000000000001\n",
      "Iteration   66 :    vol 0.47093192177424187     obj 8.660795575784995     pen 2.4000000000000012\n",
      "Iteration   67 :    vol 0.4709303086497014     obj 8.689336427429105     pen 2.4000000000000012\n",
      "Iteration   68 :    vol 0.47092617357655336     obj 8.716215195729184     pen 2.4000000000000012\n",
      "Iteration   69 :    vol 0.4709277957197662     obj 8.742191127186702     pen 2.4000000000000012\n",
      "Iteration   70 :    vol 0.47092741806125127     obj 8.768014461366862     pen 2.4000000000000012\n",
      "Iteration   71 :    vol 0.47093231475286823     obj 8.798359312394332     pen 2.5000000000000013\n",
      "Iteration   72 :    vol 0.47093126853854866     obj 8.825525032687308     pen 2.5000000000000013\n",
      "Iteration   73 :    vol 0.4709286395286698     obj 8.851209569715694     pen 2.5000000000000013\n",
      "Iteration   74 :    vol 0.47093088734688543     obj 8.876369699905513     pen 2.5000000000000013\n",
      "Iteration   75 :    vol 0.470927933701239     obj 8.901737575120794     pen 2.5000000000000013\n",
      "Iteration   76 :    vol 0.47092790959560826     obj 8.931664408431082     pen 2.6000000000000014\n",
      "Iteration   77 :    vol 0.4709269546738868     obj 8.958560106017217     pen 2.6000000000000014\n",
      "Iteration   78 :    vol 0.47093043834551035     obj 8.984012761995324     pen 2.6000000000000014\n",
      "Iteration   79 :    vol 0.47092853187033934     obj 9.009380743146423     pen 2.6000000000000014\n",
      "Iteration   80 :    vol 0.47092591925970845     obj 9.035047019201533     pen 2.6000000000000014\n",
      "Iteration   81 :    vol 0.47093108504259457     obj 9.065125538616652     pen 2.7000000000000015\n",
      "Iteration   82 :    vol 0.47092845362212543     obj 9.092556930844085     pen 2.7000000000000015\n",
      "Iteration   83 :    vol 0.47092473669553797     obj 9.119014221291144     pen 2.7000000000000015\n",
      "Iteration   84 :    vol 0.470927035420323     obj 9.145369035485324     pen 2.7000000000000015\n",
      "Iteration   85 :    vol 0.4709263211477384     obj 9.172256708425746     pen 2.7000000000000015\n",
      "Iteration   86 :    vol 0.47092980693404063     obj 9.203046485476126     pen 2.8000000000000016\n",
      "Iteration   87 :    vol 0.47092526366895415     obj 9.23148666493165     pen 2.8000000000000016\n",
      "Iteration   88 :    vol 0.4709300589545206     obj 9.258935002779562     pen 2.8000000000000016\n",
      "Iteration   89 :    vol 0.47092709655018083     obj 9.286926416239716     pen 2.8000000000000016\n",
      "Iteration   90 :    vol 0.47093271426898364     obj 9.31544997800859     pen 2.8000000000000016\n",
      "Iteration   91 :    vol 0.47092564503730533     obj 9.348070891447913     pen 2.9000000000000017\n",
      "Iteration   92 :    vol 0.47093324202152803     obj 9.378223064194032     pen 2.9000000000000017\n",
      "Iteration   93 :    vol 0.4709309638132755     obj 9.408048398512623     pen 2.9000000000000017\n",
      "Iteration   94 :    vol 0.47093317469058277     obj 9.438005815572394     pen 2.9000000000000017\n",
      "Iteration   95 :    vol 0.47092716766791987     obj 9.468758184899029     pen 2.9000000000000017\n",
      "Iteration   96 :    vol 0.47093320250473925     obj 9.502476603874916     pen 3.0000000000000018\n",
      "Iteration   97 :    vol 0.4709246267336035     obj 9.527287909023176     pen 3.0000000000000018\n",
      "Iteration   98 :    vol 0.47093304085958054     obj 9.510329060340817     pen 3.0000000000000018\n",
      "Iteration   99 :    vol 0.4709288216434069     obj 9.496073785014215     pen 3.0000000000000018\n",
      "Iteration   100 :    vol 0.4709245477693851     obj 9.484710775059698     pen 3.0000000000000018\n",
      "Iteration   101 :    vol 0.4709313131367397     obj 9.475908154951686     pen 3.0000000000000018\n",
      "Iteration   102 :    vol 0.47093115190921275     obj 9.470622321389442     pen 3.0000000000000018\n",
      "Iteration   103 :    vol 0.47093351355023266     obj 9.4686964879796     pen 3.0000000000000018\n",
      "Iteration   104 :    vol 0.47092800015468883     obj 9.470169015293225     pen 3.0000000000000018\n",
      "Iteration   105 :    vol 0.470925847790109     obj 9.47426550971251     pen 3.0000000000000018\n",
      "Iteration   106 :    vol 0.4709262007593465     obj 9.480974807739514     pen 3.0000000000000018\n",
      "Iteration   107 :    vol 0.4709300271098296     obj 9.489945877849069     pen 3.0000000000000018\n",
      "Iteration   108 :    vol 0.47092882518300494     obj 9.501281444080686     pen 3.0000000000000018\n",
      "Iteration   109 :    vol 0.4709264014580896     obj 9.514316261193837     pen 3.0000000000000018\n",
      "Iteration   110 :    vol 0.47092821974105203     obj 9.52836844927433     pen 3.0000000000000018\n",
      "Iteration   111 :    vol 0.47092680093900463     obj 9.543825209675902     pen 3.0000000000000018\n",
      "Iteration   112 :    vol 0.4709292598138419     obj 9.560143341906908     pen 3.0000000000000018\n",
      "Iteration   113 :    vol 0.47093073838241045     obj 9.577228250723218     pen 3.0000000000000018\n",
      "Iteration   114 :    vol 0.47093062686040543     obj 9.594839004012249     pen 3.0000000000000018\n",
      "Iteration   115 :    vol 0.4709260422882066     obj 9.613239651930968     pen 3.0000000000000018\n",
      "Iteration   116 :    vol 0.4709306299038317     obj 9.632265208120488     pen 3.0000000000000018\n",
      "Iteration   117 :    vol 0.47093082076978193     obj 9.652069595672884     pen 3.0000000000000018\n",
      "Iteration   118 :    vol 0.4709325794976686     obj 9.672524315826545     pen 3.0000000000000018\n",
      "Iteration   119 :    vol 0.470928275092858     obj 9.693274063019654     pen 3.0000000000000018\n",
      "Iteration   120 :    vol 0.47092613683365103     obj 9.713770869686844     pen 3.0000000000000018\n",
      "Iteration   121 :    vol 0.4709244051024749     obj 9.734239923505664     pen 3.0000000000000018\n",
      "Iteration   122 :    vol 0.47092598148504644     obj 9.75449745905562     pen 3.0000000000000018\n",
      "Iteration   123 :    vol 0.4709330622454231     obj 9.774240664998064     pen 3.0000000000000018\n",
      "Iteration   124 :    vol 0.47092788424713894     obj 9.794193367545304     pen 3.0000000000000018\n",
      "Iteration   125 :    vol 0.47093035878494144     obj 9.813846764813858     pen 3.0000000000000018\n",
      "Iteration   126 :    vol 0.4709305306008649     obj 9.833687326092315     pen 3.0000000000000018\n",
      "Iteration   127 :    vol 0.4709248628177276     obj 9.85386674063197     pen 3.0000000000000018\n",
      "Iteration   128 :    vol 0.470933076817259     obj 9.873977334036978     pen 3.0000000000000018\n",
      "Iteration   129 :    vol 0.4709301567374636     obj 9.893975628816703     pen 3.0000000000000018\n",
      "Iteration   130 :    vol 0.47092608092486427     obj 9.91372472434797     pen 3.0000000000000018\n",
      "Iteration   131 :    vol 0.47092474806360557     obj 9.933072030110072     pen 3.0000000000000018\n",
      "Iteration   132 :    vol 0.47092430052169676     obj 9.951647036682829     pen 3.0000000000000018\n",
      "Iteration   133 :    vol 0.4709289907157234     obj 9.969454073690184     pen 3.0000000000000018\n",
      "Iteration   134 :    vol 0.4709284429430881     obj 9.986939735258566     pen 3.0000000000000018\n",
      "Iteration   135 :    vol 0.47092460955061705     obj 10.004302056584734     pen 3.0000000000000018\n",
      "Iteration   136 :    vol 0.4709291405972362     obj 10.021176575767884     pen 3.0000000000000018\n",
      "Iteration   137 :    vol 0.4709310964980596     obj 10.038103118462706     pen 3.0000000000000018\n",
      "Iteration   138 :    vol 0.47093218057204284     obj 10.05502415843199     pen 3.0000000000000018\n",
      "Iteration   139 :    vol 0.47092419724061463     obj 10.072186824844946     pen 3.0000000000000018\n",
      "Iteration   140 :    vol 0.47092924297819233     obj 10.088786786703519     pen 3.0000000000000018\n",
      "Iteration   141 :    vol 0.4709321310878682     obj 10.105049274565442     pen 3.0000000000000018\n",
      "Iteration   142 :    vol 0.4709322436988906     obj 10.120817707952561     pen 3.0000000000000018\n",
      "Iteration   143 :    vol 0.4709306603110236     obj 10.136114248324693     pen 3.0000000000000018\n",
      "Iteration   144 :    vol 0.47092924969425515     obj 10.150903020551615     pen 3.0000000000000018\n",
      "Iteration   145 :    vol 0.47092948638899806     obj 10.165457246993931     pen 3.0000000000000018\n",
      "Iteration   146 :    vol 0.4709308451377195     obj 10.179685333051202     pen 3.0000000000000018\n",
      "Iteration   147 :    vol 0.47092444049656873     obj 10.193812836802689     pen 3.0000000000000018\n",
      "Iteration   148 :    vol 0.4709315273390295     obj 10.207566678177598     pen 3.0000000000000018\n",
      "Iteration   149 :    vol 0.4709277973001359     obj 10.221901973957625     pen 3.0000000000000018\n",
      "Iteration   150 :    vol 0.4709249577128925     obj 10.236133152435695     pen 3.0000000000000018\n",
      "Iteration   150 :    vol 0.4709249577128925     cobj 10.236133152435695     pen 3.0000000000000018\n",
      "TOTAL NUMBER OF ITERATIONS : 150\n"
     ]
    }
   ],
   "source": [
    "try:\n",
    "    for i in range(300):\n",
    "        optres = next(oc)\n",
    "        print(\"Iteration   {} :    vol {}     obj {}     pen {}\".\\\n",
    "            format(optres.n, optres.vol, optres.obj, optres.pen))\n",
    "except StopIteration:\n",
    "    print(\"Iteration   {} :    vol {}     cobj {}     pen {}\".\\\n",
    "            format(optres.n, optres.vol, optres.obj, optres.pen))\n",
    "finally:\n",
    "    print(\"TOTAL NUMBER OF ITERATIONS : {}\".format(optres.n))"
   ]
  },
  {
   "cell_type": "code",
   "execution_count": 31,
   "metadata": {},
   "outputs": [],
   "source": [
    "from dewloosh.geom import PolyData, Tetra"
   ]
  },
  {
   "cell_type": "code",
   "execution_count": 33,
   "metadata": {},
   "outputs": [],
   "source": [
    "topo_opt = topo[np.where(optres.x >= 0.99)[0]]\n",
    "pd = PolyData(coords=coords, topo=topo_opt, celltype=Tetra)\n",
    "pd.plot(notebook=False)"
   ]
  }
 ],
 "metadata": {
  "interpreter": {
   "hash": "8d15e2cb4dca8274af5fb092bbadab583a099b53b169f927cb892edc8b735b32"
  },
  "kernelspec": {
   "display_name": "Python 3.8.10 64-bit ('.dewloosh': venv)",
   "language": "python",
   "name": "python3"
  },
  "language_info": {
   "codemirror_mode": {
    "name": "ipython",
    "version": 3
   },
   "file_extension": ".py",
   "mimetype": "text/x-python",
   "name": "python",
   "nbconvert_exporter": "python",
   "pygments_lexer": "ipython3",
   "version": "3.8.10"
  },
  "orig_nbformat": 4
 },
 "nbformat": 4,
 "nbformat_minor": 2
}

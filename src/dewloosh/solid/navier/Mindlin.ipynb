{
 "cells": [
  {
   "cell_type": "code",
   "execution_count": 1,
   "metadata": {},
   "outputs": [],
   "source": [
    "import numpy as np\n",
    "\n",
    "size = Lx, Ly = (6, 8)\n",
    "E = 2.89e7\n",
    "nu = 0.2\n",
    "t = 0.25"
   ]
  },
  {
   "cell_type": "code",
   "execution_count": 2,
   "metadata": {},
   "outputs": [],
   "source": [
    "G = E/2/(1+nu)\n",
    "D = np.array([[1, nu, 0], [nu, 1, 0], [0., 0, (1-nu)/2]]) * t**3 * (E / (1-nu**2)) / 12\n",
    "S = np.array([[G, 0], [0, G]]) * t"
   ]
  },
  {
   "cell_type": "code",
   "execution_count": 3,
   "metadata": {},
   "outputs": [],
   "source": [
    "loads = {\n",
    "        'LG1' : {\n",
    "            'LC1' : {\n",
    "                'type' : 'rect',\n",
    "                'points' : [[0, 0], [Lx, Ly]],\n",
    "                'value' : [0, 0, -10],\n",
    "                    },\n",
    "            'LC2' : {\n",
    "                'type' : 'rect',\n",
    "                'region' : [0.2*Lx, 0.5*Ly, 0.2*Lx, 0.3*Ly],\n",
    "                'value' : [0, 0, -100],\n",
    "                    }\n",
    "                },\n",
    "        'LG2' : {\n",
    "            'LC3' : {\n",
    "                'type' : 'point',\n",
    "                'point' : [Lx/3, Ly/2],\n",
    "                'value' : [0, 0, -10],\n",
    "                    },\n",
    "            'LC4' : {\n",
    "                'type' : 'point',\n",
    "                'point' : [2*Lx/3, Ly/2],\n",
    "                'value' : [0, 0, 10],\n",
    "                    }\n",
    "                },\n",
    "        'dummy1' : 10\n",
    "            }"
   ]
  },
  {
   "cell_type": "code",
   "execution_count": 4,
   "metadata": {},
   "outputs": [],
   "source": [
    "from dewloosh.solid.navier import NavierProblem\n",
    "\n",
    "Problem = NavierProblem(size, (50, 50), D=D, S=S, model='kirchhoff')\n",
    "Loads = Problem.add_loads_from_dict(loads)\n",
    "Problem.solve()"
   ]
  },
  {
   "cell_type": "code",
   "execution_count": 5,
   "metadata": {},
   "outputs": [],
   "source": [
    "from dewloosh.geom import grid, PolyData\n",
    "from dewloosh.geom.tri.trimesh import triangulate\n",
    "from dewloosh.geom.topo.tr import Q4_to_T3\n",
    "from dewloosh.geom.tri.triplot import triplot\n",
    "import matplotlib.pyplot as plt\n",
    "from matplotlib import gridspec\n",
    "plt.style.use('default')\n",
    "\n",
    "shape = nx, ny = (30, 40)\n",
    "gridparams = {\n",
    "    'size' : size,\n",
    "    'shape' : shape,\n",
    "    'origo' : (0, 0),\n",
    "    'start' : 0,\n",
    "    'eshape' : 'Q4'\n",
    "    }\n",
    "coords_, topo = grid(**gridparams)\n",
    "coords = np.zeros((coords_.shape[0], 3))\n",
    "coords[:, :2] = coords_[:, :]\n",
    "del coords_\n",
    "coords, triangles = Q4_to_T3(coords, topo)\n",
    "\n",
    "triobj = triangulate(points=coords[:, :2], triangles=triangles)[-1]\n",
    "Mesh = PolyData(coords=coords, topo=triangles)\n",
    "centers = Mesh.centers()"
   ]
  },
  {
   "cell_type": "code",
   "execution_count": 6,
   "metadata": {},
   "outputs": [],
   "source": [
    "Problem.postproc(centers[:, :2], squeeze=False, cleanup=False)"
   ]
  },
  {
   "cell_type": "code",
   "execution_count": 7,
   "metadata": {},
   "outputs": [],
   "source": [
    "UZ, ROTX, ROTY, CX, CY, CXY, EXZ, EYZ, MX, MY, MXY, QX, QY = list(range(13))\n",
    "labels = {UZ : 'UZ', ROTX : 'ROTX', ROTY : 'ROTY', CX : 'CX', \n",
    "          CY : 'CY', CXY : 'CXY', EXZ : 'EXZ', EYZ : 'EYZ', \n",
    "          MX : 'MX', MY : 'MY', MXY : 'MXY', QX : 'QX', QY : 'QY'}"
   ]
  },
  {
   "cell_type": "code",
   "execution_count": 8,
   "metadata": {},
   "outputs": [],
   "source": [
    "%matplotlib qt"
   ]
  },
  {
   "cell_type": "code",
   "execution_count": 9,
   "metadata": {},
   "outputs": [],
   "source": [
    "res2d = Loads['LG1', 'LC2'].res2d"
   ]
  },
  {
   "cell_type": "code",
   "execution_count": 10,
   "metadata": {},
   "outputs": [],
   "source": [
    "fig = plt.figure(figsize=(8, 3))  # in inches\n",
    "fig.patch.set_facecolor('white')\n",
    "cmap = 'jet'\n",
    "gs = gridspec.GridSpec(1, 3)\n",
    "for i, key in enumerate([UZ, ROTX, ROTY]):\n",
    "    ax = fig.add_subplot(gs[i])\n",
    "    triplot(triobj, ax=ax, fig=fig, title=labels[key],\n",
    "            data=res2d[key, :], cmap=cmap, axis='off')\n",
    "fig.tight_layout()\n",
    "\n",
    "fig = plt.figure(figsize=(12, 3))  # in inches\n",
    "fig.patch.set_facecolor('white')\n",
    "cmap = 'seismic'\n",
    "gs = gridspec.GridSpec(1, 5)\n",
    "for i, key in enumerate([MX, MY, MXY, QX, QY]):\n",
    "    ax = fig.add_subplot(gs[i])\n",
    "    triplot(triobj, ax=ax, fig=fig, title=labels[key],\n",
    "            data=res2d[key, :], cmap=cmap, axis='off')\n",
    "fig.tight_layout()"
   ]
  }
 ],
 "metadata": {
  "interpreter": {
   "hash": "8d15e2cb4dca8274af5fb092bbadab583a099b53b169f927cb892edc8b735b32"
  },
  "kernelspec": {
   "display_name": "Python 3.8.10 64-bit ('.dewloosh': venv)",
   "language": "python",
   "name": "python3"
  },
  "language_info": {
   "codemirror_mode": {
    "name": "ipython",
    "version": 3
   },
   "file_extension": ".py",
   "mimetype": "text/x-python",
   "name": "python",
   "nbconvert_exporter": "python",
   "pygments_lexer": "ipython3",
   "version": "3.8.10"
  },
  "orig_nbformat": 4
 },
 "nbformat": 4,
 "nbformat_minor": 2
}

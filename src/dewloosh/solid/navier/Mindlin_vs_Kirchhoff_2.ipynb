{
 "cells": [
  {
   "cell_type": "code",
   "execution_count": 24,
   "metadata": {},
   "outputs": [],
   "source": [
    "import numpy as np\n",
    "from copy import deepcopy\n",
    "\n",
    "size = Lx, Ly = (600., 800.)\n",
    "E = 2890.\n",
    "nu = 0.2\n",
    "t = 50."
   ]
  },
  {
   "cell_type": "code",
   "execution_count": 25,
   "metadata": {},
   "outputs": [],
   "source": [
    "G = E/2/(1+nu)\n",
    "D = np.array([[1, nu, 0], [nu, 1, 0], [0., 0, (1-nu)/2]]) * t**3 * (E / (1-nu**2)) / 12\n",
    "S = np.array([[G, 0], [0, G]]) * t * 5 / 6"
   ]
  },
  {
   "cell_type": "code",
   "execution_count": 26,
   "metadata": {},
   "outputs": [],
   "source": [
    "from dewloosh.solid.navier.loads import LoadGroup, RectLoad, PointLoad\n",
    "loads = {\n",
    "        'type' : 'rect',\n",
    "        'key' : 'LC',\n",
    "        'region' : [0.2*Lx, 0.5*Ly, 0.2*Lx, 0.3*Ly],\n",
    "        'value' : [0, 0, -0.1],\n",
    "        }"
   ]
  },
  {
   "cell_type": "code",
   "execution_count": 27,
   "metadata": {},
   "outputs": [],
   "source": [
    "from dewloosh.geom import grid, PolyData\n",
    "from dewloosh.geom.tri.trimesh import triangulate\n",
    "from dewloosh.geom.topo.tr import Q4_to_T3\n",
    "from dewloosh.geom.tri.triplot import triplot\n",
    "import matplotlib.pyplot as plt\n",
    "from matplotlib import gridspec\n",
    "plt.style.use('default')\n",
    "\n",
    "shape = nx, ny = (30, 40)\n",
    "gridparams = {\n",
    "    'size' : size,\n",
    "    'shape' : shape,\n",
    "    'origo' : (0, 0),\n",
    "    'start' : 0,\n",
    "    'eshape' : 'Q4'\n",
    "    }\n",
    "coords_, topo = grid(**gridparams)\n",
    "coords = np.zeros((coords_.shape[0], 3))\n",
    "coords[:, :2] = coords_[:, :]\n",
    "del coords_\n",
    "coords, triangles = Q4_to_T3(coords, topo)\n",
    "\n",
    "triobj = triangulate(points=coords[:, :2], triangles=triangles)[-1]\n",
    "Mesh = PolyData(coords=coords, topo=triangles)\n",
    "centers = Mesh.centers()"
   ]
  },
  {
   "cell_type": "code",
   "execution_count": 28,
   "metadata": {},
   "outputs": [],
   "source": [
    "from dewloosh.solid.navier import NavierProblem\n",
    "\n",
    "Mindlin = NavierProblem(size, (50, 50), D=D, S=S, model='m')\n",
    "Mindlin.add_loads_from_dict(deepcopy(loads))\n",
    "Mindlin.solve()\n",
    "Mindlin.postproc(centers[:, :2], cleanup=False)\n",
    "res2dM = Mindlin.loads.res2d\n",
    "\n",
    "Kirchhoff = NavierProblem(size, (50, 50), D=D, S=S, model='k')\n",
    "Kirchhoff.add_loads_from_dict(deepcopy(loads))\n",
    "Kirchhoff.solve()\n",
    "Kirchhoff.postproc(centers[:, :2], cleanup=False)\n",
    "res2dK = Kirchhoff.loads.res2d"
   ]
  },
  {
   "cell_type": "code",
   "execution_count": 29,
   "metadata": {},
   "outputs": [],
   "source": [
    "UZ, ROTX, ROTY, CX, CY, CXY, EXZ, EYZ, MX, MY, MXY, QX, QY = list(range(13))\n",
    "labels = {UZ : 'UZ', ROTX : 'ROTX', ROTY : 'ROTY', CX : 'CX', \n",
    "          CY : 'CY', CXY : 'CXY', EXZ : 'EXZ', EYZ : 'EYZ', \n",
    "          MX : 'MX', MY : 'MY', MXY : 'MXY', QX : 'QX', QY : 'QY'}"
   ]
  },
  {
   "cell_type": "code",
   "execution_count": 30,
   "metadata": {},
   "outputs": [],
   "source": [
    "%matplotlib qt"
   ]
  },
  {
   "cell_type": "code",
   "execution_count": 31,
   "metadata": {},
   "outputs": [],
   "source": [
    "res2d = 100 * (res2dK - res2dM) / res2dM\n",
    "\n",
    "fig = plt.figure(figsize=(8, 3))  # in inches\n",
    "fig.patch.set_facecolor('white')\n",
    "cmap = 'jet'\n",
    "gs = gridspec.GridSpec(1, 3)\n",
    "for i, key in enumerate([UZ, ROTX, ROTY]):\n",
    "    ax = fig.add_subplot(gs[i])\n",
    "    triplot(triobj, ax=ax, fig=fig, title=labels[key],\n",
    "            data=res2d[key, :], cmap=cmap, axis='off')\n",
    "fig.tight_layout()\n",
    "\n",
    "fig = plt.figure(figsize=(12, 3))  # in inches\n",
    "fig.patch.set_facecolor('white')\n",
    "cmap = 'seismic'\n",
    "gs = gridspec.GridSpec(1, 5)\n",
    "for i, key in enumerate([MX, MY, MXY, QX, QY]):\n",
    "    ax = fig.add_subplot(gs[i])\n",
    "    triplot(triobj, ax=ax, fig=fig, title=labels[key],\n",
    "            data=res2d[key, :], cmap=cmap, axis='off')\n",
    "fig.tight_layout()"
   ]
  },
  {
   "cell_type": "code",
   "execution_count": 32,
   "metadata": {},
   "outputs": [],
   "source": [
    "from dewloosh.geom import mesh1d_uniform\n",
    "from dewloosh.geom.utils import cell_coords_bulk, pcoords_to_coords\n",
    "from dewloosh.solid.navier.plot import plot_path"
   ]
  },
  {
   "cell_type": "code",
   "execution_count": 33,
   "metadata": {},
   "outputs": [
    {
     "data": {
      "text/plain": [
       "Text(0.5, 0.98, 'Load Case 2')"
      ]
     },
     "execution_count": 33,
     "metadata": {},
     "output_type": "execute_result"
    }
   ],
   "source": [
    "coords = np.array([[0., 0, 0.], [0, Ly, 0]], dtype=float)\n",
    "topo = np.array([[0, 1]], dtype=np.int32)\n",
    "coords, topo = mesh1d_uniform(coords, topo, 2, N=50)\n",
    "\n",
    "ecoords = cell_coords_bulk(coords, topo[0])\n",
    "pcoords = np.array([0.0, 1.0])\n",
    "datacoords = pcoords_to_coords(pcoords, ecoords)\n",
    "\n",
    "Kirchhoff.postproc(datacoords[:, :2], cleanup=False)\n",
    "dataK = Kirchhoff.loads.res2d\n",
    "\n",
    "Mindlin.postproc(datacoords[:, :2], cleanup=False)\n",
    "dataM = Mindlin.loads.res2d\n",
    "\n",
    "fig = plt.figure(figsize=(20, 4))  # in inches\n",
    "fig.patch.set_facecolor('white')\n",
    "gs = gridspec.GridSpec(1, 5, width_ratios=np.full(5, 1))\n",
    "for i, key in enumerate([MX, MY, MXY, QX, QY]):\n",
    "    ax = fig.add_subplot(gs[i])\n",
    "    plot_path(ax, dataK[key], datacoords, normalize=False, \n",
    "              markersize=10, title=labels[key])\n",
    "    plot_path(ax, dataM[key], datacoords, normalize=False, \n",
    "              markersize=5, markercolor='b', title=labels[key])    \n",
    "fig.suptitle('Load Case 2') "
   ]
  },
  {
   "cell_type": "code",
   "execution_count": 34,
   "metadata": {},
   "outputs": [
    {
     "data": {
      "text/plain": [
       "Text(0.5, 0.98, 'Load Case 2')"
      ]
     },
     "execution_count": 34,
     "metadata": {},
     "output_type": "execute_result"
    }
   ],
   "source": [
    "coords = np.array([[0., 0., 0.], [Lx, 0, 0],\n",
    "                   [Lx, Ly, 0], [0, Ly, 0]], dtype=float)\n",
    "topo = np.array([[0, 1], [1, 2], [2, 3], [3, 0]], dtype=np.int32)\n",
    "coords, topo = mesh1d_uniform(coords, topo, 2, N=50)\n",
    "topo = np.vstack(list(topo[i] for i in range(len(topo))))\n",
    "\n",
    "ecoords = cell_coords_bulk(coords, topo)\n",
    "pcoords = np.array([0.0, 1.0])\n",
    "datacoords = pcoords_to_coords(pcoords, ecoords)\n",
    "\n",
    "Kirchhoff.postproc(datacoords[:, :2], cleanup=False)\n",
    "data = Kirchhoff.loads.res2d\n",
    "\n",
    "fig = plt.figure(figsize=(8, 3))  # in inches\n",
    "fig.patch.set_facecolor('white')\n",
    "gs = gridspec.GridSpec(1, 2, width_ratios=np.full(2, 1))\n",
    "for i, key in enumerate([QX, QY]):\n",
    "    plot_path(fig.add_subplot(gs[i]), data[key], datacoords, \n",
    "              normalize=False, markersize=10, title=labels[key])    \n",
    "fig.suptitle('Load Case 2') "
   ]
  },
  {
   "cell_type": "code",
   "execution_count": 35,
   "metadata": {},
   "outputs": [
    {
     "data": {
      "text/plain": [
       "Text(0.5, 0.98, 'Load Case 2')"
      ]
     },
     "execution_count": 35,
     "metadata": {},
     "output_type": "execute_result"
    }
   ],
   "source": [
    "coords = np.array([[0., 0., 0.], [Lx, 0, 0],\n",
    "                   [Lx, Ly, 0], [0, Ly, 0]], dtype=float)\n",
    "topo = np.array([[0, 1], [1, 2], [2, 3], [3, 0]], dtype=np.int32)\n",
    "coords, topo = mesh1d_uniform(coords, topo, 2, N=50)\n",
    "topo = np.vstack(list(topo[i] for i in range(len(topo))))\n",
    "\n",
    "ecoords = cell_coords_bulk(coords, topo)\n",
    "pcoords = np.array([0.0, 1.0])\n",
    "datacoords = pcoords_to_coords(pcoords, ecoords)\n",
    "\n",
    "Mindlin.postproc(datacoords[:, :2], cleanup=False)\n",
    "data = Mindlin.loads.res2d\n",
    "\n",
    "fig = plt.figure(figsize=(8, 3))  # in inches\n",
    "fig.patch.set_facecolor('white')\n",
    "gs = gridspec.GridSpec(1, 2, width_ratios=np.full(2, 1))\n",
    "for i, key in enumerate([QX, QY]):\n",
    "    plot_path(fig.add_subplot(gs[i]), data[key], datacoords, \n",
    "              normalize=False, markersize=10, title=labels[key])    \n",
    "fig.suptitle('Load Case 2') "
   ]
  },
  {
   "cell_type": "code",
   "execution_count": 36,
   "metadata": {},
   "outputs": [
    {
     "data": {
      "text/plain": [
       "0.9852109121661474"
      ]
     },
     "execution_count": 36,
     "metadata": {},
     "output_type": "execute_result"
    }
   ],
   "source": [
    "data[QX].max()"
   ]
  }
 ],
 "metadata": {
  "interpreter": {
   "hash": "8d15e2cb4dca8274af5fb092bbadab583a099b53b169f927cb892edc8b735b32"
  },
  "kernelspec": {
   "display_name": "Python 3.8.10 64-bit ('.dewloosh': venv)",
   "language": "python",
   "name": "python3"
  },
  "language_info": {
   "codemirror_mode": {
    "name": "ipython",
    "version": 3
   },
   "file_extension": ".py",
   "mimetype": "text/x-python",
   "name": "python",
   "nbconvert_exporter": "python",
   "pygments_lexer": "ipython3",
   "version": "3.8.10"
  },
  "orig_nbformat": 4
 },
 "nbformat": 4,
 "nbformat_minor": 2
}

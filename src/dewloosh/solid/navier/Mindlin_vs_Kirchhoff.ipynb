{
 "cells": [
  {
   "cell_type": "code",
   "execution_count": 41,
   "metadata": {},
   "outputs": [],
   "source": [
    "import numpy as np\n",
    "from copy import deepcopy\n",
    "\n",
    "size = Lx, Ly = (600., 800.)\n",
    "E = 2890.\n",
    "nu = 0.2\n",
    "t = 50."
   ]
  },
  {
   "cell_type": "code",
   "execution_count": 42,
   "metadata": {},
   "outputs": [],
   "source": [
    "G = E/2/(1+nu)\n",
    "D = np.array([[1, nu, 0], [nu, 1, 0], [0., 0, (1-nu)/2]]) * t**3 * (E / (1-nu**2)) / 12\n",
    "S = np.array([[G, 0], [0, G]]) * t * 5 / 6"
   ]
  },
  {
   "cell_type": "code",
   "execution_count": 43,
   "metadata": {},
   "outputs": [],
   "source": [
    "loads = {\n",
    "    'LG1' : {\n",
    "        'LC1' : {\n",
    "            'type' : 'rect',\n",
    "            'points' : [[0, 0], [Lx, Ly]],\n",
    "            'value' : [0, 0, -0.01],\n",
    "                },\n",
    "        'LC2' : {\n",
    "            'type' : 'rect',\n",
    "            'region' : [0.2*Lx, 0.5*Ly, 0.2*Lx, 0.3*Ly],\n",
    "            'value' : [0, 0, -0.1],\n",
    "                }\n",
    "            },\n",
    "    'LG2' : {\n",
    "        'LC3' : {\n",
    "            'type' : 'point',\n",
    "            'point' : [Lx/3, Ly/2],\n",
    "            'value' : [0, 0, -10],\n",
    "                },\n",
    "        'LC4' : {\n",
    "            'type' : 'point',\n",
    "            'point' : [2*Lx/3, Ly/2],\n",
    "            'value' : [0, 0, 10],\n",
    "                }\n",
    "            },\n",
    "    'dummy1' : 10\n",
    "        }\n"
   ]
  },
  {
   "cell_type": "code",
   "execution_count": 44,
   "metadata": {},
   "outputs": [],
   "source": [
    "from dewloosh.geom import grid, PolyData\n",
    "from dewloosh.geom.tri.trimesh import triangulate\n",
    "from dewloosh.geom.topo.tr import Q4_to_T3\n",
    "from dewloosh.geom.tri.triplot import triplot\n",
    "import matplotlib.pyplot as plt\n",
    "from matplotlib import gridspec\n",
    "plt.style.use('default')\n",
    "\n",
    "shape = nx, ny = (30, 40)\n",
    "gridparams = {\n",
    "    'size' : size,\n",
    "    'shape' : shape,\n",
    "    'origo' : (0, 0),\n",
    "    'start' : 0,\n",
    "    'eshape' : 'Q4'\n",
    "    }\n",
    "coords_, topo = grid(**gridparams)\n",
    "coords = np.zeros((coords_.shape[0], 3))\n",
    "coords[:, :2] = coords_[:, :]\n",
    "del coords_\n",
    "coords, triangles = Q4_to_T3(coords, topo)\n",
    "\n",
    "triobj = triangulate(points=coords[:, :2], triangles=triangles)[-1]\n",
    "Mesh = PolyData(coords=coords, topo=triangles)\n",
    "centers = Mesh.centers()"
   ]
  },
  {
   "cell_type": "code",
   "execution_count": 45,
   "metadata": {},
   "outputs": [],
   "source": [
    "from dewloosh.solid.navier import NavierProblem\n",
    "\n",
    "Mindlin = NavierProblem(size, (50, 50), D=D, S=S, model='mindlin')\n",
    "LoadsM = Mindlin.add_loads_from_dict(deepcopy(loads))\n",
    "Mindlin.solve()\n",
    "Mindlin.postproc(centers[:, :2], cleanup=False)\n",
    "res2dM = LoadsM['LG1', 'LC2'].res2d\n",
    "\n",
    "Kirchhoff = NavierProblem(size, (50, 50), D=D, S=S, model='kirchhoff')\n",
    "LoadsK = Kirchhoff.add_loads_from_dict(deepcopy(loads))\n",
    "Kirchhoff.solve()\n",
    "Kirchhoff.postproc(centers[:, :2], cleanup=False)\n",
    "res2dK = LoadsK['LG1', 'LC2'].res2d"
   ]
  },
  {
   "cell_type": "code",
   "execution_count": 47,
   "metadata": {},
   "outputs": [],
   "source": [
    "UZ, ROTX, ROTY, CX, CY, CXY, EXZ, EYZ, MX, MY, MXY, QX, QY = list(range(13))\n",
    "labels = {UZ : 'UZ', ROTX : 'ROTX', ROTY : 'ROTY', CX : 'CX', \n",
    "          CY : 'CY', CXY : 'CXY', EXZ : 'EXZ', EYZ : 'EYZ', \n",
    "          MX : 'MX', MY : 'MY', MXY : 'MXY', QX : 'QX', QY : 'QY'}"
   ]
  },
  {
   "cell_type": "code",
   "execution_count": 48,
   "metadata": {},
   "outputs": [],
   "source": [
    "%matplotlib qt"
   ]
  },
  {
   "cell_type": "code",
   "execution_count": 49,
   "metadata": {},
   "outputs": [],
   "source": [
    "res2d = 100 * (res2dK - res2dM) / res2dM\n",
    "\n",
    "fig = plt.figure(figsize=(8, 3))  # in inches\n",
    "fig.patch.set_facecolor('white')\n",
    "cmap = 'jet'\n",
    "gs = gridspec.GridSpec(1, 3)\n",
    "for i, key in enumerate([UZ, ROTX, ROTY]):\n",
    "    ax = fig.add_subplot(gs[i])\n",
    "    triplot(triobj, ax=ax, fig=fig, title=labels[key],\n",
    "            data=res2d[key, :], cmap=cmap, axis='off')\n",
    "fig.tight_layout()\n",
    "\n",
    "fig = plt.figure(figsize=(12, 3))  # in inches\n",
    "fig.patch.set_facecolor('white')\n",
    "cmap = 'seismic'\n",
    "gs = gridspec.GridSpec(1, 5)\n",
    "for i, key in enumerate([MX, MY, MXY, QX, QY]):\n",
    "    ax = fig.add_subplot(gs[i])\n",
    "    triplot(triobj, ax=ax, fig=fig, title=labels[key],\n",
    "            data=res2d[key, :], cmap=cmap, axis='off')\n",
    "fig.tight_layout()"
   ]
  },
  {
   "cell_type": "code",
   "execution_count": 15,
   "metadata": {},
   "outputs": [],
   "source": [
    "from dewloosh.geom import mesh1d_uniform\n",
    "from dewloosh.geom.utils import cell_coords_bulk, pcoords_to_coords\n",
    "from dewloosh.solid.navier.plot import plot_path"
   ]
  },
  {
   "cell_type": "code",
   "execution_count": 16,
   "metadata": {},
   "outputs": [
    {
     "data": {
      "text/plain": [
       "Text(0.5, 0.98, 'Load Case 2')"
      ]
     },
     "execution_count": 16,
     "metadata": {},
     "output_type": "execute_result"
    }
   ],
   "source": [
    "coords = np.array([[0., 0, 0.], [0, Ly, 0]], dtype=float)\n",
    "topo = np.array([[0, 1]], dtype=np.int32)\n",
    "coords, topo = mesh1d_uniform(coords, topo, 2, N=50)\n",
    "\n",
    "ecoords = cell_coords_bulk(coords, topo[0])\n",
    "pcoords = np.array([0.0, 1.0])\n",
    "datacoords = pcoords_to_coords(pcoords, ecoords)\n",
    "\n",
    "Kirchhoff.postproc(datacoords[:, :2], cleanup=False)\n",
    "dataK = LoadsK['LG1', 'LC1'].res2d\n",
    "\n",
    "Mindlin.postproc(datacoords[:, :2], cleanup=False)\n",
    "dataM = LoadsM['LG1', 'LC1'].res2d\n",
    "\n",
    "fig = plt.figure(figsize=(20, 4))  # in inches\n",
    "fig.patch.set_facecolor('white')\n",
    "gs = gridspec.GridSpec(1, 5, width_ratios=np.full(5, 1))\n",
    "for i, key in enumerate([MX, MY, MXY, QX, QY]):\n",
    "    ax = fig.add_subplot(gs[i])\n",
    "    plot_path(ax, dataK[key], datacoords, normalize=False, \n",
    "              markersize=10, title=labels[key])\n",
    "    plot_path(ax, dataM[key], datacoords, normalize=False, \n",
    "              markersize=5, markercolor='b', title=labels[key])    \n",
    "fig.suptitle('Load Case 2') "
   ]
  },
  {
   "cell_type": "code",
   "execution_count": 17,
   "metadata": {},
   "outputs": [
    {
     "data": {
      "text/plain": [
       "Text(0.5, 0.98, 'Load Case 2')"
      ]
     },
     "execution_count": 17,
     "metadata": {},
     "output_type": "execute_result"
    }
   ],
   "source": [
    "coords = np.array([[0., 0., 0.], [Lx, 0, 0],\n",
    "                   [Lx, Ly, 0], [0, Ly, 0]], dtype=float)\n",
    "topo = np.array([[0, 1], [1, 2], [2, 3], [3, 0]], dtype=np.int32)\n",
    "coords, topo = mesh1d_uniform(coords, topo, 2, N=50)\n",
    "topo = np.vstack(list(topo[i] for i in range(len(topo))))\n",
    "\n",
    "ecoords = cell_coords_bulk(coords, topo)\n",
    "pcoords = np.array([0.0, 1.0])\n",
    "datacoords = pcoords_to_coords(pcoords, ecoords)\n",
    "\n",
    "Kirchhoff.postproc(datacoords[:, :2], cleanup=False)\n",
    "data = LoadsK['LG1', 'LC1'].res2d\n",
    "\n",
    "fig = plt.figure(figsize=(8, 3))  # in inches\n",
    "fig.patch.set_facecolor('white')\n",
    "gs = gridspec.GridSpec(1, 2, width_ratios=np.full(2, 1))\n",
    "for i, key in enumerate([QX, QY]):\n",
    "    plot_path(fig.add_subplot(gs[i]), data[key], datacoords, \n",
    "              normalize=False, markersize=10, title=labels[key])    \n",
    "fig.suptitle('Load Case 2') "
   ]
  },
  {
   "cell_type": "code",
   "execution_count": 18,
   "metadata": {},
   "outputs": [
    {
     "data": {
      "text/plain": [
       "2.385096082125504"
      ]
     },
     "execution_count": 18,
     "metadata": {},
     "output_type": "execute_result"
    }
   ],
   "source": [
    "data[QX].max()"
   ]
  },
  {
   "cell_type": "code",
   "execution_count": 19,
   "metadata": {},
   "outputs": [
    {
     "data": {
      "text/plain": [
       "Text(0.5, 0.98, 'Load Case 2')"
      ]
     },
     "execution_count": 19,
     "metadata": {},
     "output_type": "execute_result"
    }
   ],
   "source": [
    "coords = np.array([[0., 0., 0.], [Lx, 0, 0],\n",
    "                   [Lx, Ly, 0], [0, Ly, 0]], dtype=float)\n",
    "topo = np.array([[0, 1], [1, 2], [2, 3], [3, 0]], dtype=np.int32)\n",
    "coords, topo = mesh1d_uniform(coords, topo, 2, N=50)\n",
    "topo = np.vstack(list(topo[i] for i in range(len(topo))))\n",
    "\n",
    "ecoords = cell_coords_bulk(coords, topo)\n",
    "pcoords = np.array([0.0, 1.0])\n",
    "datacoords = pcoords_to_coords(pcoords, ecoords)\n",
    "\n",
    "Mindlin.postproc(datacoords[:, :2], cleanup=False)\n",
    "data = LoadsM['LG1', 'LC1'].res2d\n",
    "\n",
    "fig = plt.figure(figsize=(8, 3))  # in inches\n",
    "fig.patch.set_facecolor('white')\n",
    "gs = gridspec.GridSpec(1, 2, width_ratios=np.full(2, 1))\n",
    "for i, key in enumerate([QX, QY]):\n",
    "    plot_path(fig.add_subplot(gs[i]), data[key], datacoords, \n",
    "              normalize=False, markersize=10, title=labels[key])    \n",
    "fig.suptitle('Load Case 2') "
   ]
  },
  {
   "cell_type": "code",
   "execution_count": 20,
   "metadata": {},
   "outputs": [
    {
     "data": {
      "text/plain": [
       "2.385096082125496"
      ]
     },
     "execution_count": 20,
     "metadata": {},
     "output_type": "execute_result"
    }
   ],
   "source": [
    "data[QX].max()"
   ]
  },
  {
   "cell_type": "code",
   "execution_count": 21,
   "metadata": {},
   "outputs": [],
   "source": [
    "import sympy as sy\n",
    "from sympy import symbols, Matrix, pycode, simplify"
   ]
  },
  {
   "cell_type": "code",
   "execution_count": 22,
   "metadata": {},
   "outputs": [],
   "source": [
    "P11, P12, P13, P21, P22, P23, P31, P32, P33 = \\\n",
    "    symbols('P_{11} P_{12} P_{13} P_{21} P_{22} P_{23} P_{31} \\\n",
    "            P_{32} P_{33}', real = True)\n",
    "Pij = [[P11, P12, P13], [P21, P22, P23], [P31, P32, P33]]\n",
    "P = sy.Matrix(Pij)\n",
    "detP = P.det()\n",
    "adjP = P.adjugate()\n",
    "invP = adjP / detP\n",
    "subs = {P11 : 'P11', P12 : 'P12', P13 : 'P13', P21:'P21', \n",
    "        P22 : 'P22', P23 : 'P23', P31 : 'P31', P32 : 'P32', \n",
    "        P33 : 'P33'}\n"
   ]
  },
  {
   "cell_type": "code",
   "execution_count": 23,
   "metadata": {},
   "outputs": [
    {
     "data": {
      "text/plain": [
       "'ImmutableDenseMatrix([[P22*P33 - P23*P32, -P12*P33 + P13*P32, P12*P23 - P13*P22], [-P21*P33 + P23*P31, P11*P33 - P13*P31, -P11*P23 + P13*P21], [P21*P32 - P22*P31, -P11*P32 + P12*P31, P11*P22 - P12*P21]])'"
      ]
     },
     "execution_count": 23,
     "metadata": {},
     "output_type": "execute_result"
    }
   ],
   "source": [
    "pycode(simplify(adjP.subs(subs)))"
   ]
  },
  {
   "cell_type": "code",
   "execution_count": 24,
   "metadata": {},
   "outputs": [
    {
     "data": {
      "text/plain": [
       "'P11*P22*P33 - P11*P23*P32 - P12*P21*P33 + P12*P23*P31 + P13*P21*P32 - P13*P22*P31'"
      ]
     },
     "execution_count": 24,
     "metadata": {},
     "output_type": "execute_result"
    }
   ],
   "source": [
    "pycode(simplify(detP.subs(subs)))"
   ]
  }
 ],
 "metadata": {
  "interpreter": {
   "hash": "8d15e2cb4dca8274af5fb092bbadab583a099b53b169f927cb892edc8b735b32"
  },
  "kernelspec": {
   "display_name": "Python 3.8.10 64-bit ('.dewloosh': venv)",
   "language": "python",
   "name": "python3"
  },
  "language_info": {
   "codemirror_mode": {
    "name": "ipython",
    "version": 3
   },
   "file_extension": ".py",
   "mimetype": "text/x-python",
   "name": "python",
   "nbconvert_exporter": "python",
   "pygments_lexer": "ipython3",
   "version": "3.8.10"
  },
  "orig_nbformat": 4
 },
 "nbformat": 4,
 "nbformat_minor": 2
}

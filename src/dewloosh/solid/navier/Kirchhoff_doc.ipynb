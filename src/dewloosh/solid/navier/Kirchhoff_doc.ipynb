{
 "cells": [
  {
   "cell_type": "code",
   "execution_count": 592,
   "metadata": {},
   "outputs": [],
   "source": [
    "import sympy as sy\n",
    "from sympy import symbols, Function, diff, Matrix, MatMul, \\\n",
    "    integrate, Symbol, sin, cos, pi, simplify\n",
    "from dewloosh.solid.navier.symtools import inv_sym_3x3"
   ]
  },
  {
   "cell_type": "code",
   "execution_count": 593,
   "metadata": {},
   "outputs": [],
   "source": [
    "# coordinates in a suitable vector space\n",
    "x, y, z = symbols('x y z', real=True)\n",
    "\n",
    "# kinematic variables\n",
    "w0 = Function('w_0')(x, y)\n",
    "thx = diff(w0, y)\n",
    "thy = -diff(w0, x)"
   ]
  },
  {
   "cell_type": "markdown",
   "metadata": {},
   "source": [
    "Displacement Field"
   ]
  },
  {
   "cell_type": "code",
   "execution_count": 594,
   "metadata": {},
   "outputs": [
    {
     "data": {
      "text/latex": [
       "$\\displaystyle \\left[\\begin{matrix}- z \\frac{\\partial}{\\partial x} \\operatorname{w_{0}}{\\left(x,y \\right)}\\\\- z \\frac{\\partial}{\\partial y} \\operatorname{w_{0}}{\\left(x,y \\right)}\\\\\\operatorname{w_{0}}{\\left(x,y \\right)}\\end{matrix}\\right]$"
      ],
      "text/plain": [
       "Matrix([\n",
       "[-z*Derivative(w_0(x, y), x)],\n",
       "[-z*Derivative(w_0(x, y), y)],\n",
       "[                  w_0(x, y)]])"
      ]
     },
     "execution_count": 594,
     "metadata": {},
     "output_type": "execute_result"
    }
   ],
   "source": [
    "u = z * thy\n",
    "v = -z * thx\n",
    "w = w0\n",
    "disps = [u, v, w]\n",
    "Matrix(disps)"
   ]
  },
  {
   "cell_type": "markdown",
   "metadata": {},
   "source": [
    "Boundary Conditions and Trial Solution"
   ]
  },
  {
   "cell_type": "code",
   "execution_count": 595,
   "metadata": {},
   "outputs": [],
   "source": [
    "mn = m, n = symbols('m n', integer=True, positive=True)\n",
    "Cmn = symbols('C_{mn}', real=True)\n",
    "shape = Lx, Ly = symbols('L_x, L_y', real=True)\n",
    "Sm, Sn = sin(m * pi * x / Lx), sin(n * pi * y / Ly)\n",
    "Cm, Cn = cos(m * pi * x / Lx), cos(n * pi * y / Ly)"
   ]
  },
  {
   "cell_type": "code",
   "execution_count": 596,
   "metadata": {},
   "outputs": [
    {
     "data": {
      "text/latex": [
       "$\\displaystyle \\left[\\begin{matrix}\\frac{\\pi C_{mn} n \\sin{\\left(\\frac{\\pi m x}{L_{x}} \\right)} \\cos{\\left(\\frac{\\pi n y}{L_{y}} \\right)}}{L_{y}}\\\\- \\frac{\\pi C_{mn} m \\sin{\\left(\\frac{\\pi n y}{L_{y}} \\right)} \\cos{\\left(\\frac{\\pi m x}{L_{x}} \\right)}}{L_{x}}\\\\C_{mn} \\sin{\\left(\\frac{\\pi m x}{L_{x}} \\right)} \\sin{\\left(\\frac{\\pi n y}{L_{y}} \\right)}\\end{matrix}\\right]$"
      ],
      "text/plain": [
       "Matrix([\n",
       "[ pi*C_{mn}*n*sin(pi*m*x/L_x)*cos(pi*n*y/L_y)/L_y],\n",
       "[-pi*C_{mn}*m*sin(pi*n*y/L_y)*cos(pi*m*x/L_x)/L_x],\n",
       "[          C_{mn}*sin(pi*m*x/L_x)*sin(pi*n*y/L_y)]])"
      ]
     },
     "execution_count": 596,
     "metadata": {},
     "output_type": "execute_result"
    }
   ],
   "source": [
    "w0_trial = Cmn * Sm * Sn\n",
    "thx_trial = diff(w0_trial, y)\n",
    "thy_trial = -diff(w0_trial, x)\n",
    "trial = {w0 : w0_trial}\n",
    "disps_trial = [thx_trial, thy_trial, w0_trial]\n",
    "Matrix(disps_trial)"
   ]
  },
  {
   "cell_type": "markdown",
   "metadata": {},
   "source": [
    "Strain - Displacement Equations"
   ]
  },
  {
   "cell_type": "code",
   "execution_count": 597,
   "metadata": {},
   "outputs": [
    {
     "data": {
      "text/latex": [
       "$\\displaystyle \\left[\\begin{matrix}- z \\frac{\\partial^{2}}{\\partial x^{2}} \\operatorname{w_{0}}{\\left(x,y \\right)}\\\\- z \\frac{\\partial^{2}}{\\partial y^{2}} \\operatorname{w_{0}}{\\left(x,y \\right)}\\\\- 2 z \\frac{\\partial^{2}}{\\partial y\\partial x} \\operatorname{w_{0}}{\\left(x,y \\right)}\\\\0\\\\0\\end{matrix}\\right]$"
      ],
      "text/plain": [
       "Matrix([\n",
       "[-z*Derivative(w_0(x, y), (x, 2))],\n",
       "[-z*Derivative(w_0(x, y), (y, 2))],\n",
       "[-2*z*Derivative(w_0(x, y), x, y)],\n",
       "[                               0],\n",
       "[                               0]])"
      ]
     },
     "execution_count": 597,
     "metadata": {},
     "output_type": "execute_result"
    }
   ],
   "source": [
    "exx = diff(u, x)\n",
    "eyy = diff(v, y)\n",
    "exy = diff(u, y) + diff(v, x)\n",
    "exz = diff(w, x) + diff(u, z)\n",
    "eyz = diff(w, y) + diff(v, z)\n",
    "strains = [exx, eyy, exy, exz, eyz]\n",
    "Matrix(strains)"
   ]
  },
  {
   "cell_type": "code",
   "execution_count": 598,
   "metadata": {},
   "outputs": [
    {
     "data": {
      "text/latex": [
       "$\\displaystyle \\left[\\begin{matrix}\\frac{\\pi^{2} C_{mn} m^{2} z \\sin{\\left(\\frac{\\pi m x}{L_{x}} \\right)} \\sin{\\left(\\frac{\\pi n y}{L_{y}} \\right)}}{L_{x}^{2}}\\\\\\frac{\\pi^{2} C_{mn} n^{2} z \\sin{\\left(\\frac{\\pi m x}{L_{x}} \\right)} \\sin{\\left(\\frac{\\pi n y}{L_{y}} \\right)}}{L_{y}^{2}}\\\\- \\frac{2 \\pi^{2} C_{mn} m n z \\cos{\\left(\\frac{\\pi m x}{L_{x}} \\right)} \\cos{\\left(\\frac{\\pi n y}{L_{y}} \\right)}}{L_{x} L_{y}}\\\\0\\\\0\\end{matrix}\\right]$"
      ],
      "text/plain": [
       "Matrix([\n",
       "[     pi**2*C_{mn}*m**2*z*sin(pi*m*x/L_x)*sin(pi*n*y/L_y)/L_x**2],\n",
       "[     pi**2*C_{mn}*n**2*z*sin(pi*m*x/L_x)*sin(pi*n*y/L_y)/L_y**2],\n",
       "[-2*pi**2*C_{mn}*m*n*z*cos(pi*m*x/L_x)*cos(pi*n*y/L_y)/(L_x*L_y)],\n",
       "[                                                              0],\n",
       "[                                                              0]])"
      ]
     },
     "execution_count": 598,
     "metadata": {},
     "output_type": "execute_result"
    }
   ],
   "source": [
    "strains_trial = [s.subs(trial).expand().doit() for s in strains]\n",
    "Matrix(strains_trial)"
   ]
  },
  {
   "cell_type": "markdown",
   "metadata": {},
   "source": [
    "A possible definition of curvatures would be:"
   ]
  },
  {
   "cell_type": "code",
   "execution_count": 599,
   "metadata": {},
   "outputs": [
    {
     "data": {
      "text/latex": [
       "$\\displaystyle \\left[\\begin{matrix}- \\frac{\\partial^{2}}{\\partial x^{2}} \\operatorname{w_{0}}{\\left(x,y \\right)}\\\\- \\frac{\\partial^{2}}{\\partial y^{2}} \\operatorname{w_{0}}{\\left(x,y \\right)}\\\\- 2 \\frac{\\partial^{2}}{\\partial y\\partial x} \\operatorname{w_{0}}{\\left(x,y \\right)}\\\\0\\\\0\\end{matrix}\\right]$"
      ],
      "text/plain": [
       "Matrix([\n",
       "[-Derivative(w_0(x, y), (x, 2))],\n",
       "[-Derivative(w_0(x, y), (y, 2))],\n",
       "[-2*Derivative(w_0(x, y), x, y)],\n",
       "[                             0],\n",
       "[                             0]])"
      ]
     },
     "execution_count": 599,
     "metadata": {},
     "output_type": "execute_result"
    }
   ],
   "source": [
    "kxx = diff(exx, z)\n",
    "kyy = diff(eyy, z)\n",
    "kxy = diff(exy, z)\n",
    "gen_curvatures = [kxx, kyy, kxy, exz, eyz]\n",
    "Matrix(gen_curvatures)"
   ]
  },
  {
   "cell_type": "code",
   "execution_count": 600,
   "metadata": {},
   "outputs": [
    {
     "data": {
      "text/latex": [
       "$\\displaystyle \\left[\\begin{matrix}\\frac{\\pi^{2} C_{mn} m^{2} \\sin{\\left(\\frac{\\pi m x}{L_{x}} \\right)} \\sin{\\left(\\frac{\\pi n y}{L_{y}} \\right)}}{L_{x}^{2}}\\\\\\frac{\\pi^{2} C_{mn} n^{2} \\sin{\\left(\\frac{\\pi m x}{L_{x}} \\right)} \\sin{\\left(\\frac{\\pi n y}{L_{y}} \\right)}}{L_{y}^{2}}\\\\- \\frac{2 \\pi^{2} C_{mn} m n \\cos{\\left(\\frac{\\pi m x}{L_{x}} \\right)} \\cos{\\left(\\frac{\\pi n y}{L_{y}} \\right)}}{L_{x} L_{y}}\\\\0\\\\0\\end{matrix}\\right]$"
      ],
      "text/plain": [
       "Matrix([\n",
       "[     pi**2*C_{mn}*m**2*sin(pi*m*x/L_x)*sin(pi*n*y/L_y)/L_x**2],\n",
       "[     pi**2*C_{mn}*n**2*sin(pi*m*x/L_x)*sin(pi*n*y/L_y)/L_y**2],\n",
       "[-2*pi**2*C_{mn}*m*n*cos(pi*m*x/L_x)*cos(pi*n*y/L_y)/(L_x*L_y)],\n",
       "[                                                            0],\n",
       "[                                                            0]])"
      ]
     },
     "execution_count": 600,
     "metadata": {},
     "output_type": "execute_result"
    }
   ],
   "source": [
    "gen_curvatures_trial = [k.subs(trial).expand().doit() for k in gen_curvatures]\n",
    "Matrix(gen_curvatures_trial)"
   ]
  },
  {
   "cell_type": "markdown",
   "metadata": {},
   "source": [
    "strains '+' Hooke model -> stresses"
   ]
  },
  {
   "cell_type": "code",
   "execution_count": 601,
   "metadata": {},
   "outputs": [],
   "source": [
    "C11, C22, C12, C16, C26, C66 = C126ij = \\\n",
    "    symbols('C_11 C_22 C_12 C_16 C_26 C_66', real=True)\n",
    "C126 = sy.Matrix([[C11, C12, 0], [C12, C22, 0], [0, 0, C66]])\n",
    "sxx, syy, sxy = MatMul(C126, sy.Matrix([exx, eyy, exy])).doit()\n",
    "C44, C55 = C45ij = symbols('C_44 C_55', real=True)\n",
    "C45 = sy.Matrix([[C44, 0], [0, C55]])\n",
    "syz, sxz = MatMul(C45, sy.Matrix([eyz, exz])).doit()\n",
    "\n",
    "# integrate through the thickness\n",
    "h = Symbol('t', real = True)  # thickness\n",
    "Int = lambda expr : integrate(expr, (z, -h/2, h/2))\n",
    "D11, D22, D12, D66 = Dij = symbols('D_11 D_22 D_12 D_66', real = True)\n",
    "S44, S55, = Sij = symbols('S_44 S_55', real = True)\n",
    "#\n",
    "mx, my, mxy = M = Matrix([Int(s * z) for s in [sxx, syy, sxy]])\n",
    "vx, vy = V = Matrix([Int(s) for s in [sxz, syz]])\n",
    "#\n",
    "mx = mx.simplify().expand()\n",
    "cD11 = mx.coeff(kxx)\n",
    "cD12 = mx.coeff(kyy)\n",
    "mx = D11 * kxx + D12 * kyy\n",
    "#\n",
    "my = my.simplify().expand()\n",
    "cD22 = my.coeff(kyy)\n",
    "cD21 = my.coeff(kxx)\n",
    "my = D22 * kyy + D12 * kxx\n",
    "#\n",
    "mxy = mxy.simplify().expand()\n",
    "cD66 = mxy.coeff(kxy)\n",
    "mxy = D66 * kxy\n",
    "#\n",
    "vx = vx.simplify().expand()\n",
    "cS44 = vx.coeff(exz)\n",
    "vx = S44 * exz\n",
    "#\n",
    "vy = vy.simplify().expand()\n",
    "cS55 = vy.coeff(eyz)\n",
    "vy = S55 * eyz\n",
    "\n",
    "mx = mx.simplify().expand()\n",
    "my = my.simplify().expand()\n",
    "mxy = mxy.simplify().expand()\n",
    "vx = vx.simplify().expand()\n",
    "vy = vy.simplify().expand()"
   ]
  },
  {
   "cell_type": "code",
   "execution_count": 602,
   "metadata": {},
   "outputs": [
    {
     "data": {
      "text/latex": [
       "$\\displaystyle \\left[\\begin{matrix}- D_{11} \\frac{\\partial^{2}}{\\partial x^{2}} \\operatorname{w_{0}}{\\left(x,y \\right)} - D_{12} \\frac{\\partial^{2}}{\\partial y^{2}} \\operatorname{w_{0}}{\\left(x,y \\right)}\\\\- D_{12} \\frac{\\partial^{2}}{\\partial x^{2}} \\operatorname{w_{0}}{\\left(x,y \\right)} - D_{22} \\frac{\\partial^{2}}{\\partial y^{2}} \\operatorname{w_{0}}{\\left(x,y \\right)}\\\\- 2 D_{66} \\frac{\\partial^{2}}{\\partial y\\partial x} \\operatorname{w_{0}}{\\left(x,y \\right)}\\\\0\\\\0\\end{matrix}\\right]$"
      ],
      "text/plain": [
       "Matrix([\n",
       "[-D_11*Derivative(w_0(x, y), (x, 2)) - D_12*Derivative(w_0(x, y), (y, 2))],\n",
       "[-D_12*Derivative(w_0(x, y), (x, 2)) - D_22*Derivative(w_0(x, y), (y, 2))],\n",
       "[                                     -2*D_66*Derivative(w_0(x, y), x, y)],\n",
       "[                                                                       0],\n",
       "[                                                                       0]])"
      ]
     },
     "execution_count": 602,
     "metadata": {},
     "output_type": "execute_result"
    }
   ],
   "source": [
    "gen_forces = [mx, my, mxy, vx, vy]\n",
    "Matrix(gen_forces)"
   ]
  },
  {
   "cell_type": "code",
   "execution_count": 603,
   "metadata": {},
   "outputs": [
    {
     "data": {
      "text/latex": [
       "$\\displaystyle \\left[\\begin{matrix}\\frac{\\pi^{2} C_{mn} D_{11} m^{2} \\sin{\\left(\\frac{\\pi m x}{L_{x}} \\right)} \\sin{\\left(\\frac{\\pi n y}{L_{y}} \\right)}}{L_{x}^{2}} + \\frac{\\pi^{2} C_{mn} D_{12} n^{2} \\sin{\\left(\\frac{\\pi m x}{L_{x}} \\right)} \\sin{\\left(\\frac{\\pi n y}{L_{y}} \\right)}}{L_{y}^{2}}\\\\\\frac{\\pi^{2} C_{mn} D_{12} m^{2} \\sin{\\left(\\frac{\\pi m x}{L_{x}} \\right)} \\sin{\\left(\\frac{\\pi n y}{L_{y}} \\right)}}{L_{x}^{2}} + \\frac{\\pi^{2} C_{mn} D_{22} n^{2} \\sin{\\left(\\frac{\\pi m x}{L_{x}} \\right)} \\sin{\\left(\\frac{\\pi n y}{L_{y}} \\right)}}{L_{y}^{2}}\\\\- \\frac{2 \\pi^{2} C_{mn} D_{66} m n \\cos{\\left(\\frac{\\pi m x}{L_{x}} \\right)} \\cos{\\left(\\frac{\\pi n y}{L_{y}} \\right)}}{L_{x} L_{y}}\\\\0\\\\0\\end{matrix}\\right]$"
      ],
      "text/plain": [
       "Matrix([\n",
       "[pi**2*C_{mn}*D_11*m**2*sin(pi*m*x/L_x)*sin(pi*n*y/L_y)/L_x**2 + pi**2*C_{mn}*D_12*n**2*sin(pi*m*x/L_x)*sin(pi*n*y/L_y)/L_y**2],\n",
       "[pi**2*C_{mn}*D_12*m**2*sin(pi*m*x/L_x)*sin(pi*n*y/L_y)/L_x**2 + pi**2*C_{mn}*D_22*n**2*sin(pi*m*x/L_x)*sin(pi*n*y/L_y)/L_y**2],\n",
       "[                                                           -2*pi**2*C_{mn}*D_66*m*n*cos(pi*m*x/L_x)*cos(pi*n*y/L_y)/(L_x*L_y)],\n",
       "[                                                                                                                            0],\n",
       "[                                                                                                                            0]])"
      ]
     },
     "execution_count": 603,
     "metadata": {},
     "output_type": "execute_result"
    }
   ],
   "source": [
    "gen_forces_trial = [k.subs(trial).expand().doit() for k in gen_forces]\n",
    "Matrix(gen_forces_trial)"
   ]
  },
  {
   "cell_type": "code",
   "execution_count": 604,
   "metadata": {},
   "outputs": [
    {
     "data": {
      "text/latex": [
       "$\\displaystyle \\left[\\begin{matrix}D_{11} & D_{12} & 0 & 0 & 0\\\\D_{12} & D_{22} & 0 & 0 & 0\\\\0 & 0 & D_{66} & 0 & 0\\\\0 & 0 & 0 & 0 & 0\\\\0 & 0 & 0 & 0 & 0\\end{matrix}\\right]$"
      ],
      "text/plain": [
       "Matrix([\n",
       "[D_11, D_12,    0, 0, 0],\n",
       "[D_12, D_22,    0, 0, 0],\n",
       "[   0,    0, D_66, 0, 0],\n",
       "[   0,    0,    0, 0, 0],\n",
       "[   0,    0,    0, 0, 0]])"
      ]
     },
     "execution_count": 604,
     "metadata": {},
     "output_type": "execute_result"
    }
   ],
   "source": [
    "D = sy.zeros(5, 5)\n",
    "D[0, 0] = mx.coeff(kxx)\n",
    "D[0, 1] = mx.coeff(kyy)\n",
    "D[0, 2] = mx.coeff(kxy)\n",
    "D[1, 0] = my.coeff(kxx)\n",
    "D[1, 1] = my.coeff(kyy)\n",
    "D[1, 2] = my.coeff(kxy)\n",
    "D[2, 0] = mxy.coeff(kxx)\n",
    "D[2, 1] = mxy.coeff(kyy)\n",
    "D[2, 2] = mxy/kxy\n",
    "D[3, 3] = vx.coeff(exz)\n",
    "D[3, 4] = vx.coeff(eyz)\n",
    "D[4, 3] = vy.coeff(exz)\n",
    "D[4, 4] = vy.coeff(eyz)\n",
    "D"
   ]
  },
  {
   "cell_type": "markdown",
   "metadata": {},
   "source": [
    " Equilibrium equations. The signs of the equations\n",
    " is selected such, that the coefficients of the load functions on the\n",
    " right-hand sides admit positive signs according to global axes."
   ]
  },
  {
   "cell_type": "code",
   "execution_count": 605,
   "metadata": {},
   "outputs": [],
   "source": [
    "# vertical equilibrium\n",
    "lhs = simplify(-diff(diff(mx, x), x) - 2 * diff(diff(mxy, x),y) - diff(diff(my, y), y)).expand()"
   ]
  },
  {
   "cell_type": "code",
   "execution_count": 606,
   "metadata": {},
   "outputs": [
    {
     "data": {
      "text/latex": [
       "$\\displaystyle D_{11} \\frac{\\partial^{4}}{\\partial x^{4}} \\operatorname{w_{0}}{\\left(x,y \\right)} + 2 D_{12} \\frac{\\partial^{4}}{\\partial y^{2}\\partial x^{2}} \\operatorname{w_{0}}{\\left(x,y \\right)} + D_{22} \\frac{\\partial^{4}}{\\partial y^{4}} \\operatorname{w_{0}}{\\left(x,y \\right)} + 4 D_{66} \\frac{\\partial^{4}}{\\partial y^{2}\\partial x^{2}} \\operatorname{w_{0}}{\\left(x,y \\right)}$"
      ],
      "text/plain": [
       "D_11*Derivative(w_0(x, y), (x, 4)) + 2*D_12*Derivative(w_0(x, y), (x, 2), (y, 2)) + D_22*Derivative(w_0(x, y), (y, 4)) + 4*D_66*Derivative(w_0(x, y), (x, 2), (y, 2))"
      ]
     },
     "execution_count": 606,
     "metadata": {},
     "output_type": "execute_result"
    }
   ],
   "source": [
    "lhs"
   ]
  },
  {
   "cell_type": "code",
   "execution_count": 607,
   "metadata": {},
   "outputs": [
    {
     "data": {
      "text/latex": [
       "$\\displaystyle \\frac{\\pi^{4} C_{mn} D_{11} m^{4} \\sin{\\left(\\frac{\\pi m x}{L_{x}} \\right)} \\sin{\\left(\\frac{\\pi n y}{L_{y}} \\right)}}{L_{x}^{4}} + \\frac{2 \\pi^{4} C_{mn} D_{12} m^{2} n^{2} \\sin{\\left(\\frac{\\pi m x}{L_{x}} \\right)} \\sin{\\left(\\frac{\\pi n y}{L_{y}} \\right)}}{L_{x}^{2} L_{y}^{2}} + \\frac{\\pi^{4} C_{mn} D_{22} n^{4} \\sin{\\left(\\frac{\\pi m x}{L_{x}} \\right)} \\sin{\\left(\\frac{\\pi n y}{L_{y}} \\right)}}{L_{y}^{4}} + \\frac{4 \\pi^{4} C_{mn} D_{66} m^{2} n^{2} \\sin{\\left(\\frac{\\pi m x}{L_{x}} \\right)} \\sin{\\left(\\frac{\\pi n y}{L_{y}} \\right)}}{L_{x}^{2} L_{y}^{2}}$"
      ],
      "text/plain": [
       "pi**4*C_{mn}*D_11*m**4*sin(pi*m*x/L_x)*sin(pi*n*y/L_y)/L_x**4 + 2*pi**4*C_{mn}*D_12*m**2*n**2*sin(pi*m*x/L_x)*sin(pi*n*y/L_y)/(L_x**2*L_y**2) + pi**4*C_{mn}*D_22*n**4*sin(pi*m*x/L_x)*sin(pi*n*y/L_y)/L_y**4 + 4*pi**4*C_{mn}*D_66*m**2*n**2*sin(pi*m*x/L_x)*sin(pi*n*y/L_y)/(L_x**2*L_y**2)"
      ]
     },
     "execution_count": 607,
     "metadata": {},
     "output_type": "execute_result"
    }
   ],
   "source": [
    "eq_trial = lhs.subs(trial).expand().doit()\n",
    "eq_trial"
   ]
  },
  {
   "cell_type": "markdown",
   "metadata": {},
   "source": [
    "Substitute trial solution"
   ]
  },
  {
   "cell_type": "code",
   "execution_count": 608,
   "metadata": {},
   "outputs": [
    {
     "data": {
      "text/latex": [
       "$\\displaystyle \\frac{\\pi^{4} D_{11} m^{4}}{L_{x}^{4}} + \\frac{2 \\pi^{4} D_{12} m^{2} n^{2}}{L_{x}^{2} L_{y}^{2}} + \\frac{\\pi^{4} D_{22} n^{4}}{L_{y}^{4}} + \\frac{4 \\pi^{4} D_{66} m^{2} n^{2}}{L_{x}^{2} L_{y}^{2}}$"
      ],
      "text/plain": [
       "pi**4*D_11*m**4/L_x**4 + 2*pi**4*D_12*m**2*n**2/(L_x**2*L_y**2) + pi**4*D_22*n**4/L_y**4 + 4*pi**4*D_66*m**2*n**2/(L_x**2*L_y**2)"
      ]
     },
     "execution_count": 608,
     "metadata": {},
     "output_type": "execute_result"
    }
   ],
   "source": [
    "eq_trial = eq_trial / (Sm * Sn)\n",
    "eq_trial = eq_trial.simplify().expand()\n",
    "eq_trial = eq_trial.coeff(Cmn)\n",
    "eq_trial"
   ]
  },
  {
   "cell_type": "code",
   "execution_count": 609,
   "metadata": {},
   "outputs": [
    {
     "data": {
      "text/plain": [
       "'math.pi**4*D_11*m**4/L_x**4 + 2*math.pi**4*D_12*m**2*n**2/(L_x**2*L_y**2) + math.pi**4*D_22*n**4/L_y**4 + 4*math.pi**4*D_66*m**2*n**2/(L_x**2*L_y**2)'"
      ]
     },
     "execution_count": 609,
     "metadata": {},
     "output_type": "execute_result"
    }
   ],
   "source": [
    "from sympy import pycode\n",
    "pycode(eq_trial)"
   ]
  },
  {
   "cell_type": "code",
   "execution_count": 610,
   "metadata": {},
   "outputs": [],
   "source": [
    "from sympy import lambdify\n",
    "\n",
    "lhs = lambdify([m, n, D11, D12, D22, D66, Lx, Ly], eq_trial, 'numpy')"
   ]
  },
  {
   "cell_type": "code",
   "execution_count": 611,
   "metadata": {},
   "outputs": [
    {
     "data": {
      "text/plain": [
       "779.2727282720193"
      ]
     },
     "execution_count": 611,
     "metadata": {},
     "output_type": "execute_result"
    }
   ],
   "source": [
    "lhs(1, 1, 1, 1, 1, 1, 1, 1)"
   ]
  },
  {
   "cell_type": "markdown",
   "metadata": {},
   "source": [
    "Postproc"
   ]
  },
  {
   "cell_type": "code",
   "execution_count": 612,
   "metadata": {},
   "outputs": [],
   "source": [
    "mx = mx.subs(trial).expand().doit()\n",
    "mx = mx.simplify().expand()\n",
    "my = my.subs(trial).expand().doit()\n",
    "my = my.simplify().expand()\n",
    "mxy = mxy.subs(trial).expand().doit()\n",
    "mxy = mxy.simplify().expand()\n",
    "vx = vx.subs(trial).expand().doit()\n",
    "vx = vx.simplify().expand()\n",
    "vy = vy.subs(trial).expand().doit()\n",
    "vy = vy.simplify().expand()\n",
    "kxx = kxx.subs(trial).expand().doit()\n",
    "kxx = kxx.simplify().expand()\n",
    "kyy = kyy.subs(trial).expand().doit()\n",
    "kyy = kyy.simplify().expand()\n",
    "kxy = kxy.subs(trial).expand().doit()\n",
    "kxy = kxy.simplify().expand()\n",
    "exz = exz.subs(trial).expand().doit()\n",
    "exz = exz.simplify().expand()\n",
    "eyz = eyz.subs(trial).expand().doit()\n",
    "eyz = eyz.simplify().expand()"
   ]
  },
  {
   "cell_type": "code",
   "execution_count": 613,
   "metadata": {},
   "outputs": [],
   "source": [
    "qxx, qyy, qz = symbols('q_{xx} q_{yy} q_{z}', real=True)\n",
    "pxx = qxx * Cm * Sn\n",
    "pyy = qyy * Sm * Cn\n",
    "pz = qz * Sm * Sn\n",
    "vx = pxx + diff(mx, x) + diff(mxy, y)\n",
    "exz = vx / S44\n",
    "vx = vx.simplify().expand()\n",
    "exz = exz.simplify().expand()\n",
    "vy = pyy + diff(my, y) + diff(mxy, x)\n",
    "eyz = vy / S55\n",
    "vy = vy.simplify().expand()\n",
    "eyz = eyz.simplify().expand()"
   ]
  },
  {
   "cell_type": "code",
   "execution_count": 614,
   "metadata": {},
   "outputs": [
    {
     "data": {
      "text/latex": [
       "$\\displaystyle \\left[\\begin{matrix}C_{mn} \\sin{\\left(\\frac{\\pi m x}{L_{x}} \\right)} \\sin{\\left(\\frac{\\pi n y}{L_{y}} \\right)}\\\\\\frac{\\pi C_{mn} n \\sin{\\left(\\frac{\\pi m x}{L_{x}} \\right)} \\cos{\\left(\\frac{\\pi n y}{L_{y}} \\right)}}{L_{y}}\\\\- \\frac{\\pi C_{mn} m \\sin{\\left(\\frac{\\pi n y}{L_{y}} \\right)} \\cos{\\left(\\frac{\\pi m x}{L_{x}} \\right)}}{L_{x}}\\\\\\frac{\\pi^{2} C_{mn} m^{2} \\sin{\\left(\\frac{\\pi m x}{L_{x}} \\right)} \\sin{\\left(\\frac{\\pi n y}{L_{y}} \\right)}}{L_{x}^{2}}\\\\\\frac{\\pi^{2} C_{mn} n^{2} \\sin{\\left(\\frac{\\pi m x}{L_{x}} \\right)} \\sin{\\left(\\frac{\\pi n y}{L_{y}} \\right)}}{L_{y}^{2}}\\\\- \\frac{2 \\pi^{2} C_{mn} m n \\cos{\\left(\\frac{\\pi m x}{L_{x}} \\right)} \\cos{\\left(\\frac{\\pi n y}{L_{y}} \\right)}}{L_{x} L_{y}}\\\\\\frac{\\pi^{3} C_{mn} D_{11} m^{3} \\sin{\\left(\\frac{\\pi n y}{L_{y}} \\right)} \\cos{\\left(\\frac{\\pi m x}{L_{x}} \\right)}}{L_{x}^{3} S_{44}} + \\frac{\\pi^{3} C_{mn} D_{12} m n^{2} \\sin{\\left(\\frac{\\pi n y}{L_{y}} \\right)} \\cos{\\left(\\frac{\\pi m x}{L_{x}} \\right)}}{L_{x} L_{y}^{2} S_{44}} + \\frac{2 \\pi^{3} C_{mn} D_{66} m n^{2} \\sin{\\left(\\frac{\\pi n y}{L_{y}} \\right)} \\cos{\\left(\\frac{\\pi m x}{L_{x}} \\right)}}{L_{x} L_{y}^{2} S_{44}} + \\frac{q_{xx} \\sin{\\left(\\frac{\\pi n y}{L_{y}} \\right)} \\cos{\\left(\\frac{\\pi m x}{L_{x}} \\right)}}{S_{44}}\\\\\\frac{\\pi^{3} C_{mn} D_{12} m^{2} n \\sin{\\left(\\frac{\\pi m x}{L_{x}} \\right)} \\cos{\\left(\\frac{\\pi n y}{L_{y}} \\right)}}{L_{x}^{2} L_{y} S_{55}} + \\frac{\\pi^{3} C_{mn} D_{22} n^{3} \\sin{\\left(\\frac{\\pi m x}{L_{x}} \\right)} \\cos{\\left(\\frac{\\pi n y}{L_{y}} \\right)}}{L_{y}^{3} S_{55}} + \\frac{2 \\pi^{3} C_{mn} D_{66} m^{2} n \\sin{\\left(\\frac{\\pi m x}{L_{x}} \\right)} \\cos{\\left(\\frac{\\pi n y}{L_{y}} \\right)}}{L_{x}^{2} L_{y} S_{55}} + \\frac{q_{yy} \\sin{\\left(\\frac{\\pi m x}{L_{x}} \\right)} \\cos{\\left(\\frac{\\pi n y}{L_{y}} \\right)}}{S_{55}}\\\\\\frac{\\pi^{2} C_{mn} D_{11} m^{2} \\sin{\\left(\\frac{\\pi m x}{L_{x}} \\right)} \\sin{\\left(\\frac{\\pi n y}{L_{y}} \\right)}}{L_{x}^{2}} + \\frac{\\pi^{2} C_{mn} D_{12} n^{2} \\sin{\\left(\\frac{\\pi m x}{L_{x}} \\right)} \\sin{\\left(\\frac{\\pi n y}{L_{y}} \\right)}}{L_{y}^{2}}\\\\\\frac{\\pi^{2} C_{mn} D_{12} m^{2} \\sin{\\left(\\frac{\\pi m x}{L_{x}} \\right)} \\sin{\\left(\\frac{\\pi n y}{L_{y}} \\right)}}{L_{x}^{2}} + \\frac{\\pi^{2} C_{mn} D_{22} n^{2} \\sin{\\left(\\frac{\\pi m x}{L_{x}} \\right)} \\sin{\\left(\\frac{\\pi n y}{L_{y}} \\right)}}{L_{y}^{2}}\\\\- \\frac{2 \\pi^{2} C_{mn} D_{66} m n \\cos{\\left(\\frac{\\pi m x}{L_{x}} \\right)} \\cos{\\left(\\frac{\\pi n y}{L_{y}} \\right)}}{L_{x} L_{y}}\\\\\\frac{\\pi^{3} C_{mn} D_{11} m^{3} \\sin{\\left(\\frac{\\pi n y}{L_{y}} \\right)} \\cos{\\left(\\frac{\\pi m x}{L_{x}} \\right)}}{L_{x}^{3}} + \\frac{\\pi^{3} C_{mn} D_{12} m n^{2} \\sin{\\left(\\frac{\\pi n y}{L_{y}} \\right)} \\cos{\\left(\\frac{\\pi m x}{L_{x}} \\right)}}{L_{x} L_{y}^{2}} + \\frac{2 \\pi^{3} C_{mn} D_{66} m n^{2} \\sin{\\left(\\frac{\\pi n y}{L_{y}} \\right)} \\cos{\\left(\\frac{\\pi m x}{L_{x}} \\right)}}{L_{x} L_{y}^{2}} + q_{xx} \\sin{\\left(\\frac{\\pi n y}{L_{y}} \\right)} \\cos{\\left(\\frac{\\pi m x}{L_{x}} \\right)}\\\\\\frac{\\pi^{3} C_{mn} D_{12} m^{2} n \\sin{\\left(\\frac{\\pi m x}{L_{x}} \\right)} \\cos{\\left(\\frac{\\pi n y}{L_{y}} \\right)}}{L_{x}^{2} L_{y}} + \\frac{\\pi^{3} C_{mn} D_{22} n^{3} \\sin{\\left(\\frac{\\pi m x}{L_{x}} \\right)} \\cos{\\left(\\frac{\\pi n y}{L_{y}} \\right)}}{L_{y}^{3}} + \\frac{2 \\pi^{3} C_{mn} D_{66} m^{2} n \\sin{\\left(\\frac{\\pi m x}{L_{x}} \\right)} \\cos{\\left(\\frac{\\pi n y}{L_{y}} \\right)}}{L_{x}^{2} L_{y}} + q_{yy} \\sin{\\left(\\frac{\\pi m x}{L_{x}} \\right)} \\cos{\\left(\\frac{\\pi n y}{L_{y}} \\right)}\\end{matrix}\\right]$"
      ],
      "text/plain": [
       "Matrix([\n",
       "[                                                                                                                                                                                                                                        C_{mn}*sin(pi*m*x/L_x)*sin(pi*n*y/L_y)],\n",
       "[                                                                                                                                                                                                                               pi*C_{mn}*n*sin(pi*m*x/L_x)*cos(pi*n*y/L_y)/L_y],\n",
       "[                                                                                                                                                                                                                              -pi*C_{mn}*m*sin(pi*n*y/L_y)*cos(pi*m*x/L_x)/L_x],\n",
       "[                                                                                                                                                                                                                      pi**2*C_{mn}*m**2*sin(pi*m*x/L_x)*sin(pi*n*y/L_y)/L_x**2],\n",
       "[                                                                                                                                                                                                                      pi**2*C_{mn}*n**2*sin(pi*m*x/L_x)*sin(pi*n*y/L_y)/L_y**2],\n",
       "[                                                                                                                                                                                                                 -2*pi**2*C_{mn}*m*n*cos(pi*m*x/L_x)*cos(pi*n*y/L_y)/(L_x*L_y)],\n",
       "[pi**3*C_{mn}*D_11*m**3*sin(pi*n*y/L_y)*cos(pi*m*x/L_x)/(L_x**3*S_44) + pi**3*C_{mn}*D_12*m*n**2*sin(pi*n*y/L_y)*cos(pi*m*x/L_x)/(L_x*L_y**2*S_44) + 2*pi**3*C_{mn}*D_66*m*n**2*sin(pi*n*y/L_y)*cos(pi*m*x/L_x)/(L_x*L_y**2*S_44) + q_{xx}*sin(pi*n*y/L_y)*cos(pi*m*x/L_x)/S_44],\n",
       "[pi**3*C_{mn}*D_12*m**2*n*sin(pi*m*x/L_x)*cos(pi*n*y/L_y)/(L_x**2*L_y*S_55) + pi**3*C_{mn}*D_22*n**3*sin(pi*m*x/L_x)*cos(pi*n*y/L_y)/(L_y**3*S_55) + 2*pi**3*C_{mn}*D_66*m**2*n*sin(pi*m*x/L_x)*cos(pi*n*y/L_y)/(L_x**2*L_y*S_55) + q_{yy}*sin(pi*m*x/L_x)*cos(pi*n*y/L_y)/S_55],\n",
       "[                                                                                                                                                 pi**2*C_{mn}*D_11*m**2*sin(pi*m*x/L_x)*sin(pi*n*y/L_y)/L_x**2 + pi**2*C_{mn}*D_12*n**2*sin(pi*m*x/L_x)*sin(pi*n*y/L_y)/L_y**2],\n",
       "[                                                                                                                                                 pi**2*C_{mn}*D_12*m**2*sin(pi*m*x/L_x)*sin(pi*n*y/L_y)/L_x**2 + pi**2*C_{mn}*D_22*n**2*sin(pi*m*x/L_x)*sin(pi*n*y/L_y)/L_y**2],\n",
       "[                                                                                                                                                                                                            -2*pi**2*C_{mn}*D_66*m*n*cos(pi*m*x/L_x)*cos(pi*n*y/L_y)/(L_x*L_y)],\n",
       "[                      pi**3*C_{mn}*D_11*m**3*sin(pi*n*y/L_y)*cos(pi*m*x/L_x)/L_x**3 + pi**3*C_{mn}*D_12*m*n**2*sin(pi*n*y/L_y)*cos(pi*m*x/L_x)/(L_x*L_y**2) + 2*pi**3*C_{mn}*D_66*m*n**2*sin(pi*n*y/L_y)*cos(pi*m*x/L_x)/(L_x*L_y**2) + q_{xx}*sin(pi*n*y/L_y)*cos(pi*m*x/L_x)],\n",
       "[                      pi**3*C_{mn}*D_12*m**2*n*sin(pi*m*x/L_x)*cos(pi*n*y/L_y)/(L_x**2*L_y) + pi**3*C_{mn}*D_22*n**3*sin(pi*m*x/L_x)*cos(pi*n*y/L_y)/L_y**3 + 2*pi**3*C_{mn}*D_66*m**2*n*sin(pi*m*x/L_x)*cos(pi*n*y/L_y)/(L_x**2*L_y) + q_{yy}*sin(pi*m*x/L_x)*cos(pi*n*y/L_y)]])"
      ]
     },
     "execution_count": 614,
     "metadata": {},
     "output_type": "execute_result"
    }
   ],
   "source": [
    "pproc = Matrix([w0_trial, thx_trial, thy_trial, kxx, \n",
    "                kyy, kxy, exz, eyz, mx, my, mxy, vx, vy]).T\n",
    "pycode(pproc)\n",
    "pproc.T"
   ]
  },
  {
   "cell_type": "code",
   "execution_count": 615,
   "metadata": {},
   "outputs": [
    {
     "data": {
      "text/latex": [
       "$\\displaystyle \\left[\\begin{matrix}\\frac{\\pi^{2} C_{mn} D_{11} m^{2} \\sin{\\left(\\frac{\\pi m x}{L_{x}} \\right)} \\sin{\\left(\\frac{\\pi n y}{L_{y}} \\right)}}{L_{x}^{2}} + \\frac{\\pi^{2} C_{mn} D_{12} n^{2} \\sin{\\left(\\frac{\\pi m x}{L_{x}} \\right)} \\sin{\\left(\\frac{\\pi n y}{L_{y}} \\right)}}{L_{y}^{2}}\\\\\\frac{\\pi^{2} C_{mn} D_{12} m^{2} \\sin{\\left(\\frac{\\pi m x}{L_{x}} \\right)} \\sin{\\left(\\frac{\\pi n y}{L_{y}} \\right)}}{L_{x}^{2}} + \\frac{\\pi^{2} C_{mn} D_{22} n^{2} \\sin{\\left(\\frac{\\pi m x}{L_{x}} \\right)} \\sin{\\left(\\frac{\\pi n y}{L_{y}} \\right)}}{L_{y}^{2}}\\\\- \\frac{2 \\pi^{2} C_{mn} D_{66} m n \\cos{\\left(\\frac{\\pi m x}{L_{x}} \\right)} \\cos{\\left(\\frac{\\pi n y}{L_{y}} \\right)}}{L_{x} L_{y}}\\\\\\frac{\\pi^{3} C_{mn} D_{11} m^{3} \\sin{\\left(\\frac{\\pi n y}{L_{y}} \\right)} \\cos{\\left(\\frac{\\pi m x}{L_{x}} \\right)}}{L_{x}^{3}} + \\frac{\\pi^{3} C_{mn} D_{12} m n^{2} \\sin{\\left(\\frac{\\pi n y}{L_{y}} \\right)} \\cos{\\left(\\frac{\\pi m x}{L_{x}} \\right)}}{L_{x} L_{y}^{2}} + \\frac{2 \\pi^{3} C_{mn} D_{66} m n^{2} \\sin{\\left(\\frac{\\pi n y}{L_{y}} \\right)} \\cos{\\left(\\frac{\\pi m x}{L_{x}} \\right)}}{L_{x} L_{y}^{2}} + q_{xx} \\sin{\\left(\\frac{\\pi n y}{L_{y}} \\right)} \\cos{\\left(\\frac{\\pi m x}{L_{x}} \\right)}\\\\\\frac{\\pi^{3} C_{mn} D_{12} m^{2} n \\sin{\\left(\\frac{\\pi m x}{L_{x}} \\right)} \\cos{\\left(\\frac{\\pi n y}{L_{y}} \\right)}}{L_{x}^{2} L_{y}} + \\frac{\\pi^{3} C_{mn} D_{22} n^{3} \\sin{\\left(\\frac{\\pi m x}{L_{x}} \\right)} \\cos{\\left(\\frac{\\pi n y}{L_{y}} \\right)}}{L_{y}^{3}} + \\frac{2 \\pi^{3} C_{mn} D_{66} m^{2} n \\sin{\\left(\\frac{\\pi m x}{L_{x}} \\right)} \\cos{\\left(\\frac{\\pi n y}{L_{y}} \\right)}}{L_{x}^{2} L_{y}} + q_{yy} \\sin{\\left(\\frac{\\pi m x}{L_{x}} \\right)} \\cos{\\left(\\frac{\\pi n y}{L_{y}} \\right)}\\end{matrix}\\right]$"
      ],
      "text/plain": [
       "Matrix([\n",
       "[                                                                                                                           pi**2*C_{mn}*D_11*m**2*sin(pi*m*x/L_x)*sin(pi*n*y/L_y)/L_x**2 + pi**2*C_{mn}*D_12*n**2*sin(pi*m*x/L_x)*sin(pi*n*y/L_y)/L_y**2],\n",
       "[                                                                                                                           pi**2*C_{mn}*D_12*m**2*sin(pi*m*x/L_x)*sin(pi*n*y/L_y)/L_x**2 + pi**2*C_{mn}*D_22*n**2*sin(pi*m*x/L_x)*sin(pi*n*y/L_y)/L_y**2],\n",
       "[                                                                                                                                                                                      -2*pi**2*C_{mn}*D_66*m*n*cos(pi*m*x/L_x)*cos(pi*n*y/L_y)/(L_x*L_y)],\n",
       "[pi**3*C_{mn}*D_11*m**3*sin(pi*n*y/L_y)*cos(pi*m*x/L_x)/L_x**3 + pi**3*C_{mn}*D_12*m*n**2*sin(pi*n*y/L_y)*cos(pi*m*x/L_x)/(L_x*L_y**2) + 2*pi**3*C_{mn}*D_66*m*n**2*sin(pi*n*y/L_y)*cos(pi*m*x/L_x)/(L_x*L_y**2) + q_{xx}*sin(pi*n*y/L_y)*cos(pi*m*x/L_x)],\n",
       "[pi**3*C_{mn}*D_12*m**2*n*sin(pi*m*x/L_x)*cos(pi*n*y/L_y)/(L_x**2*L_y) + pi**3*C_{mn}*D_22*n**3*sin(pi*m*x/L_x)*cos(pi*n*y/L_y)/L_y**3 + 2*pi**3*C_{mn}*D_66*m**2*n*sin(pi*m*x/L_x)*cos(pi*n*y/L_y)/(L_x**2*L_y) + q_{yy}*sin(pi*m*x/L_x)*cos(pi*n*y/L_y)]])"
      ]
     },
     "execution_count": 615,
     "metadata": {},
     "output_type": "execute_result"
    }
   ],
   "source": [
    "gen_forces = [mx, my, mxy, vx, vy]\n",
    "Matrix(gen_forces)"
   ]
  },
  {
   "cell_type": "code",
   "execution_count": 616,
   "metadata": {},
   "outputs": [
    {
     "data": {
      "text/latex": [
       "$\\displaystyle \\left[\\begin{matrix}\\frac{\\pi^{2} C_{mn} m^{2} \\sin{\\left(\\frac{\\pi m x}{L_{x}} \\right)} \\sin{\\left(\\frac{\\pi n y}{L_{y}} \\right)}}{L_{x}^{2}}\\\\\\frac{\\pi^{2} C_{mn} n^{2} \\sin{\\left(\\frac{\\pi m x}{L_{x}} \\right)} \\sin{\\left(\\frac{\\pi n y}{L_{y}} \\right)}}{L_{y}^{2}}\\\\- \\frac{2 \\pi^{2} C_{mn} m n \\cos{\\left(\\frac{\\pi m x}{L_{x}} \\right)} \\cos{\\left(\\frac{\\pi n y}{L_{y}} \\right)}}{L_{x} L_{y}}\\\\\\frac{\\pi^{3} C_{mn} D_{11} m^{3} \\sin{\\left(\\frac{\\pi n y}{L_{y}} \\right)} \\cos{\\left(\\frac{\\pi m x}{L_{x}} \\right)}}{L_{x}^{3} S_{44}} + \\frac{\\pi^{3} C_{mn} D_{12} m n^{2} \\sin{\\left(\\frac{\\pi n y}{L_{y}} \\right)} \\cos{\\left(\\frac{\\pi m x}{L_{x}} \\right)}}{L_{x} L_{y}^{2} S_{44}} + \\frac{2 \\pi^{3} C_{mn} D_{66} m n^{2} \\sin{\\left(\\frac{\\pi n y}{L_{y}} \\right)} \\cos{\\left(\\frac{\\pi m x}{L_{x}} \\right)}}{L_{x} L_{y}^{2} S_{44}} + \\frac{q_{xx} \\sin{\\left(\\frac{\\pi n y}{L_{y}} \\right)} \\cos{\\left(\\frac{\\pi m x}{L_{x}} \\right)}}{S_{44}}\\\\\\frac{\\pi^{3} C_{mn} D_{12} m^{2} n \\sin{\\left(\\frac{\\pi m x}{L_{x}} \\right)} \\cos{\\left(\\frac{\\pi n y}{L_{y}} \\right)}}{L_{x}^{2} L_{y} S_{55}} + \\frac{\\pi^{3} C_{mn} D_{22} n^{3} \\sin{\\left(\\frac{\\pi m x}{L_{x}} \\right)} \\cos{\\left(\\frac{\\pi n y}{L_{y}} \\right)}}{L_{y}^{3} S_{55}} + \\frac{2 \\pi^{3} C_{mn} D_{66} m^{2} n \\sin{\\left(\\frac{\\pi m x}{L_{x}} \\right)} \\cos{\\left(\\frac{\\pi n y}{L_{y}} \\right)}}{L_{x}^{2} L_{y} S_{55}} + \\frac{q_{yy} \\sin{\\left(\\frac{\\pi m x}{L_{x}} \\right)} \\cos{\\left(\\frac{\\pi n y}{L_{y}} \\right)}}{S_{55}}\\end{matrix}\\right]$"
      ],
      "text/plain": [
       "Matrix([\n",
       "[                                                                                                                                                                                                                      pi**2*C_{mn}*m**2*sin(pi*m*x/L_x)*sin(pi*n*y/L_y)/L_x**2],\n",
       "[                                                                                                                                                                                                                      pi**2*C_{mn}*n**2*sin(pi*m*x/L_x)*sin(pi*n*y/L_y)/L_y**2],\n",
       "[                                                                                                                                                                                                                 -2*pi**2*C_{mn}*m*n*cos(pi*m*x/L_x)*cos(pi*n*y/L_y)/(L_x*L_y)],\n",
       "[pi**3*C_{mn}*D_11*m**3*sin(pi*n*y/L_y)*cos(pi*m*x/L_x)/(L_x**3*S_44) + pi**3*C_{mn}*D_12*m*n**2*sin(pi*n*y/L_y)*cos(pi*m*x/L_x)/(L_x*L_y**2*S_44) + 2*pi**3*C_{mn}*D_66*m*n**2*sin(pi*n*y/L_y)*cos(pi*m*x/L_x)/(L_x*L_y**2*S_44) + q_{xx}*sin(pi*n*y/L_y)*cos(pi*m*x/L_x)/S_44],\n",
       "[pi**3*C_{mn}*D_12*m**2*n*sin(pi*m*x/L_x)*cos(pi*n*y/L_y)/(L_x**2*L_y*S_55) + pi**3*C_{mn}*D_22*n**3*sin(pi*m*x/L_x)*cos(pi*n*y/L_y)/(L_y**3*S_55) + 2*pi**3*C_{mn}*D_66*m**2*n*sin(pi*m*x/L_x)*cos(pi*n*y/L_y)/(L_x**2*L_y*S_55) + q_{yy}*sin(pi*m*x/L_x)*cos(pi*n*y/L_y)/S_55]])"
      ]
     },
     "execution_count": 616,
     "metadata": {},
     "output_type": "execute_result"
    }
   ],
   "source": [
    "gen_curvatures = [kxx, kyy, kxy, exz, eyz]\n",
    "Matrix(gen_curvatures)"
   ]
  },
  {
   "cell_type": "code",
   "execution_count": 617,
   "metadata": {},
   "outputs": [
    {
     "data": {
      "text/latex": [
       "$\\displaystyle \\left[\\begin{matrix}\\frac{\\pi C_{mn} n \\sin{\\left(\\frac{\\pi m x}{L_{x}} \\right)} \\cos{\\left(\\frac{\\pi n y}{L_{y}} \\right)}}{L_{y}}\\\\- \\frac{\\pi C_{mn} m \\sin{\\left(\\frac{\\pi n y}{L_{y}} \\right)} \\cos{\\left(\\frac{\\pi m x}{L_{x}} \\right)}}{L_{x}}\\\\C_{mn} \\sin{\\left(\\frac{\\pi m x}{L_{x}} \\right)} \\sin{\\left(\\frac{\\pi n y}{L_{y}} \\right)}\\end{matrix}\\right]$"
      ],
      "text/plain": [
       "Matrix([\n",
       "[ pi*C_{mn}*n*sin(pi*m*x/L_x)*cos(pi*n*y/L_y)/L_y],\n",
       "[-pi*C_{mn}*m*sin(pi*n*y/L_y)*cos(pi*m*x/L_x)/L_x],\n",
       "[          C_{mn}*sin(pi*m*x/L_x)*sin(pi*n*y/L_y)]])"
      ]
     },
     "execution_count": 617,
     "metadata": {},
     "output_type": "execute_result"
    }
   ],
   "source": [
    "Matrix(disps_trial)"
   ]
  },
  {
   "cell_type": "code",
   "execution_count": 618,
   "metadata": {},
   "outputs": [],
   "source": [
    "w, h = symbols('w h', real = True)\n",
    "xc, yc = symbols('x_c y_c', real = True)\n",
    "\n",
    "# constans vertical load over a rectangular area\n",
    "qmn = (4/(Lx*Ly)) * integrate(pz, (x, xc - w/2, xc + w/2),\n",
    "                            (y, yc - h/2, yc + h/2))\n",
    "qmn_fz = qmn.simplify().expand()\n",
    "\n",
    "# constans moment of intensity mx, around global axis X,\n",
    "# over a rectangular area with width w, height h and center (xc, yc)\n",
    "qmn = (4/(Lx*Ly)) * integrate(diff(pxx, x), (x, xc - w/2, xc + w/2),\n",
    "                            (y, yc - h/2, yc + h/2))\n",
    "qmn_mx = qmn.simplify().expand()\n",
    "\n",
    "# constant moment of intensity my, around global axis Y,\n",
    "# over a rectangular area with width w, height h and center (xc, yc)\n",
    "qmn = (4/(Lx*Ly)) * integrate(diff(pyy, y), (x, xc - w/2, xc + w/2),\n",
    "                            (y, yc - h/2, yc + h/2))\n",
    "qmn_my = qmn.simplify().expand()"
   ]
  },
  {
   "cell_type": "code",
   "execution_count": 619,
   "metadata": {},
   "outputs": [
    {
     "data": {
      "text/latex": [
       "$\\displaystyle \\frac{16 q_{z} \\sin{\\left(\\frac{\\pi m w}{2 L_{x}} \\right)} \\sin{\\left(\\frac{\\pi m x_{c}}{L_{x}} \\right)} \\sin{\\left(\\frac{\\pi h n}{2 L_{y}} \\right)} \\sin{\\left(\\frac{\\pi n y_{c}}{L_{y}} \\right)}}{\\pi^{2} m n} - \\frac{16 q_{yy} \\sin{\\left(\\frac{\\pi m w}{2 L_{x}} \\right)} \\sin{\\left(\\frac{\\pi m x_{c}}{L_{x}} \\right)} \\sin{\\left(\\frac{\\pi h n}{2 L_{y}} \\right)} \\sin{\\left(\\frac{\\pi n y_{c}}{L_{y}} \\right)}}{\\pi L_{y} m} - \\frac{16 q_{xx} \\sin{\\left(\\frac{\\pi m w}{2 L_{x}} \\right)} \\sin{\\left(\\frac{\\pi m x_{c}}{L_{x}} \\right)} \\sin{\\left(\\frac{\\pi h n}{2 L_{y}} \\right)} \\sin{\\left(\\frac{\\pi n y_{c}}{L_{y}} \\right)}}{\\pi L_{x} n}$"
      ],
      "text/plain": [
       "16*q_{z}*sin(pi*m*w/(2*L_x))*sin(pi*m*x_c/L_x)*sin(pi*h*n/(2*L_y))*sin(pi*n*y_c/L_y)/(pi**2*m*n) - 16*q_{yy}*sin(pi*m*w/(2*L_x))*sin(pi*m*x_c/L_x)*sin(pi*h*n/(2*L_y))*sin(pi*n*y_c/L_y)/(pi*L_y*m) - 16*q_{xx}*sin(pi*m*w/(2*L_x))*sin(pi*m*x_c/L_x)*sin(pi*h*n/(2*L_y))*sin(pi*n*y_c/L_y)/(pi*L_x*n)"
      ]
     },
     "execution_count": 619,
     "metadata": {},
     "output_type": "execute_result"
    }
   ],
   "source": [
    "f = qmn_mx + qmn_my + qmn_fz\n",
    "f"
   ]
  },
  {
   "cell_type": "code",
   "execution_count": 620,
   "metadata": {},
   "outputs": [
    {
     "data": {
      "text/plain": [
       "0.3967209360443609"
      ]
     },
     "execution_count": 620,
     "metadata": {},
     "output_type": "execute_result"
    }
   ],
   "source": [
    "rhs = lambdify([m, n, xc, yc, w, h, qxx, qyy, qz, Lx, Ly], f, 'numpy')\n",
    "rhs(1, 1, 5, 5, 1, 1, 0, 0, 10, 10, 10)"
   ]
  },
  {
   "cell_type": "code",
   "execution_count": 621,
   "metadata": {},
   "outputs": [
    {
     "data": {
      "text/plain": [
       "'16*q_{z}*math.sin((1/2)*math.pi*m*w/L_x)*math.sin(math.pi*m*x_c/L_x)*math.sin((1/2)*math.pi*h*n/L_y)*math.sin(math.pi*n*y_c/L_y)/(math.pi**2*m*n) - 16*q_{yy}*math.sin((1/2)*math.pi*m*w/L_x)*math.sin(math.pi*m*x_c/L_x)*math.sin((1/2)*math.pi*h*n/L_y)*math.sin(math.pi*n*y_c/L_y)/(math.pi*L_y*m) - 16*q_{xx}*math.sin((1/2)*math.pi*m*w/L_x)*math.sin(math.pi*m*x_c/L_x)*math.sin((1/2)*math.pi*h*n/L_y)*math.sin(math.pi*n*y_c/L_y)/(math.pi*L_x*n)'"
      ]
     },
     "execution_count": 621,
     "metadata": {},
     "output_type": "execute_result"
    }
   ],
   "source": [
    "pycode(f)"
   ]
  },
  {
   "cell_type": "code",
   "execution_count": 622,
   "metadata": {},
   "outputs": [
    {
     "data": {
      "text/plain": [
       "array([[ 1.92367069e-17],\n",
       "       [-1.92367069e-17],\n",
       "       [ 1.00000000e+00]])"
      ]
     },
     "execution_count": 622,
     "metadata": {},
     "output_type": "execute_result"
    }
   ],
   "source": [
    "dofsol = lambdify([m, n, x, y, Lx, Ly, Cmn], Matrix(disps_trial), 'numpy')\n",
    "dofsol(1, 1, 5, 5, 10, 10, 1)"
   ]
  },
  {
   "cell_type": "code",
   "execution_count": 623,
   "metadata": {},
   "outputs": [
    {
     "data": {
      "text/latex": [
       "$\\displaystyle \\left[\\begin{matrix}\\frac{\\pi^{2} C_{mn} D_{11} m^{2} \\sin{\\left(\\frac{\\pi m x}{L_{x}} \\right)} \\sin{\\left(\\frac{\\pi n y}{L_{y}} \\right)}}{L_{x}^{2}} + \\frac{\\pi^{2} C_{mn} D_{12} n^{2} \\sin{\\left(\\frac{\\pi m x}{L_{x}} \\right)} \\sin{\\left(\\frac{\\pi n y}{L_{y}} \\right)}}{L_{y}^{2}}\\\\\\frac{\\pi^{2} C_{mn} D_{12} m^{2} \\sin{\\left(\\frac{\\pi m x}{L_{x}} \\right)} \\sin{\\left(\\frac{\\pi n y}{L_{y}} \\right)}}{L_{x}^{2}} + \\frac{\\pi^{2} C_{mn} D_{22} n^{2} \\sin{\\left(\\frac{\\pi m x}{L_{x}} \\right)} \\sin{\\left(\\frac{\\pi n y}{L_{y}} \\right)}}{L_{y}^{2}}\\\\- \\frac{2 \\pi^{2} C_{mn} D_{66} m n \\cos{\\left(\\frac{\\pi m x}{L_{x}} \\right)} \\cos{\\left(\\frac{\\pi n y}{L_{y}} \\right)}}{L_{x} L_{y}}\\\\\\frac{\\pi^{3} C_{mn} D_{11} m^{3} \\sin{\\left(\\frac{\\pi n y}{L_{y}} \\right)} \\cos{\\left(\\frac{\\pi m x}{L_{x}} \\right)}}{L_{x}^{3}} + \\frac{\\pi^{3} C_{mn} D_{12} m n^{2} \\sin{\\left(\\frac{\\pi n y}{L_{y}} \\right)} \\cos{\\left(\\frac{\\pi m x}{L_{x}} \\right)}}{L_{x} L_{y}^{2}} + \\frac{2 \\pi^{3} C_{mn} D_{66} m n^{2} \\sin{\\left(\\frac{\\pi n y}{L_{y}} \\right)} \\cos{\\left(\\frac{\\pi m x}{L_{x}} \\right)}}{L_{x} L_{y}^{2}} + q_{xx} \\sin{\\left(\\frac{\\pi n y}{L_{y}} \\right)} \\cos{\\left(\\frac{\\pi m x}{L_{x}} \\right)}\\\\\\frac{\\pi^{3} C_{mn} D_{12} m^{2} n \\sin{\\left(\\frac{\\pi m x}{L_{x}} \\right)} \\cos{\\left(\\frac{\\pi n y}{L_{y}} \\right)}}{L_{x}^{2} L_{y}} + \\frac{\\pi^{3} C_{mn} D_{22} n^{3} \\sin{\\left(\\frac{\\pi m x}{L_{x}} \\right)} \\cos{\\left(\\frac{\\pi n y}{L_{y}} \\right)}}{L_{y}^{3}} + \\frac{2 \\pi^{3} C_{mn} D_{66} m^{2} n \\sin{\\left(\\frac{\\pi m x}{L_{x}} \\right)} \\cos{\\left(\\frac{\\pi n y}{L_{y}} \\right)}}{L_{x}^{2} L_{y}} + q_{yy} \\sin{\\left(\\frac{\\pi m x}{L_{x}} \\right)} \\cos{\\left(\\frac{\\pi n y}{L_{y}} \\right)}\\end{matrix}\\right]$"
      ],
      "text/plain": [
       "Matrix([\n",
       "[                                                                                                                           pi**2*C_{mn}*D_11*m**2*sin(pi*m*x/L_x)*sin(pi*n*y/L_y)/L_x**2 + pi**2*C_{mn}*D_12*n**2*sin(pi*m*x/L_x)*sin(pi*n*y/L_y)/L_y**2],\n",
       "[                                                                                                                           pi**2*C_{mn}*D_12*m**2*sin(pi*m*x/L_x)*sin(pi*n*y/L_y)/L_x**2 + pi**2*C_{mn}*D_22*n**2*sin(pi*m*x/L_x)*sin(pi*n*y/L_y)/L_y**2],\n",
       "[                                                                                                                                                                                      -2*pi**2*C_{mn}*D_66*m*n*cos(pi*m*x/L_x)*cos(pi*n*y/L_y)/(L_x*L_y)],\n",
       "[pi**3*C_{mn}*D_11*m**3*sin(pi*n*y/L_y)*cos(pi*m*x/L_x)/L_x**3 + pi**3*C_{mn}*D_12*m*n**2*sin(pi*n*y/L_y)*cos(pi*m*x/L_x)/(L_x*L_y**2) + 2*pi**3*C_{mn}*D_66*m*n**2*sin(pi*n*y/L_y)*cos(pi*m*x/L_x)/(L_x*L_y**2) + q_{xx}*sin(pi*n*y/L_y)*cos(pi*m*x/L_x)],\n",
       "[pi**3*C_{mn}*D_12*m**2*n*sin(pi*m*x/L_x)*cos(pi*n*y/L_y)/(L_x**2*L_y) + pi**3*C_{mn}*D_22*n**3*sin(pi*m*x/L_x)*cos(pi*n*y/L_y)/L_y**3 + 2*pi**3*C_{mn}*D_66*m**2*n*sin(pi*m*x/L_x)*cos(pi*n*y/L_y)/(L_x**2*L_y) + q_{yy}*sin(pi*m*x/L_x)*cos(pi*n*y/L_y)]])"
      ]
     },
     "execution_count": 623,
     "metadata": {},
     "output_type": "execute_result"
    }
   ],
   "source": [
    "Matrix(gen_forces)"
   ]
  },
  {
   "cell_type": "code",
   "execution_count": 624,
   "metadata": {},
   "outputs": [
    {
     "data": {
      "text/plain": [
       "array([[ 2.96040715e-31],\n",
       "       [ 2.96040715e-31],\n",
       "       [-1.97392088e+01],\n",
       "       [-1.53111597e-14],\n",
       "       [-1.53111597e-14]])"
      ]
     },
     "execution_count": 624,
     "metadata": {},
     "output_type": "execute_result"
    }
   ],
   "source": [
    "intfors = lambdify([m, n, x, y, D11, D12, D22, D66, qxx, qyy, Lx, Ly, Cmn], \n",
    "                   Matrix(gen_forces), 'numpy')\n",
    "intfors(1, 1, 1, 1, 1, 1, 1, 1, 1, 1, 1, 1, 1)"
   ]
  },
  {
   "cell_type": "code",
   "execution_count": 625,
   "metadata": {},
   "outputs": [],
   "source": [
    "import numpy as np\n",
    "\n",
    "size = Lx, Ly = (6, 8)\n",
    "E = 2.89e7\n",
    "nu = 0.2\n",
    "t = 0.25\n",
    "\n",
    "G = E/2/(1+nu)\n",
    "D = np.array([[1, nu, 0], [nu, 1, 0], [0., 0, (1-nu)/2]]) * t**3 * (E / (1-nu**2)) / 12\n",
    "S = np.array([[G, 0], [0, G]]) * t\n",
    "D11, D12, D22, D66 = D[0, 0], D[0, 1], D[1, 1], D[2, 2]\n",
    "S44, S55 = S[0, 0], S[1, 1]\n",
    "xc, yc = size[0]/2, size[1]/2\n",
    "w, h = size[0], size[1]\n",
    "m_x, m_y, p_z = 0, 0, -1000"
   ]
  },
  {
   "cell_type": "code",
   "execution_count": 626,
   "metadata": {},
   "outputs": [],
   "source": [
    "M, N = 50, 50\n",
    "res = np.zeros((M*N))\n",
    "for i in range(M):\n",
    "    for j in range(N):\n",
    "        b_mn = rhs(i+1, j+1, xc, yc, w, h, m_x, m_y, p_z, Lx, Ly)\n",
    "        a_mn = lhs(i+1, j+1, D11, D12, D22, D66, Lx, Ly)\n",
    "        res[i*N + j] = b_mn / a_mn"
   ]
  },
  {
   "cell_type": "code",
   "execution_count": 627,
   "metadata": {},
   "outputs": [
    {
     "data": {
      "text/plain": [
       "array([-4.39385334e-18,  6.89213381e-18, -2.19168691e-01])"
      ]
     },
     "execution_count": 627,
     "metadata": {},
     "output_type": "execute_result"
    }
   ],
   "source": [
    "xp, yp = Lx/2, Ly/2\n",
    "dp = np.zeros(3)\n",
    "for i in range(M):\n",
    "    for j in range(N):\n",
    "        Cmn = res[i*N + j]\n",
    "        dp += dofsol(i+1, j+1, xp, yp, Lx, Ly, Cmn).flatten()\n",
    "dp"
   ]
  },
  {
   "cell_type": "code",
   "execution_count": 628,
   "metadata": {},
   "outputs": [],
   "source": [
    "from dewloosh.geom import grid, PolyData\n",
    "from dewloosh.geom.tri.trimesh import triangulate\n",
    "from dewloosh.geom.topo.tr import Q4_to_T3\n",
    "\n",
    "shape = nx, ny = (10, 10)\n",
    "gridparams = {\n",
    "    'size' : size,\n",
    "    'shape' : shape,\n",
    "    'origo' : (0, 0),\n",
    "    'start' : 0,\n",
    "    'eshape' : 'Q4'\n",
    "    }\n",
    "coords_, topo = grid(**gridparams)\n",
    "coords = np.zeros((coords_.shape[0], 3))\n",
    "coords[:, :2] = coords_[:, :]\n",
    "del coords_\n",
    "coords, triangles = Q4_to_T3(coords, topo)\n",
    "\n",
    "triobj = triangulate(points=coords[:, :2], triangles=triangles)[-1]\n",
    "Mesh = PolyData(coords=coords, topo=triangles)\n",
    "centers = Mesh.centers()"
   ]
  },
  {
   "cell_type": "code",
   "execution_count": 629,
   "metadata": {},
   "outputs": [],
   "source": [
    "nP = len(centers)\n",
    "data = np.zeros((nP, 3))\n",
    "for i in range(M):\n",
    "    for j in range(N):\n",
    "        Cmn = res[i*N + j]\n",
    "        for k in range(nP):\n",
    "            xp, yp = centers[k, :2]\n",
    "            data[k] += dofsol(i+1, j+1, xp, yp, Lx, Ly, Cmn).flatten()"
   ]
  },
  {
   "cell_type": "code",
   "execution_count": null,
   "metadata": {},
   "outputs": [],
   "source": [
    "%matplotlib qt"
   ]
  },
  {
   "cell_type": "code",
   "execution_count": null,
   "metadata": {},
   "outputs": [],
   "source": [
    "from dewloosh.geom.tri.triplot import triplot\n",
    "import matplotlib.pyplot as plt\n",
    "from matplotlib import gridspec\n",
    "\n",
    "plt.style.use('default')\n",
    "fig = plt.figure(figsize=(8, 3))  # in inches\n",
    "fig.patch.set_facecolor('white')\n",
    "cmap = 'jet'\n",
    "gs = gridspec.GridSpec(1, 4)\n",
    "\n",
    "# mesh\n",
    "ax = fig.add_subplot(gs[0])\n",
    "triplot(triobj, ax=ax, fig=fig)\n",
    "# rotX\n",
    "ax = fig.add_subplot(gs[1])\n",
    "triplot(triobj, ax=ax, fig=fig, title=r'$\\theta_x$',\n",
    "        data=data[:, 0], cmap=cmap, axis='off')\n",
    "# rotY\n",
    "ax = fig.add_subplot(gs[2])\n",
    "triplot(triobj, ax=ax, fig=fig, title=r'$\\theta_y$',\n",
    "        data=data[:, 1], cmap=cmap, axis='off')\n",
    "# w\n",
    "ax = fig.add_subplot(gs[3])\n",
    "triplot(triobj, ax=ax, fig=fig, title=r'$w$',\n",
    "        data=data[:, 2], cmap=cmap, axis='off')\n",
    "\n",
    "fig.tight_layout()"
   ]
  },
  {
   "cell_type": "code",
   "execution_count": null,
   "metadata": {},
   "outputs": [],
   "source": [
    "nP = len(centers)\n",
    "sdata = np.zeros((nP, 5))\n",
    "for i in range(M):\n",
    "    for j in range(N):\n",
    "        Cmn = res[i*N + j]\n",
    "        for k in range(nP):\n",
    "            xp, yp = centers[k, :2]\n",
    "            sdata[k] += intfors(i+1, j+1, xp, yp, D11, D12, \n",
    "                                D22, D66, m_x, m_y, Lx, Ly, Cmn).flatten()"
   ]
  },
  {
   "cell_type": "code",
   "execution_count": null,
   "metadata": {},
   "outputs": [],
   "source": [
    "fig = plt.figure(figsize=(10, 2))  # in inches\n",
    "fig.patch.set_facecolor('white')\n",
    "cmap = 'jet'\n",
    "gs = gridspec.GridSpec(1, 5)\n",
    "\n",
    "# rotX\n",
    "ax = fig.add_subplot(gs[0])\n",
    "triplot(triobj, ax=ax, fig=fig, title=r'$m_x$',\n",
    "        data=sdata[:, 0], cmap=cmap, axis='off')\n",
    "# rotY\n",
    "ax = fig.add_subplot(gs[1])\n",
    "triplot(triobj, ax=ax, fig=fig, title=r'$m_y$',\n",
    "        data=sdata[:, 1], cmap=cmap, axis='off')\n",
    "# w\n",
    "ax = fig.add_subplot(gs[2])\n",
    "triplot(triobj, ax=ax, fig=fig, title=r'$m_{xy}$',\n",
    "        data=sdata[:, 2], cmap=cmap, axis='off')\n",
    "\n",
    "# rotY\n",
    "ax = fig.add_subplot(gs[3])\n",
    "triplot(triobj, ax=ax, fig=fig, title=r'$v_x$',\n",
    "        data=sdata[:, 3], cmap=cmap, axis='off')\n",
    "# w\n",
    "ax = fig.add_subplot(gs[4])\n",
    "triplot(triobj, ax=ax, fig=fig, title=r'$v_y$',\n",
    "        data=sdata[:, 4], cmap=cmap, axis='off')\n",
    "\n",
    "fig.tight_layout()"
   ]
  }
 ],
 "metadata": {
  "interpreter": {
   "hash": "8d15e2cb4dca8274af5fb092bbadab583a099b53b169f927cb892edc8b735b32"
  },
  "kernelspec": {
   "display_name": "Python 3.8.10 64-bit ('.dewloosh': venv)",
   "language": "python",
   "name": "python3"
  },
  "language_info": {
   "codemirror_mode": {
    "name": "ipython",
    "version": 3
   },
   "file_extension": ".py",
   "mimetype": "text/x-python",
   "name": "python",
   "nbconvert_exporter": "python",
   "pygments_lexer": "ipython3",
   "version": "3.8.10"
  },
  "orig_nbformat": 4
 },
 "nbformat": 4,
 "nbformat_minor": 2
}

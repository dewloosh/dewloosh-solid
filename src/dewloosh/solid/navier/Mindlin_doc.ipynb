{
 "cells": [
  {
   "cell_type": "code",
   "execution_count": 1069,
   "metadata": {},
   "outputs": [],
   "source": [
    "import sympy as sy\n",
    "from sympy import symbols, Function, diff, Matrix, MatMul, \\\n",
    "    integrate, Symbol, sin, cos, pi, simplify\n",
    "import pylatex as pltx\n",
    "from pylatex import Section, Subsection, Command, NoEscape, Package, NewPage\n",
    "from dewloosh.solid.navier.latex import expr_to_ltx, expr_to_ltx_breqn\n",
    "from dewloosh.solid.navier.symtools import inv_sym_3x3"
   ]
  },
  {
   "cell_type": "code",
   "execution_count": 1070,
   "metadata": {},
   "outputs": [],
   "source": [
    "# coordinates in a suitable vector space\n",
    "x, y, z = symbols('x y z', real=True)\n",
    "\n",
    "# kinematic variables\n",
    "w0 = Function('w_0')(x, y)\n",
    "thx = Function('\\\\theta_x')(x, y)\n",
    "thy = Function('\\\\theta_y')(x, y)\n",
    "\n",
    "# sign modifiers for kinematic variables\n",
    "beta_w, beta_u, beta_v, = \\\n",
    "    symbols('\\\\beta_w, \\\\beta_u, \\\\beta_v', real = True)"
   ]
  },
  {
   "cell_type": "markdown",
   "metadata": {},
   "source": [
    "Displacement Field"
   ]
  },
  {
   "cell_type": "code",
   "execution_count": 1071,
   "metadata": {},
   "outputs": [
    {
     "data": {
      "text/latex": [
       "$\\displaystyle \\left[\\begin{matrix}z \\theta_{y}{\\left(x,y \\right)}\\\\- z \\theta_{x}{\\left(x,y \\right)}\\\\\\operatorname{w_{0}}{\\left(x,y \\right)}\\end{matrix}\\right]$"
      ],
      "text/plain": [
       "Matrix([\n",
       "[ z*\\theta_y(x, y)],\n",
       "[-z*\\theta_x(x, y)],\n",
       "[        w_0(x, y)]])"
      ]
     },
     "execution_count": 1071,
     "metadata": {},
     "output_type": "execute_result"
    }
   ],
   "source": [
    "\"\"\"\n",
    "u = -z * beta_u * thx\n",
    "v = -z * beta_v * thy\n",
    "w = beta_w * w0\n",
    "\"\"\"\n",
    "u = z * thy\n",
    "v = -z * thx\n",
    "w = w0\n",
    "disps = [u, v, w]\n",
    "Matrix(disps)"
   ]
  },
  {
   "cell_type": "markdown",
   "metadata": {},
   "source": [
    "Boundary Conditions and Trial Solution"
   ]
  },
  {
   "cell_type": "code",
   "execution_count": 1072,
   "metadata": {},
   "outputs": [],
   "source": [
    "mn = m, n = symbols('m n', integer=True, positive=True)\n",
    "coeffs = Amn, Bmn, Cmn = symbols('A_{mn} B_{mn} C_{mn}', real=True)\n",
    "shape = Lx, Ly = symbols('L_x, L_y', real=True)\n",
    "Sm, Sn = sin(m * pi * x / Lx), sin(n * pi * y / Ly)\n",
    "Cm, Cn = cos(m * pi * x / Lx), cos(n * pi * y / Ly)"
   ]
  },
  {
   "cell_type": "code",
   "execution_count": 1073,
   "metadata": {},
   "outputs": [
    {
     "data": {
      "text/latex": [
       "$\\displaystyle \\left[\\begin{matrix}A_{mn} \\sin{\\left(\\frac{\\pi m x}{L_{x}} \\right)} \\cos{\\left(\\frac{\\pi n y}{L_{y}} \\right)}\\\\B_{mn} \\sin{\\left(\\frac{\\pi n y}{L_{y}} \\right)} \\cos{\\left(\\frac{\\pi m x}{L_{x}} \\right)}\\\\C_{mn} \\sin{\\left(\\frac{\\pi m x}{L_{x}} \\right)} \\sin{\\left(\\frac{\\pi n y}{L_{y}} \\right)}\\end{matrix}\\right]$"
      ],
      "text/plain": [
       "Matrix([\n",
       "[A_{mn}*sin(pi*m*x/L_x)*cos(pi*n*y/L_y)],\n",
       "[B_{mn}*sin(pi*n*y/L_y)*cos(pi*m*x/L_x)],\n",
       "[C_{mn}*sin(pi*m*x/L_x)*sin(pi*n*y/L_y)]])"
      ]
     },
     "execution_count": 1073,
     "metadata": {},
     "output_type": "execute_result"
    }
   ],
   "source": [
    "w0_trial = Cmn * Sm * Sn\n",
    "thx_trial = Amn * Cn * Sm\n",
    "thy_trial = Bmn * Sn * Cm\n",
    "trial = {w0 : w0_trial, thx : thx_trial, thy: thy_trial}\n",
    "disps_trial = [s.subs(trial).expand().doit() for s in [thx_trial, thy_trial, w0_trial]]\n",
    "Matrix(disps_trial)"
   ]
  },
  {
   "cell_type": "code",
   "execution_count": 1074,
   "metadata": {},
   "outputs": [
    {
     "data": {
      "text/latex": [
       "$\\displaystyle \\left[\\begin{matrix}B_{mn} z \\sin{\\left(\\frac{\\pi n y}{L_{y}} \\right)} \\cos{\\left(\\frac{\\pi m x}{L_{x}} \\right)}\\\\- A_{mn} z \\sin{\\left(\\frac{\\pi m x}{L_{x}} \\right)} \\cos{\\left(\\frac{\\pi n y}{L_{y}} \\right)}\\\\C_{mn} \\sin{\\left(\\frac{\\pi m x}{L_{x}} \\right)} \\sin{\\left(\\frac{\\pi n y}{L_{y}} \\right)}\\end{matrix}\\right]$"
      ],
      "text/plain": [
       "Matrix([\n",
       "[ B_{mn}*z*sin(pi*n*y/L_y)*cos(pi*m*x/L_x)],\n",
       "[-A_{mn}*z*sin(pi*m*x/L_x)*cos(pi*n*y/L_y)],\n",
       "[   C_{mn}*sin(pi*m*x/L_x)*sin(pi*n*y/L_y)]])"
      ]
     },
     "execution_count": 1074,
     "metadata": {},
     "output_type": "execute_result"
    }
   ],
   "source": [
    "Matrix([s.subs(trial).expand().doit() for s in disps])"
   ]
  },
  {
   "cell_type": "markdown",
   "metadata": {},
   "source": [
    "Strain - Displacement Equations"
   ]
  },
  {
   "cell_type": "code",
   "execution_count": 1075,
   "metadata": {},
   "outputs": [
    {
     "data": {
      "text/latex": [
       "$\\displaystyle \\left[\\begin{matrix}z \\frac{\\partial}{\\partial x} \\theta_{y}{\\left(x,y \\right)}\\\\- z \\frac{\\partial}{\\partial y} \\theta_{x}{\\left(x,y \\right)}\\\\- z \\frac{\\partial}{\\partial x} \\theta_{x}{\\left(x,y \\right)} + z \\frac{\\partial}{\\partial y} \\theta_{y}{\\left(x,y \\right)}\\\\\\theta_{y}{\\left(x,y \\right)} + \\frac{\\partial}{\\partial x} \\operatorname{w_{0}}{\\left(x,y \\right)}\\\\- \\theta_{x}{\\left(x,y \\right)} + \\frac{\\partial}{\\partial y} \\operatorname{w_{0}}{\\left(x,y \\right)}\\end{matrix}\\right]$"
      ],
      "text/plain": [
       "Matrix([\n",
       "[                                   z*Derivative(\\theta_y(x, y), x)],\n",
       "[                                  -z*Derivative(\\theta_x(x, y), y)],\n",
       "[-z*Derivative(\\theta_x(x, y), x) + z*Derivative(\\theta_y(x, y), y)],\n",
       "[                         \\theta_y(x, y) + Derivative(w_0(x, y), x)],\n",
       "[                        -\\theta_x(x, y) + Derivative(w_0(x, y), y)]])"
      ]
     },
     "execution_count": 1075,
     "metadata": {},
     "output_type": "execute_result"
    }
   ],
   "source": [
    "exx = diff(u, x)\n",
    "eyy = diff(v, y)\n",
    "exy = diff(u, y) + diff(v, x)\n",
    "exz = diff(w, x) + diff(u, z)\n",
    "eyz = diff(w, y) + diff(v, z)\n",
    "strains = [exx, eyy, exy, exz, eyz]\n",
    "Matrix(strains)"
   ]
  },
  {
   "cell_type": "code",
   "execution_count": 1076,
   "metadata": {},
   "outputs": [
    {
     "data": {
      "text/latex": [
       "$\\displaystyle \\left[\\begin{matrix}- \\frac{\\pi B_{mn} m z \\sin{\\left(\\frac{\\pi m x}{L_{x}} \\right)} \\sin{\\left(\\frac{\\pi n y}{L_{y}} \\right)}}{L_{x}}\\\\\\frac{\\pi A_{mn} n z \\sin{\\left(\\frac{\\pi m x}{L_{x}} \\right)} \\sin{\\left(\\frac{\\pi n y}{L_{y}} \\right)}}{L_{y}}\\\\- \\frac{\\pi A_{mn} m z \\cos{\\left(\\frac{\\pi m x}{L_{x}} \\right)} \\cos{\\left(\\frac{\\pi n y}{L_{y}} \\right)}}{L_{x}} + \\frac{\\pi B_{mn} n z \\cos{\\left(\\frac{\\pi m x}{L_{x}} \\right)} \\cos{\\left(\\frac{\\pi n y}{L_{y}} \\right)}}{L_{y}}\\\\B_{mn} \\sin{\\left(\\frac{\\pi n y}{L_{y}} \\right)} \\cos{\\left(\\frac{\\pi m x}{L_{x}} \\right)} + \\frac{\\pi C_{mn} m \\sin{\\left(\\frac{\\pi n y}{L_{y}} \\right)} \\cos{\\left(\\frac{\\pi m x}{L_{x}} \\right)}}{L_{x}}\\\\- A_{mn} \\sin{\\left(\\frac{\\pi m x}{L_{x}} \\right)} \\cos{\\left(\\frac{\\pi n y}{L_{y}} \\right)} + \\frac{\\pi C_{mn} n \\sin{\\left(\\frac{\\pi m x}{L_{x}} \\right)} \\cos{\\left(\\frac{\\pi n y}{L_{y}} \\right)}}{L_{y}}\\end{matrix}\\right]$"
      ],
      "text/plain": [
       "Matrix([\n",
       "[                                                    -pi*B_{mn}*m*z*sin(pi*m*x/L_x)*sin(pi*n*y/L_y)/L_x],\n",
       "[                                                     pi*A_{mn}*n*z*sin(pi*m*x/L_x)*sin(pi*n*y/L_y)/L_y],\n",
       "[-pi*A_{mn}*m*z*cos(pi*m*x/L_x)*cos(pi*n*y/L_y)/L_x + pi*B_{mn}*n*z*cos(pi*m*x/L_x)*cos(pi*n*y/L_y)/L_y],\n",
       "[              B_{mn}*sin(pi*n*y/L_y)*cos(pi*m*x/L_x) + pi*C_{mn}*m*sin(pi*n*y/L_y)*cos(pi*m*x/L_x)/L_x],\n",
       "[             -A_{mn}*sin(pi*m*x/L_x)*cos(pi*n*y/L_y) + pi*C_{mn}*n*sin(pi*m*x/L_x)*cos(pi*n*y/L_y)/L_y]])"
      ]
     },
     "execution_count": 1076,
     "metadata": {},
     "output_type": "execute_result"
    }
   ],
   "source": [
    "strains_trial = [s.subs(trial).expand().doit() for s in strains]\n",
    "Matrix(strains_trial)"
   ]
  },
  {
   "cell_type": "markdown",
   "metadata": {},
   "source": [
    "A possible definition of curvatures would be:"
   ]
  },
  {
   "cell_type": "code",
   "execution_count": 1077,
   "metadata": {},
   "outputs": [
    {
     "data": {
      "text/latex": [
       "$\\displaystyle \\left[\\begin{matrix}\\frac{\\partial}{\\partial x} \\theta_{y}{\\left(x,y \\right)}\\\\- \\frac{\\partial}{\\partial y} \\theta_{x}{\\left(x,y \\right)}\\\\- \\frac{\\partial}{\\partial x} \\theta_{x}{\\left(x,y \\right)} + \\frac{\\partial}{\\partial y} \\theta_{y}{\\left(x,y \\right)}\\\\\\theta_{y}{\\left(x,y \\right)} + \\frac{\\partial}{\\partial x} \\operatorname{w_{0}}{\\left(x,y \\right)}\\\\- \\theta_{x}{\\left(x,y \\right)} + \\frac{\\partial}{\\partial y} \\operatorname{w_{0}}{\\left(x,y \\right)}\\end{matrix}\\right]$"
      ],
      "text/plain": [
       "Matrix([\n",
       "[                                 Derivative(\\theta_y(x, y), x)],\n",
       "[                                -Derivative(\\theta_x(x, y), y)],\n",
       "[-Derivative(\\theta_x(x, y), x) + Derivative(\\theta_y(x, y), y)],\n",
       "[                     \\theta_y(x, y) + Derivative(w_0(x, y), x)],\n",
       "[                    -\\theta_x(x, y) + Derivative(w_0(x, y), y)]])"
      ]
     },
     "execution_count": 1077,
     "metadata": {},
     "output_type": "execute_result"
    }
   ],
   "source": [
    "kxx = diff(exx, z)\n",
    "kyy = diff(eyy, z)\n",
    "kxy = diff(exy, z)\n",
    "gen_curvatures = [kxx, kyy, kxy, exz, eyz]\n",
    "Matrix(gen_curvatures)"
   ]
  },
  {
   "cell_type": "code",
   "execution_count": 1078,
   "metadata": {},
   "outputs": [
    {
     "data": {
      "text/latex": [
       "$\\displaystyle \\left[\\begin{matrix}- \\frac{\\pi B_{mn} m \\sin{\\left(\\frac{\\pi m x}{L_{x}} \\right)} \\sin{\\left(\\frac{\\pi n y}{L_{y}} \\right)}}{L_{x}}\\\\\\frac{\\pi A_{mn} n \\sin{\\left(\\frac{\\pi m x}{L_{x}} \\right)} \\sin{\\left(\\frac{\\pi n y}{L_{y}} \\right)}}{L_{y}}\\\\- \\frac{\\pi A_{mn} m \\cos{\\left(\\frac{\\pi m x}{L_{x}} \\right)} \\cos{\\left(\\frac{\\pi n y}{L_{y}} \\right)}}{L_{x}} + \\frac{\\pi B_{mn} n \\cos{\\left(\\frac{\\pi m x}{L_{x}} \\right)} \\cos{\\left(\\frac{\\pi n y}{L_{y}} \\right)}}{L_{y}}\\\\B_{mn} \\sin{\\left(\\frac{\\pi n y}{L_{y}} \\right)} \\cos{\\left(\\frac{\\pi m x}{L_{x}} \\right)} + \\frac{\\pi C_{mn} m \\sin{\\left(\\frac{\\pi n y}{L_{y}} \\right)} \\cos{\\left(\\frac{\\pi m x}{L_{x}} \\right)}}{L_{x}}\\\\- A_{mn} \\sin{\\left(\\frac{\\pi m x}{L_{x}} \\right)} \\cos{\\left(\\frac{\\pi n y}{L_{y}} \\right)} + \\frac{\\pi C_{mn} n \\sin{\\left(\\frac{\\pi m x}{L_{x}} \\right)} \\cos{\\left(\\frac{\\pi n y}{L_{y}} \\right)}}{L_{y}}\\end{matrix}\\right]$"
      ],
      "text/plain": [
       "Matrix([\n",
       "[                                                  -pi*B_{mn}*m*sin(pi*m*x/L_x)*sin(pi*n*y/L_y)/L_x],\n",
       "[                                                   pi*A_{mn}*n*sin(pi*m*x/L_x)*sin(pi*n*y/L_y)/L_y],\n",
       "[-pi*A_{mn}*m*cos(pi*m*x/L_x)*cos(pi*n*y/L_y)/L_x + pi*B_{mn}*n*cos(pi*m*x/L_x)*cos(pi*n*y/L_y)/L_y],\n",
       "[          B_{mn}*sin(pi*n*y/L_y)*cos(pi*m*x/L_x) + pi*C_{mn}*m*sin(pi*n*y/L_y)*cos(pi*m*x/L_x)/L_x],\n",
       "[         -A_{mn}*sin(pi*m*x/L_x)*cos(pi*n*y/L_y) + pi*C_{mn}*n*sin(pi*m*x/L_x)*cos(pi*n*y/L_y)/L_y]])"
      ]
     },
     "execution_count": 1078,
     "metadata": {},
     "output_type": "execute_result"
    }
   ],
   "source": [
    "gen_curvatures_trial = [k.subs(trial).expand().doit() for k in gen_curvatures]\n",
    "Matrix(gen_curvatures_trial)"
   ]
  },
  {
   "cell_type": "markdown",
   "metadata": {},
   "source": [
    "strains '+' Hooke model -> stresses"
   ]
  },
  {
   "cell_type": "code",
   "execution_count": 1079,
   "metadata": {},
   "outputs": [],
   "source": [
    "# sign modifiers for internal forces\n",
    "\"\"\"\n",
    "inds = ['x', 'y', 'xy', 'xz', 'yz']\n",
    "syms = \" \".join([\"\\\\alpha_{}\".format('{' + i + '}') for i in inds])\n",
    "alpha = symbols(sims, real = True)\n",
    "mx *= alpha[0]\n",
    "my *= alpha[1]\n",
    "mxy *= alpha[2]\n",
    "vx *= alpha[3]\n",
    "vy *= alpha[4]\n",
    "\"\"\"\n",
    "\n",
    "C11, C22, C12, C16, C26, C66 = C126ij = \\\n",
    "    symbols('C_11 C_22 C_12 C_16 C_26 C_66', real=True)\n",
    "C126 = sy.Matrix([[C11, C12, 0], [C12, C22, 0], [0, 0, C66]])\n",
    "sxx, syy, sxy = MatMul(C126, sy.Matrix([exx, eyy, exy])).doit()\n",
    "C44, C55 = C45ij = symbols('C_44 C_55', real=True)\n",
    "C45 = sy.Matrix([[C44, 0], [0, C55]])\n",
    "syz, sxz = MatMul(C45, sy.Matrix([eyz, exz])).doit()\n",
    "\n",
    "# integrate through the thickness\n",
    "h = Symbol('t', real = True)  # thickness\n",
    "Int = lambda expr : integrate(expr, (z, -h/2, h/2))\n",
    "D11, D22, D12, D66 = Dij = symbols('D_11 D_22 D_12 D_66', real = True)\n",
    "S44, S55, = Sij = symbols('S_44 S_55', real = True)\n",
    "#\n",
    "mx, my, mxy = M = Matrix([Int(s * z) for s in [sxx, syy, sxy]])\n",
    "vx, vy = V = Matrix([Int(s) for s in [sxz, syz]])\n",
    "#\n",
    "mx = mx.simplify().expand()\n",
    "cD11 = mx.coeff(C11 * h**3 / 12)\n",
    "cD12 = mx.coeff(C12 * h**3 / 12)\n",
    "mx = D11 * cD11 + D12 * cD12\n",
    "#\n",
    "my = my.simplify().expand()\n",
    "cD22 = my.coeff(C22 * h**3 / 12)\n",
    "cD21 = my.coeff(C12 * h**3 / 12)\n",
    "my = D22 * cD22 + D12 * cD21\n",
    "#\n",
    "mxy = mxy.simplify().expand()\n",
    "cD66 = mxy.coeff(C66 * h**3 / 12)\n",
    "mxy = D66 * cD66\n",
    "#\n",
    "vx = vx.simplify().expand()\n",
    "cS55 = vx.coeff(C55 * h)\n",
    "vx = S55 * cS55\n",
    "#\n",
    "vy = vy.simplify().expand()\n",
    "cS44 = vy.coeff(C44 * h)\n",
    "vy = S44 * cS44\n",
    "mx = mx.simplify().expand()\n",
    "my = my.simplify().expand()\n",
    "mxy = mxy.simplify().expand()\n",
    "vx = vx.simplify().expand()\n",
    "vy = vy.simplify().expand()"
   ]
  },
  {
   "cell_type": "code",
   "execution_count": 1080,
   "metadata": {},
   "outputs": [
    {
     "data": {
      "text/latex": [
       "$\\displaystyle \\left[\\begin{matrix}D_{11} \\frac{\\partial}{\\partial x} \\theta_{y}{\\left(x,y \\right)} - D_{12} \\frac{\\partial}{\\partial y} \\theta_{x}{\\left(x,y \\right)}\\\\D_{12} \\frac{\\partial}{\\partial x} \\theta_{y}{\\left(x,y \\right)} - D_{22} \\frac{\\partial}{\\partial y} \\theta_{x}{\\left(x,y \\right)}\\\\- D_{66} \\frac{\\partial}{\\partial x} \\theta_{x}{\\left(x,y \\right)} + D_{66} \\frac{\\partial}{\\partial y} \\theta_{y}{\\left(x,y \\right)}\\\\S_{55} \\theta_{y}{\\left(x,y \\right)} + S_{55} \\frac{\\partial}{\\partial x} \\operatorname{w_{0}}{\\left(x,y \\right)}\\\\- S_{44} \\theta_{x}{\\left(x,y \\right)} + S_{44} \\frac{\\partial}{\\partial y} \\operatorname{w_{0}}{\\left(x,y \\right)}\\end{matrix}\\right]$"
      ],
      "text/plain": [
       "Matrix([\n",
       "[ D_11*Derivative(\\theta_y(x, y), x) - D_12*Derivative(\\theta_x(x, y), y)],\n",
       "[ D_12*Derivative(\\theta_y(x, y), x) - D_22*Derivative(\\theta_x(x, y), y)],\n",
       "[-D_66*Derivative(\\theta_x(x, y), x) + D_66*Derivative(\\theta_y(x, y), y)],\n",
       "[                     S_55*\\theta_y(x, y) + S_55*Derivative(w_0(x, y), x)],\n",
       "[                    -S_44*\\theta_x(x, y) + S_44*Derivative(w_0(x, y), y)]])"
      ]
     },
     "execution_count": 1080,
     "metadata": {},
     "output_type": "execute_result"
    }
   ],
   "source": [
    "gen_forces = [mx, my, mxy, vx, vy]\n",
    "Matrix(gen_forces)"
   ]
  },
  {
   "cell_type": "code",
   "execution_count": 1081,
   "metadata": {},
   "outputs": [
    {
     "data": {
      "text/latex": [
       "$\\displaystyle \\left[\\begin{matrix}\\frac{\\pi A_{mn} D_{12} n \\sin{\\left(\\frac{\\pi m x}{L_{x}} \\right)} \\sin{\\left(\\frac{\\pi n y}{L_{y}} \\right)}}{L_{y}} - \\frac{\\pi B_{mn} D_{11} m \\sin{\\left(\\frac{\\pi m x}{L_{x}} \\right)} \\sin{\\left(\\frac{\\pi n y}{L_{y}} \\right)}}{L_{x}}\\\\\\frac{\\pi A_{mn} D_{22} n \\sin{\\left(\\frac{\\pi m x}{L_{x}} \\right)} \\sin{\\left(\\frac{\\pi n y}{L_{y}} \\right)}}{L_{y}} - \\frac{\\pi B_{mn} D_{12} m \\sin{\\left(\\frac{\\pi m x}{L_{x}} \\right)} \\sin{\\left(\\frac{\\pi n y}{L_{y}} \\right)}}{L_{x}}\\\\- \\frac{\\pi A_{mn} D_{66} m \\cos{\\left(\\frac{\\pi m x}{L_{x}} \\right)} \\cos{\\left(\\frac{\\pi n y}{L_{y}} \\right)}}{L_{x}} + \\frac{\\pi B_{mn} D_{66} n \\cos{\\left(\\frac{\\pi m x}{L_{x}} \\right)} \\cos{\\left(\\frac{\\pi n y}{L_{y}} \\right)}}{L_{y}}\\\\B_{mn} S_{55} \\sin{\\left(\\frac{\\pi n y}{L_{y}} \\right)} \\cos{\\left(\\frac{\\pi m x}{L_{x}} \\right)} + \\frac{\\pi C_{mn} S_{55} m \\sin{\\left(\\frac{\\pi n y}{L_{y}} \\right)} \\cos{\\left(\\frac{\\pi m x}{L_{x}} \\right)}}{L_{x}}\\\\- A_{mn} S_{44} \\sin{\\left(\\frac{\\pi m x}{L_{x}} \\right)} \\cos{\\left(\\frac{\\pi n y}{L_{y}} \\right)} + \\frac{\\pi C_{mn} S_{44} n \\sin{\\left(\\frac{\\pi m x}{L_{x}} \\right)} \\cos{\\left(\\frac{\\pi n y}{L_{y}} \\right)}}{L_{y}}\\end{matrix}\\right]$"
      ],
      "text/plain": [
       "Matrix([\n",
       "[ pi*A_{mn}*D_12*n*sin(pi*m*x/L_x)*sin(pi*n*y/L_y)/L_y - pi*B_{mn}*D_11*m*sin(pi*m*x/L_x)*sin(pi*n*y/L_y)/L_x],\n",
       "[ pi*A_{mn}*D_22*n*sin(pi*m*x/L_x)*sin(pi*n*y/L_y)/L_y - pi*B_{mn}*D_12*m*sin(pi*m*x/L_x)*sin(pi*n*y/L_y)/L_x],\n",
       "[-pi*A_{mn}*D_66*m*cos(pi*m*x/L_x)*cos(pi*n*y/L_y)/L_x + pi*B_{mn}*D_66*n*cos(pi*m*x/L_x)*cos(pi*n*y/L_y)/L_y],\n",
       "[          B_{mn}*S_55*sin(pi*n*y/L_y)*cos(pi*m*x/L_x) + pi*C_{mn}*S_55*m*sin(pi*n*y/L_y)*cos(pi*m*x/L_x)/L_x],\n",
       "[         -A_{mn}*S_44*sin(pi*m*x/L_x)*cos(pi*n*y/L_y) + pi*C_{mn}*S_44*n*sin(pi*m*x/L_x)*cos(pi*n*y/L_y)/L_y]])"
      ]
     },
     "execution_count": 1081,
     "metadata": {},
     "output_type": "execute_result"
    }
   ],
   "source": [
    "gen_forces_trial = [k.subs(trial).expand().doit() for k in gen_forces]\n",
    "Matrix(gen_forces_trial)"
   ]
  },
  {
   "cell_type": "code",
   "execution_count": 1082,
   "metadata": {},
   "outputs": [
    {
     "data": {
      "text/latex": [
       "$\\displaystyle \\left[\\begin{matrix}D_{11} & D_{12} & 0 & 0 & 0\\\\D_{12} & D_{22} & 0 & 0 & 0\\\\0 & 0 & D_{66} & 0 & 0\\\\0 & 0 & 0 & S_{55} & 0\\\\0 & 0 & 0 & 0 & S_{44}\\end{matrix}\\right]$"
      ],
      "text/plain": [
       "Matrix([\n",
       "[D_11, D_12,    0,    0,    0],\n",
       "[D_12, D_22,    0,    0,    0],\n",
       "[   0,    0, D_66,    0,    0],\n",
       "[   0,    0,    0, S_55,    0],\n",
       "[   0,    0,    0,    0, S_44]])"
      ]
     },
     "execution_count": 1082,
     "metadata": {},
     "output_type": "execute_result"
    }
   ],
   "source": [
    "D = sy.zeros(5, 5)\n",
    "D[0, 0] = mx.simplify().coeff(kxx)\n",
    "D[0, 1] = mx.simplify().coeff(kyy)\n",
    "D[0, 2] = mx.simplify().coeff(kxy)\n",
    "D[1, 0] = my.simplify().coeff(kxx)\n",
    "D[1, 1] = my.simplify().coeff(kyy)\n",
    "D[1, 2] = my.simplify().coeff(kxy)\n",
    "D[2, 0] = mxy.simplify().coeff(kxx)\n",
    "D[2, 1] = mxy.simplify().coeff(kyy)\n",
    "D[2, 2] = mxy.simplify().coeff(kxy)\n",
    "D[3, 3] = vx.simplify().coeff(exz)\n",
    "D[3, 4] = vx.simplify().coeff(eyz)\n",
    "D[4, 3] = vy.simplify().coeff(exz)\n",
    "D[4, 4] = vy.simplify().coeff(eyz)\n",
    "D"
   ]
  },
  {
   "cell_type": "markdown",
   "metadata": {},
   "source": [
    " Equilibrium equations. The signs of the equations\n",
    " is selected such, that the coefficients of the load functions on the\n",
    " right-hand sides admit positive signs according to global axes."
   ]
  },
  {
   "cell_type": "code",
   "execution_count": 1083,
   "metadata": {},
   "outputs": [],
   "source": [
    "# moment around global X\n",
    "lhs_mx = simplify(-diff(mxy, x) - diff(my, y) + vy).expand()\n",
    "# moment around global Y\n",
    "lhs_my = simplify(-diff(mxy, y) - diff(mx, x) + vx).expand()\n",
    "# vertical equilibrium\n",
    "lhs_fz = simplify(-diff(vx, x) - diff(vy, y)).expand()"
   ]
  },
  {
   "cell_type": "code",
   "execution_count": 1084,
   "metadata": {},
   "outputs": [
    {
     "data": {
      "text/latex": [
       "$\\displaystyle \\left[\\begin{matrix}- D_{12} \\frac{\\partial^{2}}{\\partial y\\partial x} \\theta_{y}{\\left(x,y \\right)} + D_{22} \\frac{\\partial^{2}}{\\partial y^{2}} \\theta_{x}{\\left(x,y \\right)} + D_{66} \\frac{\\partial^{2}}{\\partial x^{2}} \\theta_{x}{\\left(x,y \\right)} - D_{66} \\frac{\\partial^{2}}{\\partial y\\partial x} \\theta_{y}{\\left(x,y \\right)} - S_{44} \\theta_{x}{\\left(x,y \\right)} + S_{44} \\frac{\\partial}{\\partial y} \\operatorname{w_{0}}{\\left(x,y \\right)}\\\\- D_{11} \\frac{\\partial^{2}}{\\partial x^{2}} \\theta_{y}{\\left(x,y \\right)} + D_{12} \\frac{\\partial^{2}}{\\partial y\\partial x} \\theta_{x}{\\left(x,y \\right)} - D_{66} \\frac{\\partial^{2}}{\\partial y^{2}} \\theta_{y}{\\left(x,y \\right)} + D_{66} \\frac{\\partial^{2}}{\\partial y\\partial x} \\theta_{x}{\\left(x,y \\right)} + S_{55} \\theta_{y}{\\left(x,y \\right)} + S_{55} \\frac{\\partial}{\\partial x} \\operatorname{w_{0}}{\\left(x,y \\right)}\\\\S_{44} \\frac{\\partial}{\\partial y} \\theta_{x}{\\left(x,y \\right)} - S_{44} \\frac{\\partial^{2}}{\\partial y^{2}} \\operatorname{w_{0}}{\\left(x,y \\right)} - S_{55} \\frac{\\partial}{\\partial x} \\theta_{y}{\\left(x,y \\right)} - S_{55} \\frac{\\partial^{2}}{\\partial x^{2}} \\operatorname{w_{0}}{\\left(x,y \\right)}\\end{matrix}\\right]$"
      ],
      "text/plain": [
       "Matrix([\n",
       "[-D_12*Derivative(\\theta_y(x, y), x, y) + D_22*Derivative(\\theta_x(x, y), (y, 2)) + D_66*Derivative(\\theta_x(x, y), (x, 2)) - D_66*Derivative(\\theta_y(x, y), x, y) - S_44*\\theta_x(x, y) + S_44*Derivative(w_0(x, y), y)],\n",
       "[-D_11*Derivative(\\theta_y(x, y), (x, 2)) + D_12*Derivative(\\theta_x(x, y), x, y) - D_66*Derivative(\\theta_y(x, y), (y, 2)) + D_66*Derivative(\\theta_x(x, y), x, y) + S_55*\\theta_y(x, y) + S_55*Derivative(w_0(x, y), x)],\n",
       "[                                                                       S_44*Derivative(\\theta_x(x, y), y) - S_44*Derivative(w_0(x, y), (y, 2)) - S_55*Derivative(\\theta_y(x, y), x) - S_55*Derivative(w_0(x, y), (x, 2))]])"
      ]
     },
     "execution_count": 1084,
     "metadata": {},
     "output_type": "execute_result"
    }
   ],
   "source": [
    "equations = [lhs_mx, lhs_my, lhs_fz]\n",
    "Matrix([lhs_mx, lhs_my, lhs_fz])"
   ]
  },
  {
   "cell_type": "code",
   "execution_count": 1085,
   "metadata": {},
   "outputs": [
    {
     "data": {
      "text/latex": [
       "$\\displaystyle \\left[\\begin{matrix}- \\frac{\\pi^{2} A_{mn} D_{22} n^{2} \\sin{\\left(\\frac{\\pi m x}{L_{x}} \\right)} \\cos{\\left(\\frac{\\pi n y}{L_{y}} \\right)}}{L_{y}^{2}} - \\frac{\\pi^{2} A_{mn} D_{66} m^{2} \\sin{\\left(\\frac{\\pi m x}{L_{x}} \\right)} \\cos{\\left(\\frac{\\pi n y}{L_{y}} \\right)}}{L_{x}^{2}} - A_{mn} S_{44} \\sin{\\left(\\frac{\\pi m x}{L_{x}} \\right)} \\cos{\\left(\\frac{\\pi n y}{L_{y}} \\right)} + \\frac{\\pi^{2} B_{mn} D_{12} m n \\sin{\\left(\\frac{\\pi m x}{L_{x}} \\right)} \\cos{\\left(\\frac{\\pi n y}{L_{y}} \\right)}}{L_{x} L_{y}} + \\frac{\\pi^{2} B_{mn} D_{66} m n \\sin{\\left(\\frac{\\pi m x}{L_{x}} \\right)} \\cos{\\left(\\frac{\\pi n y}{L_{y}} \\right)}}{L_{x} L_{y}} + \\frac{\\pi C_{mn} S_{44} n \\sin{\\left(\\frac{\\pi m x}{L_{x}} \\right)} \\cos{\\left(\\frac{\\pi n y}{L_{y}} \\right)}}{L_{y}}\\\\- \\frac{\\pi^{2} A_{mn} D_{12} m n \\sin{\\left(\\frac{\\pi n y}{L_{y}} \\right)} \\cos{\\left(\\frac{\\pi m x}{L_{x}} \\right)}}{L_{x} L_{y}} - \\frac{\\pi^{2} A_{mn} D_{66} m n \\sin{\\left(\\frac{\\pi n y}{L_{y}} \\right)} \\cos{\\left(\\frac{\\pi m x}{L_{x}} \\right)}}{L_{x} L_{y}} + \\frac{\\pi^{2} B_{mn} D_{11} m^{2} \\sin{\\left(\\frac{\\pi n y}{L_{y}} \\right)} \\cos{\\left(\\frac{\\pi m x}{L_{x}} \\right)}}{L_{x}^{2}} + \\frac{\\pi^{2} B_{mn} D_{66} n^{2} \\sin{\\left(\\frac{\\pi n y}{L_{y}} \\right)} \\cos{\\left(\\frac{\\pi m x}{L_{x}} \\right)}}{L_{y}^{2}} + B_{mn} S_{55} \\sin{\\left(\\frac{\\pi n y}{L_{y}} \\right)} \\cos{\\left(\\frac{\\pi m x}{L_{x}} \\right)} + \\frac{\\pi C_{mn} S_{55} m \\sin{\\left(\\frac{\\pi n y}{L_{y}} \\right)} \\cos{\\left(\\frac{\\pi m x}{L_{x}} \\right)}}{L_{x}}\\\\- \\frac{\\pi A_{mn} S_{44} n \\sin{\\left(\\frac{\\pi m x}{L_{x}} \\right)} \\sin{\\left(\\frac{\\pi n y}{L_{y}} \\right)}}{L_{y}} + \\frac{\\pi B_{mn} S_{55} m \\sin{\\left(\\frac{\\pi m x}{L_{x}} \\right)} \\sin{\\left(\\frac{\\pi n y}{L_{y}} \\right)}}{L_{x}} + \\frac{\\pi^{2} C_{mn} S_{44} n^{2} \\sin{\\left(\\frac{\\pi m x}{L_{x}} \\right)} \\sin{\\left(\\frac{\\pi n y}{L_{y}} \\right)}}{L_{y}^{2}} + \\frac{\\pi^{2} C_{mn} S_{55} m^{2} \\sin{\\left(\\frac{\\pi m x}{L_{x}} \\right)} \\sin{\\left(\\frac{\\pi n y}{L_{y}} \\right)}}{L_{x}^{2}}\\end{matrix}\\right]$"
      ],
      "text/plain": [
       "Matrix([\n",
       "[-pi**2*A_{mn}*D_22*n**2*sin(pi*m*x/L_x)*cos(pi*n*y/L_y)/L_y**2 - pi**2*A_{mn}*D_66*m**2*sin(pi*m*x/L_x)*cos(pi*n*y/L_y)/L_x**2 - A_{mn}*S_44*sin(pi*m*x/L_x)*cos(pi*n*y/L_y) + pi**2*B_{mn}*D_12*m*n*sin(pi*m*x/L_x)*cos(pi*n*y/L_y)/(L_x*L_y) + pi**2*B_{mn}*D_66*m*n*sin(pi*m*x/L_x)*cos(pi*n*y/L_y)/(L_x*L_y) + pi*C_{mn}*S_44*n*sin(pi*m*x/L_x)*cos(pi*n*y/L_y)/L_y],\n",
       "[-pi**2*A_{mn}*D_12*m*n*sin(pi*n*y/L_y)*cos(pi*m*x/L_x)/(L_x*L_y) - pi**2*A_{mn}*D_66*m*n*sin(pi*n*y/L_y)*cos(pi*m*x/L_x)/(L_x*L_y) + pi**2*B_{mn}*D_11*m**2*sin(pi*n*y/L_y)*cos(pi*m*x/L_x)/L_x**2 + pi**2*B_{mn}*D_66*n**2*sin(pi*n*y/L_y)*cos(pi*m*x/L_x)/L_y**2 + B_{mn}*S_55*sin(pi*n*y/L_y)*cos(pi*m*x/L_x) + pi*C_{mn}*S_55*m*sin(pi*n*y/L_y)*cos(pi*m*x/L_x)/L_x],\n",
       "[                                                                                                                           -pi*A_{mn}*S_44*n*sin(pi*m*x/L_x)*sin(pi*n*y/L_y)/L_y + pi*B_{mn}*S_55*m*sin(pi*m*x/L_x)*sin(pi*n*y/L_y)/L_x + pi**2*C_{mn}*S_44*n**2*sin(pi*m*x/L_x)*sin(pi*n*y/L_y)/L_y**2 + pi**2*C_{mn}*S_55*m**2*sin(pi*m*x/L_x)*sin(pi*n*y/L_y)/L_x**2]])"
      ]
     },
     "execution_count": 1085,
     "metadata": {},
     "output_type": "execute_result"
    }
   ],
   "source": [
    "equations_trial = [k.subs(trial).expand().doit() for k in equations]\n",
    "Matrix(equations_trial)"
   ]
  },
  {
   "cell_type": "markdown",
   "metadata": {},
   "source": [
    "Substitute trial solution"
   ]
  },
  {
   "cell_type": "code",
   "execution_count": 1086,
   "metadata": {},
   "outputs": [
    {
     "data": {
      "text/latex": [
       "$\\displaystyle \\left[\\begin{matrix}- \\frac{\\pi^{2} A_{mn} D_{22} n^{2}}{L_{y}^{2}} - \\frac{\\pi^{2} A_{mn} D_{66} m^{2}}{L_{x}^{2}} - A_{mn} S_{44} + \\frac{\\pi^{2} B_{mn} D_{12} m n}{L_{x} L_{y}} + \\frac{\\pi^{2} B_{mn} D_{66} m n}{L_{x} L_{y}} + \\frac{\\pi C_{mn} S_{44} n}{L_{y}}\\\\- \\frac{\\pi^{2} A_{mn} D_{12} m n}{L_{x} L_{y}} - \\frac{\\pi^{2} A_{mn} D_{66} m n}{L_{x} L_{y}} + \\frac{\\pi^{2} B_{mn} D_{11} m^{2}}{L_{x}^{2}} + \\frac{\\pi^{2} B_{mn} D_{66} n^{2}}{L_{y}^{2}} + B_{mn} S_{55} + \\frac{\\pi C_{mn} S_{55} m}{L_{x}}\\\\- \\frac{\\pi A_{mn} S_{44} n}{L_{y}} + \\frac{\\pi B_{mn} S_{55} m}{L_{x}} + \\frac{\\pi^{2} C_{mn} S_{44} n^{2}}{L_{y}^{2}} + \\frac{\\pi^{2} C_{mn} S_{55} m^{2}}{L_{x}^{2}}\\end{matrix}\\right]$"
      ],
      "text/plain": [
       "Matrix([\n",
       "[-pi**2*A_{mn}*D_22*n**2/L_y**2 - pi**2*A_{mn}*D_66*m**2/L_x**2 - A_{mn}*S_44 + pi**2*B_{mn}*D_12*m*n/(L_x*L_y) + pi**2*B_{mn}*D_66*m*n/(L_x*L_y) + pi*C_{mn}*S_44*n/L_y],\n",
       "[-pi**2*A_{mn}*D_12*m*n/(L_x*L_y) - pi**2*A_{mn}*D_66*m*n/(L_x*L_y) + pi**2*B_{mn}*D_11*m**2/L_x**2 + pi**2*B_{mn}*D_66*n**2/L_y**2 + B_{mn}*S_55 + pi*C_{mn}*S_55*m/L_x],\n",
       "[                                                           -pi*A_{mn}*S_44*n/L_y + pi*B_{mn}*S_55*m/L_x + pi**2*C_{mn}*S_44*n**2/L_y**2 + pi**2*C_{mn}*S_55*m**2/L_x**2]])"
      ]
     },
     "execution_count": 1086,
     "metadata": {},
     "output_type": "execute_result"
    }
   ],
   "source": [
    "eq_mx_trial = equations_trial[0].expand().doit() / (Sm * Cn)\n",
    "eq_mx_trial = eq_mx_trial.simplify().expand()\n",
    "eq_my_trial = equations_trial[1].expand().doit() / (Cm * Sn)\n",
    "eq_my_trial = eq_my_trial.simplify().expand()\n",
    "eq_fz_trial = equations_trial[2].expand().doit() / (Sm * Sn)\n",
    "eq_fz_trial = eq_fz_trial.simplify().expand()\n",
    "Matrix([eq_mx_trial, eq_my_trial, eq_fz_trial])"
   ]
  },
  {
   "cell_type": "markdown",
   "metadata": {},
   "source": [
    "Coefficient matrix"
   ]
  },
  {
   "cell_type": "code",
   "execution_count": 1087,
   "metadata": {},
   "outputs": [
    {
     "data": {
      "text/latex": [
       "$\\displaystyle \\left[\\begin{matrix}- \\frac{\\pi^{2} D_{22} n^{2}}{L_{y}^{2}} - \\frac{\\pi^{2} D_{66} m^{2}}{L_{x}^{2}} - S_{44} & \\frac{\\pi^{2} D_{12} m n}{L_{x} L_{y}} + \\frac{\\pi^{2} D_{66} m n}{L_{x} L_{y}} & \\frac{\\pi S_{44} n}{L_{y}}\\\\- \\frac{\\pi^{2} D_{12} m n}{L_{x} L_{y}} - \\frac{\\pi^{2} D_{66} m n}{L_{x} L_{y}} & \\frac{\\pi^{2} D_{11} m^{2}}{L_{x}^{2}} + \\frac{\\pi^{2} D_{66} n^{2}}{L_{y}^{2}} + S_{55} & \\frac{\\pi S_{55} m}{L_{x}}\\\\- \\frac{\\pi S_{44} n}{L_{y}} & \\frac{\\pi S_{55} m}{L_{x}} & \\frac{\\pi^{2} S_{44} n^{2}}{L_{y}^{2}} + \\frac{\\pi^{2} S_{55} m^{2}}{L_{x}^{2}}\\end{matrix}\\right]$"
      ],
      "text/plain": [
       "Matrix([\n",
       "[-pi**2*D_22*n**2/L_y**2 - pi**2*D_66*m**2/L_x**2 - S_44,    pi**2*D_12*m*n/(L_x*L_y) + pi**2*D_66*m*n/(L_x*L_y),                                   pi*S_44*n/L_y],\n",
       "[   -pi**2*D_12*m*n/(L_x*L_y) - pi**2*D_66*m*n/(L_x*L_y), pi**2*D_11*m**2/L_x**2 + pi**2*D_66*n**2/L_y**2 + S_55,                                   pi*S_55*m/L_x],\n",
       "[                                         -pi*S_44*n/L_y,                                          pi*S_55*m/L_x, pi**2*S_44*n**2/L_y**2 + pi**2*S_55*m**2/L_x**2]])"
      ]
     },
     "execution_count": 1087,
     "metadata": {},
     "output_type": "execute_result"
    }
   ],
   "source": [
    "P = sy.zeros(3, 3)\n",
    "P[0, :] = Matrix([eq_mx_trial.coeff(c) for c in coeffs]).T\n",
    "P[1, :] = Matrix([eq_my_trial.coeff(c) for c in coeffs]).T\n",
    "P[2, :] = Matrix([eq_fz_trial.coeff(c) for c in coeffs]).T\n",
    "detP, adjP = inv_sym_3x3(P, as_adj_det = True)\n",
    "detP = detP.simplify().expand()\n",
    "adjP.simplify()\n",
    "P"
   ]
  },
  {
   "cell_type": "code",
   "execution_count": 1088,
   "metadata": {},
   "outputs": [
    {
     "data": {
      "text/plain": [
       "'ImmutableDenseMatrix([[-math.pi**2*D_22*n**2/L_y**2 - math.pi**2*D_66*m**2/L_x**2 - S_44, math.pi**2*D_12*m*n/(L_x*L_y) + math.pi**2*D_66*m*n/(L_x*L_y), math.pi*S_44*n/L_y], [-math.pi**2*D_12*m*n/(L_x*L_y) - math.pi**2*D_66*m*n/(L_x*L_y), math.pi**2*D_11*m**2/L_x**2 + math.pi**2*D_66*n**2/L_y**2 + S_55, math.pi*S_55*m/L_x], [-math.pi*S_44*n/L_y, math.pi*S_55*m/L_x, math.pi**2*S_44*n**2/L_y**2 + math.pi**2*S_55*m**2/L_x**2]])'"
      ]
     },
     "execution_count": 1088,
     "metadata": {},
     "output_type": "execute_result"
    }
   ],
   "source": [
    "from sympy import pycode\n",
    "pycode(P)"
   ]
  },
  {
   "cell_type": "code",
   "execution_count": 1089,
   "metadata": {},
   "outputs": [],
   "source": [
    "from sympy import lambdify\n",
    "\n",
    "lhs = lambdify([m, n, D11, D12, D22, D66, S44, S55, Lx, Ly], P, 'numpy')"
   ]
  },
  {
   "cell_type": "code",
   "execution_count": 1090,
   "metadata": {},
   "outputs": [
    {
     "data": {
      "text/plain": [
       "array([[-20.7392088 ,  19.7392088 ,   3.14159265],\n",
       "       [-19.7392088 ,  20.7392088 ,   3.14159265],\n",
       "       [ -3.14159265,   3.14159265,  19.7392088 ]])"
      ]
     },
     "execution_count": 1090,
     "metadata": {},
     "output_type": "execute_result"
    }
   ],
   "source": [
    "lhs(1, 1, 1, 1, 1, 1, 1, 1, 1, 1)"
   ]
  },
  {
   "cell_type": "markdown",
   "metadata": {},
   "source": [
    "Postproc"
   ]
  },
  {
   "cell_type": "code",
   "execution_count": 1091,
   "metadata": {},
   "outputs": [],
   "source": [
    "mx = mx.subs(trial).expand().doit()\n",
    "mx = mx.simplify().expand()\n",
    "my = my.subs(trial).expand().doit()\n",
    "my = my.simplify().expand()\n",
    "mxy = mxy.subs(trial).expand().doit()\n",
    "mxy = mxy.simplify().expand()\n",
    "vx = vx.subs(trial).expand().doit()\n",
    "vx = vx.simplify().expand()\n",
    "vy = vy.subs(trial).expand().doit()\n",
    "vy = vy.simplify().expand()\n",
    "kxx = kxx.subs(trial).expand().doit()\n",
    "kxx = kxx.simplify().expand()\n",
    "kyy = kyy.subs(trial).expand().doit()\n",
    "kyy = kyy.simplify().expand()\n",
    "kxy = kxy.subs(trial).expand().doit()\n",
    "kxy = kxy.simplify().expand()\n",
    "exz = exz.subs(trial).expand().doit()\n",
    "exz = exz.simplify().expand()\n",
    "eyz = eyz.subs(trial).expand().doit()\n",
    "eyz = eyz.simplify().expand()"
   ]
  },
  {
   "cell_type": "code",
   "execution_count": 1092,
   "metadata": {},
   "outputs": [
    {
     "data": {
      "text/plain": [
       "'ImmutableDenseMatrix([[C_{mn}*math.sin(math.pi*m*x/L_x)*math.sin(math.pi*n*y/L_y), A_{mn}*math.sin(math.pi*m*x/L_x)*math.cos(math.pi*n*y/L_y), B_{mn}*math.sin(math.pi*n*y/L_y)*math.cos(math.pi*m*x/L_x), -math.pi*B_{mn}*m*math.sin(math.pi*m*x/L_x)*math.sin(math.pi*n*y/L_y)/L_x, math.pi*A_{mn}*n*math.sin(math.pi*m*x/L_x)*math.sin(math.pi*n*y/L_y)/L_y, -math.pi*A_{mn}*m*math.cos(math.pi*m*x/L_x)*math.cos(math.pi*n*y/L_y)/L_x + math.pi*B_{mn}*n*math.cos(math.pi*m*x/L_x)*math.cos(math.pi*n*y/L_y)/L_y, B_{mn}*math.sin(math.pi*n*y/L_y)*math.cos(math.pi*m*x/L_x) + math.pi*C_{mn}*m*math.sin(math.pi*n*y/L_y)*math.cos(math.pi*m*x/L_x)/L_x, -A_{mn}*math.sin(math.pi*m*x/L_x)*math.cos(math.pi*n*y/L_y) + math.pi*C_{mn}*n*math.sin(math.pi*m*x/L_x)*math.cos(math.pi*n*y/L_y)/L_y, math.pi*A_{mn}*D_12*n*math.sin(math.pi*m*x/L_x)*math.sin(math.pi*n*y/L_y)/L_y - math.pi*B_{mn}*D_11*m*math.sin(math.pi*m*x/L_x)*math.sin(math.pi*n*y/L_y)/L_x, math.pi*A_{mn}*D_22*n*math.sin(math.pi*m*x/L_x)*math.sin(math.pi*n*y/L_y)/L_y - math.pi*B_{mn}*D_12*m*math.sin(math.pi*m*x/L_x)*math.sin(math.pi*n*y/L_y)/L_x, -math.pi*A_{mn}*D_66*m*math.cos(math.pi*m*x/L_x)*math.cos(math.pi*n*y/L_y)/L_x + math.pi*B_{mn}*D_66*n*math.cos(math.pi*m*x/L_x)*math.cos(math.pi*n*y/L_y)/L_y, B_{mn}*S_55*math.sin(math.pi*n*y/L_y)*math.cos(math.pi*m*x/L_x) + math.pi*C_{mn}*S_55*m*math.sin(math.pi*n*y/L_y)*math.cos(math.pi*m*x/L_x)/L_x, -A_{mn}*S_44*math.sin(math.pi*m*x/L_x)*math.cos(math.pi*n*y/L_y) + math.pi*C_{mn}*S_44*n*math.sin(math.pi*m*x/L_x)*math.cos(math.pi*n*y/L_y)/L_y]])'"
      ]
     },
     "execution_count": 1092,
     "metadata": {},
     "output_type": "execute_result"
    }
   ],
   "source": [
    "pproc = Matrix([w0_trial, thx_trial, thy_trial, kxx, \n",
    "                kyy, kxy, exz, eyz, mx, my, mxy, vx, vy]).T\n",
    "pycode(pproc)"
   ]
  },
  {
   "cell_type": "code",
   "execution_count": 1093,
   "metadata": {},
   "outputs": [
    {
     "data": {
      "text/latex": [
       "$\\displaystyle \\left[\\begin{matrix}\\frac{\\pi A_{mn} D_{12} n \\sin{\\left(\\frac{\\pi m x}{L_{x}} \\right)} \\sin{\\left(\\frac{\\pi n y}{L_{y}} \\right)}}{L_{y}} - \\frac{\\pi B_{mn} D_{11} m \\sin{\\left(\\frac{\\pi m x}{L_{x}} \\right)} \\sin{\\left(\\frac{\\pi n y}{L_{y}} \\right)}}{L_{x}}\\\\\\frac{\\pi A_{mn} D_{22} n \\sin{\\left(\\frac{\\pi m x}{L_{x}} \\right)} \\sin{\\left(\\frac{\\pi n y}{L_{y}} \\right)}}{L_{y}} - \\frac{\\pi B_{mn} D_{12} m \\sin{\\left(\\frac{\\pi m x}{L_{x}} \\right)} \\sin{\\left(\\frac{\\pi n y}{L_{y}} \\right)}}{L_{x}}\\\\- \\frac{\\pi A_{mn} D_{66} m \\cos{\\left(\\frac{\\pi m x}{L_{x}} \\right)} \\cos{\\left(\\frac{\\pi n y}{L_{y}} \\right)}}{L_{x}} + \\frac{\\pi B_{mn} D_{66} n \\cos{\\left(\\frac{\\pi m x}{L_{x}} \\right)} \\cos{\\left(\\frac{\\pi n y}{L_{y}} \\right)}}{L_{y}}\\\\B_{mn} S_{55} \\sin{\\left(\\frac{\\pi n y}{L_{y}} \\right)} \\cos{\\left(\\frac{\\pi m x}{L_{x}} \\right)} + \\frac{\\pi C_{mn} S_{55} m \\sin{\\left(\\frac{\\pi n y}{L_{y}} \\right)} \\cos{\\left(\\frac{\\pi m x}{L_{x}} \\right)}}{L_{x}}\\\\- A_{mn} S_{44} \\sin{\\left(\\frac{\\pi m x}{L_{x}} \\right)} \\cos{\\left(\\frac{\\pi n y}{L_{y}} \\right)} + \\frac{\\pi C_{mn} S_{44} n \\sin{\\left(\\frac{\\pi m x}{L_{x}} \\right)} \\cos{\\left(\\frac{\\pi n y}{L_{y}} \\right)}}{L_{y}}\\end{matrix}\\right]$"
      ],
      "text/plain": [
       "Matrix([\n",
       "[ pi*A_{mn}*D_12*n*sin(pi*m*x/L_x)*sin(pi*n*y/L_y)/L_y - pi*B_{mn}*D_11*m*sin(pi*m*x/L_x)*sin(pi*n*y/L_y)/L_x],\n",
       "[ pi*A_{mn}*D_22*n*sin(pi*m*x/L_x)*sin(pi*n*y/L_y)/L_y - pi*B_{mn}*D_12*m*sin(pi*m*x/L_x)*sin(pi*n*y/L_y)/L_x],\n",
       "[-pi*A_{mn}*D_66*m*cos(pi*m*x/L_x)*cos(pi*n*y/L_y)/L_x + pi*B_{mn}*D_66*n*cos(pi*m*x/L_x)*cos(pi*n*y/L_y)/L_y],\n",
       "[          B_{mn}*S_55*sin(pi*n*y/L_y)*cos(pi*m*x/L_x) + pi*C_{mn}*S_55*m*sin(pi*n*y/L_y)*cos(pi*m*x/L_x)/L_x],\n",
       "[         -A_{mn}*S_44*sin(pi*m*x/L_x)*cos(pi*n*y/L_y) + pi*C_{mn}*S_44*n*sin(pi*m*x/L_x)*cos(pi*n*y/L_y)/L_y]])"
      ]
     },
     "execution_count": 1093,
     "metadata": {},
     "output_type": "execute_result"
    }
   ],
   "source": [
    "gen_forces = [mx, my, mxy, vx, vy]\n",
    "Matrix(gen_forces)"
   ]
  },
  {
   "cell_type": "code",
   "execution_count": 1094,
   "metadata": {},
   "outputs": [
    {
     "data": {
      "text/latex": [
       "$\\displaystyle \\left[\\begin{matrix}- \\frac{\\pi B_{mn} m \\sin{\\left(\\frac{\\pi m x}{L_{x}} \\right)} \\sin{\\left(\\frac{\\pi n y}{L_{y}} \\right)}}{L_{x}}\\\\\\frac{\\pi A_{mn} n \\sin{\\left(\\frac{\\pi m x}{L_{x}} \\right)} \\sin{\\left(\\frac{\\pi n y}{L_{y}} \\right)}}{L_{y}}\\\\- \\frac{\\pi A_{mn} m \\cos{\\left(\\frac{\\pi m x}{L_{x}} \\right)} \\cos{\\left(\\frac{\\pi n y}{L_{y}} \\right)}}{L_{x}} + \\frac{\\pi B_{mn} n \\cos{\\left(\\frac{\\pi m x}{L_{x}} \\right)} \\cos{\\left(\\frac{\\pi n y}{L_{y}} \\right)}}{L_{y}}\\\\B_{mn} \\sin{\\left(\\frac{\\pi n y}{L_{y}} \\right)} \\cos{\\left(\\frac{\\pi m x}{L_{x}} \\right)} + \\frac{\\pi C_{mn} m \\sin{\\left(\\frac{\\pi n y}{L_{y}} \\right)} \\cos{\\left(\\frac{\\pi m x}{L_{x}} \\right)}}{L_{x}}\\\\- A_{mn} \\sin{\\left(\\frac{\\pi m x}{L_{x}} \\right)} \\cos{\\left(\\frac{\\pi n y}{L_{y}} \\right)} + \\frac{\\pi C_{mn} n \\sin{\\left(\\frac{\\pi m x}{L_{x}} \\right)} \\cos{\\left(\\frac{\\pi n y}{L_{y}} \\right)}}{L_{y}}\\end{matrix}\\right]$"
      ],
      "text/plain": [
       "Matrix([\n",
       "[                                                  -pi*B_{mn}*m*sin(pi*m*x/L_x)*sin(pi*n*y/L_y)/L_x],\n",
       "[                                                   pi*A_{mn}*n*sin(pi*m*x/L_x)*sin(pi*n*y/L_y)/L_y],\n",
       "[-pi*A_{mn}*m*cos(pi*m*x/L_x)*cos(pi*n*y/L_y)/L_x + pi*B_{mn}*n*cos(pi*m*x/L_x)*cos(pi*n*y/L_y)/L_y],\n",
       "[          B_{mn}*sin(pi*n*y/L_y)*cos(pi*m*x/L_x) + pi*C_{mn}*m*sin(pi*n*y/L_y)*cos(pi*m*x/L_x)/L_x],\n",
       "[         -A_{mn}*sin(pi*m*x/L_x)*cos(pi*n*y/L_y) + pi*C_{mn}*n*sin(pi*m*x/L_x)*cos(pi*n*y/L_y)/L_y]])"
      ]
     },
     "execution_count": 1094,
     "metadata": {},
     "output_type": "execute_result"
    }
   ],
   "source": [
    "gen_curvatures = [kxx, kyy, kxy, exz, eyz]\n",
    "Matrix(gen_curvatures)"
   ]
  },
  {
   "cell_type": "code",
   "execution_count": 1095,
   "metadata": {},
   "outputs": [
    {
     "data": {
      "text/latex": [
       "$\\displaystyle \\left[\\begin{matrix}A_{mn} \\sin{\\left(\\frac{\\pi m x}{L_{x}} \\right)} \\cos{\\left(\\frac{\\pi n y}{L_{y}} \\right)}\\\\B_{mn} \\sin{\\left(\\frac{\\pi n y}{L_{y}} \\right)} \\cos{\\left(\\frac{\\pi m x}{L_{x}} \\right)}\\\\C_{mn} \\sin{\\left(\\frac{\\pi m x}{L_{x}} \\right)} \\sin{\\left(\\frac{\\pi n y}{L_{y}} \\right)}\\end{matrix}\\right]$"
      ],
      "text/plain": [
       "Matrix([\n",
       "[A_{mn}*sin(pi*m*x/L_x)*cos(pi*n*y/L_y)],\n",
       "[B_{mn}*sin(pi*n*y/L_y)*cos(pi*m*x/L_x)],\n",
       "[C_{mn}*sin(pi*m*x/L_x)*sin(pi*n*y/L_y)]])"
      ]
     },
     "execution_count": 1095,
     "metadata": {},
     "output_type": "execute_result"
    }
   ],
   "source": [
    "Matrix(disps_trial)"
   ]
  },
  {
   "cell_type": "code",
   "execution_count": 1096,
   "metadata": {},
   "outputs": [],
   "source": [
    "# constans vertical load over a rectangular area\n",
    "q, w, h = symbols('q w h', real = True)\n",
    "xc, yc = symbols('x_c y_c', real = True)\n",
    "qmn = (4/(Lx*Ly)) * integrate(q * Sm * Sn, (x, xc - w/2, xc + w/2),\n",
    "                            (y, yc - h/2, yc + h/2))\n",
    "qmn_fz = qmn.simplify().expand()\n",
    "\n",
    "# constans moment of intensity mx, around global axis X,\n",
    "# over a rectangular area with width w, height h and center (xc, yc)\n",
    "m_x, w, h = symbols('m_x w h', real = True)\n",
    "xc, yc = symbols('x_c y_c', real = True)\n",
    "qmn = (4/(Lx*Ly)) * integrate(m_x * Cm * Sn, (x, xc - w/2, xc + w/2),\n",
    "                            (y, yc - h/2, yc + h/2))\n",
    "qmn_mx = qmn.simplify().expand()\n",
    "\n",
    "# constant moment of intensity my, around global axis Y,\n",
    "# over a rectangular area with width w, height h and center (xc, yc)\n",
    "m_y, w, h = symbols('m_y w h', real = True)\n",
    "xc, yc = symbols('x_c y_c', real = True)\n",
    "qmn = (4/(Lx*Ly)) * integrate(m_y * Sm * Cn, (x, xc - w/2, xc + w/2),\n",
    "                            (y, yc - h/2, yc + h/2))\n",
    "qmn_my = qmn.simplify().expand()"
   ]
  },
  {
   "cell_type": "code",
   "execution_count": 1097,
   "metadata": {},
   "outputs": [
    {
     "data": {
      "text/latex": [
       "$\\displaystyle \\left[\\begin{matrix}\\frac{16 m_{x} \\sin{\\left(\\frac{\\pi m w}{2 L_{x}} \\right)} \\sin{\\left(\\frac{\\pi h n}{2 L_{y}} \\right)} \\sin{\\left(\\frac{\\pi n y_{c}}{L_{y}} \\right)} \\cos{\\left(\\frac{\\pi m x_{c}}{L_{x}} \\right)}}{\\pi^{2} m n}\\\\\\frac{16 m_{y} \\sin{\\left(\\frac{\\pi m w}{2 L_{x}} \\right)} \\sin{\\left(\\frac{\\pi m x_{c}}{L_{x}} \\right)} \\sin{\\left(\\frac{\\pi h n}{2 L_{y}} \\right)} \\cos{\\left(\\frac{\\pi n y_{c}}{L_{y}} \\right)}}{\\pi^{2} m n}\\\\\\frac{16 q \\sin{\\left(\\frac{\\pi m w}{2 L_{x}} \\right)} \\sin{\\left(\\frac{\\pi m x_{c}}{L_{x}} \\right)} \\sin{\\left(\\frac{\\pi h n}{2 L_{y}} \\right)} \\sin{\\left(\\frac{\\pi n y_{c}}{L_{y}} \\right)}}{\\pi^{2} m n}\\end{matrix}\\right]$"
      ],
      "text/plain": [
       "Matrix([\n",
       "[16*m_x*sin(pi*m*w/(2*L_x))*sin(pi*h*n/(2*L_y))*sin(pi*n*y_c/L_y)*cos(pi*m*x_c/L_x)/(pi**2*m*n)],\n",
       "[16*m_y*sin(pi*m*w/(2*L_x))*sin(pi*m*x_c/L_x)*sin(pi*h*n/(2*L_y))*cos(pi*n*y_c/L_y)/(pi**2*m*n)],\n",
       "[  16*q*sin(pi*m*w/(2*L_x))*sin(pi*m*x_c/L_x)*sin(pi*h*n/(2*L_y))*sin(pi*n*y_c/L_y)/(pi**2*m*n)]])"
      ]
     },
     "execution_count": 1097,
     "metadata": {},
     "output_type": "execute_result"
    }
   ],
   "source": [
    "f = Matrix([qmn_mx, qmn_my, qmn_fz])\n",
    "f"
   ]
  },
  {
   "cell_type": "code",
   "execution_count": 1098,
   "metadata": {},
   "outputs": [
    {
     "data": {
      "text/plain": [
       "array([[-20.7392088 ,  19.7392088 ,   3.14159265],\n",
       "       [-19.7392088 ,  20.7392088 ,   3.14159265],\n",
       "       [ -3.14159265,   3.14159265,  19.7392088 ]])"
      ]
     },
     "execution_count": 1098,
     "metadata": {},
     "output_type": "execute_result"
    }
   ],
   "source": [
    "lhs = lambdify([m, n, D11, D12, D22, D66, S44, S55, Lx, Ly], P, 'numpy')\n",
    "lhs(1, 1, 1, 1, 1, 1, 1, 1, 1, 1)"
   ]
  },
  {
   "cell_type": "code",
   "execution_count": 1099,
   "metadata": {},
   "outputs": [
    {
     "data": {
      "text/plain": [
       "array([[0.        ],\n",
       "       [0.        ],\n",
       "       [0.39672094]])"
      ]
     },
     "execution_count": 1099,
     "metadata": {},
     "output_type": "execute_result"
    }
   ],
   "source": [
    "rhs = lambdify([m, n, xc, yc, w, h, m_x, m_y, q, Lx, Ly], f, 'numpy')\n",
    "rhs(1, 1, 5, 5, 1, 1, 0, 0, 10, 10, 10)"
   ]
  },
  {
   "cell_type": "code",
   "execution_count": 1100,
   "metadata": {},
   "outputs": [
    {
     "data": {
      "text/plain": [
       "'ImmutableDenseMatrix([[16*m_x*math.sin((1/2)*math.pi*m*w/L_x)*math.sin((1/2)*math.pi*h*n/L_y)*math.sin(math.pi*n*y_c/L_y)*math.cos(math.pi*m*x_c/L_x)/(math.pi**2*m*n)], [16*m_y*math.sin((1/2)*math.pi*m*w/L_x)*math.sin(math.pi*m*x_c/L_x)*math.sin((1/2)*math.pi*h*n/L_y)*math.cos(math.pi*n*y_c/L_y)/(math.pi**2*m*n)], [16*q*math.sin((1/2)*math.pi*m*w/L_x)*math.sin(math.pi*m*x_c/L_x)*math.sin((1/2)*math.pi*h*n/L_y)*math.sin(math.pi*n*y_c/L_y)/(math.pi**2*m*n)]])'"
      ]
     },
     "execution_count": 1100,
     "metadata": {},
     "output_type": "execute_result"
    }
   ],
   "source": [
    "pycode(f)"
   ]
  },
  {
   "cell_type": "code",
   "execution_count": 1101,
   "metadata": {},
   "outputs": [
    {
     "data": {
      "text/plain": [
       "array([[6.123234e-17],\n",
       "       [6.123234e-17],\n",
       "       [1.000000e+00]])"
      ]
     },
     "execution_count": 1101,
     "metadata": {},
     "output_type": "execute_result"
    }
   ],
   "source": [
    "dofsol = lambdify([m, n, x, y, Lx, Ly, Amn, Bmn, Cmn], Matrix(disps_trial), 'numpy')\n",
    "dofsol(1, 1, 5, 5, 10, 10, 1, 1, 1)"
   ]
  },
  {
   "cell_type": "code",
   "execution_count": 1102,
   "metadata": {},
   "outputs": [
    {
     "data": {
      "text/latex": [
       "$\\displaystyle \\left[\\begin{matrix}\\frac{\\pi A_{mn} D_{12} n \\sin{\\left(\\frac{\\pi m x}{L_{x}} \\right)} \\sin{\\left(\\frac{\\pi n y}{L_{y}} \\right)}}{L_{y}} - \\frac{\\pi B_{mn} D_{11} m \\sin{\\left(\\frac{\\pi m x}{L_{x}} \\right)} \\sin{\\left(\\frac{\\pi n y}{L_{y}} \\right)}}{L_{x}}\\\\\\frac{\\pi A_{mn} D_{22} n \\sin{\\left(\\frac{\\pi m x}{L_{x}} \\right)} \\sin{\\left(\\frac{\\pi n y}{L_{y}} \\right)}}{L_{y}} - \\frac{\\pi B_{mn} D_{12} m \\sin{\\left(\\frac{\\pi m x}{L_{x}} \\right)} \\sin{\\left(\\frac{\\pi n y}{L_{y}} \\right)}}{L_{x}}\\\\- \\frac{\\pi A_{mn} D_{66} m \\cos{\\left(\\frac{\\pi m x}{L_{x}} \\right)} \\cos{\\left(\\frac{\\pi n y}{L_{y}} \\right)}}{L_{x}} + \\frac{\\pi B_{mn} D_{66} n \\cos{\\left(\\frac{\\pi m x}{L_{x}} \\right)} \\cos{\\left(\\frac{\\pi n y}{L_{y}} \\right)}}{L_{y}}\\\\B_{mn} S_{55} \\sin{\\left(\\frac{\\pi n y}{L_{y}} \\right)} \\cos{\\left(\\frac{\\pi m x}{L_{x}} \\right)} + \\frac{\\pi C_{mn} S_{55} m \\sin{\\left(\\frac{\\pi n y}{L_{y}} \\right)} \\cos{\\left(\\frac{\\pi m x}{L_{x}} \\right)}}{L_{x}}\\\\- A_{mn} S_{44} \\sin{\\left(\\frac{\\pi m x}{L_{x}} \\right)} \\cos{\\left(\\frac{\\pi n y}{L_{y}} \\right)} + \\frac{\\pi C_{mn} S_{44} n \\sin{\\left(\\frac{\\pi m x}{L_{x}} \\right)} \\cos{\\left(\\frac{\\pi n y}{L_{y}} \\right)}}{L_{y}}\\end{matrix}\\right]$"
      ],
      "text/plain": [
       "Matrix([\n",
       "[ pi*A_{mn}*D_12*n*sin(pi*m*x/L_x)*sin(pi*n*y/L_y)/L_y - pi*B_{mn}*D_11*m*sin(pi*m*x/L_x)*sin(pi*n*y/L_y)/L_x],\n",
       "[ pi*A_{mn}*D_22*n*sin(pi*m*x/L_x)*sin(pi*n*y/L_y)/L_y - pi*B_{mn}*D_12*m*sin(pi*m*x/L_x)*sin(pi*n*y/L_y)/L_x],\n",
       "[-pi*A_{mn}*D_66*m*cos(pi*m*x/L_x)*cos(pi*n*y/L_y)/L_x + pi*B_{mn}*D_66*n*cos(pi*m*x/L_x)*cos(pi*n*y/L_y)/L_y],\n",
       "[          B_{mn}*S_55*sin(pi*n*y/L_y)*cos(pi*m*x/L_x) + pi*C_{mn}*S_55*m*sin(pi*n*y/L_y)*cos(pi*m*x/L_x)/L_x],\n",
       "[         -A_{mn}*S_44*sin(pi*m*x/L_x)*cos(pi*n*y/L_y) + pi*C_{mn}*S_44*n*sin(pi*m*x/L_x)*cos(pi*n*y/L_y)/L_y]])"
      ]
     },
     "execution_count": 1102,
     "metadata": {},
     "output_type": "execute_result"
    }
   ],
   "source": [
    "Matrix(gen_forces)"
   ]
  },
  {
   "cell_type": "code",
   "execution_count": 1103,
   "metadata": {},
   "outputs": [
    {
     "data": {
      "text/plain": [
       "array([[ 0.00000000e+00],\n",
       "       [ 0.00000000e+00],\n",
       "       [ 0.00000000e+00],\n",
       "       [-5.07198819e-16],\n",
       "       [-2.62269459e-16]])"
      ]
     },
     "execution_count": 1103,
     "metadata": {},
     "output_type": "execute_result"
    }
   ],
   "source": [
    "intfors = lambdify([m, n, x, y, D11, D12, D22, D66, S44, S55, Lx, Ly, Amn, Bmn, Cmn], \n",
    "                   Matrix(gen_forces), 'numpy')\n",
    "intfors(1, 1, 1, 1, 1, 1, 1, 1, 1, 1, 1, 1, 1, 1, 1)"
   ]
  },
  {
   "cell_type": "code",
   "execution_count": 1104,
   "metadata": {},
   "outputs": [],
   "source": [
    "import numpy as np\n",
    "\n",
    "size = Lx, Ly = (6, 8)\n",
    "E = 2.89e7\n",
    "nu = 0.2\n",
    "t = 0.25\n",
    "\n",
    "G = E/2/(1+nu)\n",
    "D = np.array([[1, nu, 0], [nu, 1, 0], [0., 0, (1-nu)/2]]) * t**3 * (E / (1-nu**2)) / 12\n",
    "S = np.array([[G, 0], [0, G]]) * t\n",
    "D11, D12, D22, D66 = D[0, 0], D[0, 1], D[1, 1], D[2, 2]\n",
    "S44, S55 = S[0, 0], S[1, 1]\n",
    "xc, yc = size[0]/2, size[1]/2\n",
    "w, h = size[0]/2, size[1]/2\n",
    "m_x, m_y, p_z = 0, 0, -1000"
   ]
  },
  {
   "cell_type": "code",
   "execution_count": 1105,
   "metadata": {},
   "outputs": [],
   "source": [
    "M, N = 50, 50\n",
    "res = np.zeros((M*N, 3))\n",
    "for i in range(M):\n",
    "    for j in range(N):\n",
    "        b_mn = rhs(i+1, j+1, xc, yc, w, h, m_x, m_y, p_z, Lx, Ly)\n",
    "        A_mn = lhs(i+1, j+1, D11, D12, D22, D66, S44, S55, Lx, Ly)\n",
    "        res[i*N + j] = np.linalg.solve(A_mn, b_mn).flatten()"
   ]
  },
  {
   "cell_type": "code",
   "execution_count": 1106,
   "metadata": {},
   "outputs": [
    {
     "data": {
      "text/plain": [
       "array([-1.48502015e-18,  2.43889642e-18, -1.16617626e-01])"
      ]
     },
     "execution_count": 1106,
     "metadata": {},
     "output_type": "execute_result"
    }
   ],
   "source": [
    "xp, yp = Lx/2, Ly/2\n",
    "dp = np.zeros(3)\n",
    "for i in range(M):\n",
    "    for j in range(N):\n",
    "        Amn, Bmn, Cmn = res[i*N + j]\n",
    "        dp += dofsol(i+1, j+1, xp, yp, Lx, Ly, Amn, Bmn, Cmn).flatten()\n",
    "dp"
   ]
  },
  {
   "cell_type": "code",
   "execution_count": 1107,
   "metadata": {},
   "outputs": [],
   "source": [
    "from dewloosh.geom import grid, PolyData\n",
    "from dewloosh.geom.tri.trimesh import triangulate\n",
    "from dewloosh.geom.topo.tr import Q4_to_T3\n",
    "\n",
    "shape = nx, ny = (10, 10)\n",
    "gridparams = {\n",
    "    'size' : size,\n",
    "    'shape' : shape,\n",
    "    'origo' : (0, 0),\n",
    "    'start' : 0,\n",
    "    'eshape' : 'Q4'\n",
    "    }\n",
    "coords_, topo = grid(**gridparams)\n",
    "coords = np.zeros((coords_.shape[0], 3))\n",
    "coords[:, :2] = coords_[:, :]\n",
    "del coords_\n",
    "coords, triangles = Q4_to_T3(coords, topo)\n",
    "\n",
    "triobj = triangulate(points=coords[:, :2], triangles=triangles)[-1]\n",
    "Mesh = PolyData(coords=coords, topo=triangles)\n",
    "centers = Mesh.centers()"
   ]
  },
  {
   "cell_type": "code",
   "execution_count": 1108,
   "metadata": {},
   "outputs": [],
   "source": [
    "nP = len(centers)\n",
    "data = np.zeros((nP, 3))\n",
    "for i in range(M):\n",
    "    for j in range(N):\n",
    "        Amn, Bmn, Cmn = res[i*N + j]\n",
    "        for k in range(nP):\n",
    "            xp, yp = centers[k, :2]\n",
    "            data[k] += dofsol(i+1, j+1, xp, yp, Lx, Ly, Amn, Bmn, Cmn).flatten()"
   ]
  },
  {
   "cell_type": "code",
   "execution_count": null,
   "metadata": {},
   "outputs": [],
   "source": [
    "%matplotlib qt"
   ]
  },
  {
   "cell_type": "code",
   "execution_count": null,
   "metadata": {},
   "outputs": [],
   "source": [
    "from dewloosh.geom.tri.triplot import triplot\n",
    "import matplotlib.pyplot as plt\n",
    "from matplotlib import gridspec\n",
    "\n",
    "plt.style.use('default')\n",
    "fig = plt.figure(figsize=(8, 3))  # in inches\n",
    "fig.patch.set_facecolor('white')\n",
    "cmap = 'jet'\n",
    "gs = gridspec.GridSpec(1, 4)\n",
    "\n",
    "# mesh\n",
    "ax = fig.add_subplot(gs[0])\n",
    "triplot(triobj, ax=ax, fig=fig)\n",
    "# rotX\n",
    "ax = fig.add_subplot(gs[1])\n",
    "triplot(triobj, ax=ax, fig=fig, title=r'$\\theta_x$',\n",
    "        data=data[:, 0], cmap=cmap, axis='off')\n",
    "# rotY\n",
    "ax = fig.add_subplot(gs[2])\n",
    "triplot(triobj, ax=ax, fig=fig, title=r'$\\theta_y$',\n",
    "        data=data[:, 1], cmap=cmap, axis='off')\n",
    "# w\n",
    "ax = fig.add_subplot(gs[3])\n",
    "triplot(triobj, ax=ax, fig=fig, title=r'$w$',\n",
    "        data=data[:, 2], cmap=cmap, axis='off')\n",
    "\n",
    "fig.tight_layout()"
   ]
  },
  {
   "cell_type": "code",
   "execution_count": null,
   "metadata": {},
   "outputs": [],
   "source": [
    "nP = len(centers)\n",
    "sdata = np.zeros((nP, 5))\n",
    "for i in range(M):\n",
    "    for j in range(N):\n",
    "        Amn, Bmn, Cmn = res[i*N + j]\n",
    "        for k in range(nP):\n",
    "            xp, yp = centers[k, :2]\n",
    "            sdata[k] += intfors(i+1, j+1, xp, yp, D11, D12, D22, D66, S44, \\\n",
    "                S55, Lx, Ly, Amn, Bmn, Cmn).flatten()"
   ]
  },
  {
   "cell_type": "code",
   "execution_count": null,
   "metadata": {},
   "outputs": [],
   "source": [
    "fig = plt.figure(figsize=(10, 2))  # in inches\n",
    "fig.patch.set_facecolor('white')\n",
    "cmap = 'jet'\n",
    "gs = gridspec.GridSpec(1, 5)\n",
    "\n",
    "# rotX\n",
    "ax = fig.add_subplot(gs[0])\n",
    "triplot(triobj, ax=ax, fig=fig, title=r'$m_x$',\n",
    "        data=sdata[:, 0], cmap=cmap, axis='off')\n",
    "# rotY\n",
    "ax = fig.add_subplot(gs[1])\n",
    "triplot(triobj, ax=ax, fig=fig, title=r'$m_y$',\n",
    "        data=sdata[:, 1], cmap=cmap, axis='off')\n",
    "# w\n",
    "ax = fig.add_subplot(gs[2])\n",
    "triplot(triobj, ax=ax, fig=fig, title=r'$m_{xy}$',\n",
    "        data=sdata[:, 2], cmap=cmap, axis='off')\n",
    "\n",
    "# rotY\n",
    "ax = fig.add_subplot(gs[3])\n",
    "triplot(triobj, ax=ax, fig=fig, title=r'$v_x$',\n",
    "        data=sdata[:, 3], cmap=cmap, axis='off')\n",
    "# w\n",
    "ax = fig.add_subplot(gs[4])\n",
    "triplot(triobj, ax=ax, fig=fig, title=r'$v_y$',\n",
    "        data=sdata[:, 4], cmap=cmap, axis='off')\n",
    "\n",
    "fig.tight_layout()"
   ]
  },
  {
   "cell_type": "markdown",
   "metadata": {},
   "source": [
    "# **Report Generation with $\\LaTeX$**"
   ]
  },
  {
   "cell_type": "code",
   "execution_count": null,
   "metadata": {},
   "outputs": [],
   "source": [
    "geometry_options = {\n",
    "        \"tmargin\" : \"1.5cm\",\n",
    "        \"lmargin\" : \"1.5cm\",\n",
    "        \"rmargin\" : \"1.5cm\"\n",
    "    }\n",
    "\n",
    "doc = pltx.Document(geometry_options=geometry_options)\n",
    "\n",
    "r\"\"\"\n",
    "Tools related to displaying math. It's a bit like the numpy of latex, must\n",
    "have stuff.\n",
    "\"\"\"\n",
    "doc.packages.append(Package('amsmath'))\n",
    "\n",
    "r\"\"\"\n",
    "Sympy uses the 'operatorname' command frequently to print symbols.\n",
    "\"\"\"\n",
    "doc.packages.append(Package('amsopn'))\n",
    "\n",
    "r\"\"\"\n",
    "To automatically break long equations into multiple lines.\n",
    "\"\"\"\n",
    "doc.packages.append(Package('breqn'))\n",
    "\n",
    "r\"\"\"\n",
    "mathtools provides us with the \\coloneqq command, for defining equality\n",
    "symbol ':='\n",
    "\"\"\"\n",
    "doc.packages.append(Package('mathtools'))\n",
    "\n",
    "r\"\"\"\n",
    "Misc\n",
    "\"\"\"\n",
    "doc.packages.append(Package('enumitem'))  # to customize enumerations\n",
    "doc.packages.append(Package('xcolor'))  # colors\n",
    "doc.packages.append(Package('lmodern'))  # high quality fonts\n",
    "\n",
    "title = \"Calculation of rectangular, simply supported plates \\\n",
    "    resting on elastic foundation.\"\n",
    "doc.preamble.append(Command('title', title))\n",
    "doc.preamble.append(Command('author', 'Claude Louis Marie Henri Navier'))\n",
    "doc.preamble.append(Command('date', NoEscape(r'\\today')))\n",
    "doc.append(NoEscape(r'\\maketitle'))\n",
    "doc.append(NoEscape(r'\\tableofcontents'))\n",
    "doc.append(NewPage())\n",
    "\n",
    "sections = {}"
   ]
  },
  {
   "cell_type": "code",
   "execution_count": null,
   "metadata": {},
   "outputs": [],
   "source": [
    "sections['theory'] = doc.create(Section('Theoretical background'))"
   ]
  },
  {
   "cell_type": "code",
   "execution_count": null,
   "metadata": {},
   "outputs": [],
   "source": [
    "with sections['theory']:\n",
    "    \n",
    "    # displacement field\n",
    "    with doc.create(Subsection('Displacement Field and Boundary Conditions')):\n",
    "        doc.append(NoEscape(\n",
    "            r\"\"\"\n",
    "            \\noindent\n",
    "            The Mindlin-Reissner kinematical model poses the following\n",
    "            assumptions on the displacement field:\n",
    "            \"\"\"))\n",
    "        doc.append(NoEscape(\n",
    "            r\"\"\"\n",
    "            \\begin{enumerate}[label*=\\protect\\fbox{MR\\arabic{enumi}},\n",
    "            itemindent=5em]\n",
    "            \\item   normals to the midsurface remain normal\n",
    "            \\item   the plate thickness does not change during deformation\n",
    "            \\item   normal stress through the thickness is ignored\n",
    "            \\end{enumerate}\n",
    "            \"\"\"))\n",
    "        doc.append(expr_to_ltx(r'u(x, y, z)', sy.latex(u)))\n",
    "        doc.append(expr_to_ltx(r'v(x, y, z)', sy.latex(v)))\n",
    "        doc.append(expr_to_ltx(r'w(x, y, z)', sy.latex(w)))\n",
    "        \n",
    "    # Boundary Conditions and Trial Solution\n",
    "    with doc.create(Subsection('Boundary Conditions and Trial Solution')):\n",
    "        doc.append(NoEscape(\n",
    "            r\"\"\"\n",
    "            All of the boundary conditions are of the essential type, and\n",
    "            are satisfied a priori by the proper selection of approximation\n",
    "            functions. Thus, the unknown field functions are sought in the\n",
    "            form\n",
    "            \"\"\"))\n",
    "        sumltx = r'\\sum_{m, n} '\n",
    "        doc.append(expr_to_ltx(sy.latex(w0), sumltx + sy.latex(w0_trial)))\n",
    "        doc.append(expr_to_ltx(sy.latex(thx), sumltx + sy.latex(thx_trial)))\n",
    "        doc.append(expr_to_ltx(sy.latex(thy), sumltx + sy.latex(thy_trial)))\n",
    "        \n",
    "    # engineering strains\n",
    "    with doc.create(Subsection('Strain - Displacement Equations')):\n",
    "        doc.append(expr_to_ltx(r'\\varepsilon_x(x, y, z)', sy.latex(exx)))\n",
    "        doc.append(expr_to_ltx(r'\\varepsilon_y(x, y, z)', sy.latex(eyy)))\n",
    "        doc.append(expr_to_ltx(r'\\gamma_{xy}(x, y, z)', sy.latex(exy)))\n",
    "        doc.append(expr_to_ltx(r'\\gamma_{xz}(x, y, z)', sy.latex(exz)))\n",
    "        doc.append(expr_to_ltx(r'\\gamma_{yz}(x, y, z)', sy.latex(eyz)))\n",
    "        \n",
    "        #doc.append('Curvatures are defined as')\n",
    "        #doc.append(\n",
    "        #    expr_to_ltx(r\"\"\"\\kappa_x(x, y) \\coloneqq \\frac{\\partial\n",
    "        #    \\varepsilon_x}{\\partial z}\"\"\", sy.latex(kxx)))\n",
    "        #doc.append(\n",
    "        #    expr_to_ltx(r\"\"\"\\kappa_y(x, y) \\coloneqq \\frac{\\partial\n",
    "        #    \\varepsilon_y}{\\partial z}\"\"\", sy.latex(kyy)))\n",
    "        #doc.append(\n",
    "        #    expr_to_ltx(r\"\"\"\\kappa_{xy}(x, y) \\coloneqq \\frac{\\partial\n",
    "        #    \\gamma_{xy}}{\\partial z}\"\"\", sy.latex(kxy)))\n",
    "        \n",
    "    # material model and stress resultants\n",
    "    with doc.create(Subsection('Stress Resultants')):\n",
    "        doc.append(expr_to_ltx(r'm_x(x, y)', sy.latex(mx)))\n",
    "        doc.append(expr_to_ltx(r'm_y(x, y)', sy.latex(my)))\n",
    "        doc.append(expr_to_ltx(r'm_{xy}(x, y)', sy.latex(mxy)))\n",
    "        doc.append(expr_to_ltx(r'v_x(x, y)', sy.latex(vx)))\n",
    "        doc.append(expr_to_ltx(r'v_y(x, y)', sy.latex(vy)))\n",
    "\n",
    "    # Equilibrium Equations\n",
    "    with doc.create(Subsection('Equilibrium Equations')):\n",
    "        doc.append(NoEscape(r'Equilibrium of moments around global $x$ :'))\n",
    "        doc.append(expr_to_ltx_breqn(sy.latex(lhs_mx), 'm_x(x, y)'))\n",
    "        doc.append(NoEscape(r'Equilibrium of moments around global $y$ :'))\n",
    "        doc.append(expr_to_ltx_breqn(sy.latex(lhs_my), 'm_y(x, y)'))\n",
    "        doc.append(NoEscape(r'Equilibrium of forces along global $z$ :'))\n",
    "        doc.append(expr_to_ltx_breqn(sy.latex(lhs_fz), 'f_z(x, y)'))\n",
    "\n",
    "        # substitute trial solution\n",
    "        doc.append(NoEscape(\n",
    "            r\"\"\"\n",
    "            \\noindent\n",
    "            Upon substitution of the trial solution into the vertical\n",
    "            equilibrium equation we obtain the following equality\n",
    "            \"\"\"))\n",
    "        mxltx = r\"\\left[\" + sy.latex(eq_fz_trial.simplify()) + r\"\\right]\" + \\\n",
    "            sy.latex(Sm * Sn)\n",
    "        doc.append(expr_to_ltx_breqn(mxltx, 'f_z(x, y)'))\n",
    "        doc.append(NoEscape(\n",
    "            r\"\"\"\n",
    "            \\noindent\n",
    "            It is clear, that if was possible to write the function\n",
    "            of vertical forces $f_z(x, y)$ as a finite sum of purely sinusoidal\n",
    "            functions, the trigonometric terms could be completely ruled out\n",
    "            from the equation. After forming similar thoughts about the other\n",
    "            two equations, the loads are sought as\n",
    "            \"\"\"))\n",
    "\n",
    "        # coefficient matrix\n",
    "        doc.append('Discrete equilibrium equation')\n",
    "        doc.append(expr_to_ltx(r'\\boldsymbol{P}', sy.latex(P), dfrac = True))\n",
    "\n",
    "    with doc.create(Subsection('Postprocessing')):\n",
    "        doc.append(expr_to_ltx(r'm_x(x, y)', sy.latex(mx)))\n",
    "        doc.append(expr_to_ltx(r'm_y(x, y)', sy.latex(my)))\n",
    "        doc.append(expr_to_ltx(r'm_{xy}(x, y)', sy.latex(mxy)))\n",
    "        doc.append(expr_to_ltx(r'v_x(x, y)', sy.latex(vx)))\n",
    "        doc.append(expr_to_ltx(r'v_y(x, y)', sy.latex(vy)))\n",
    "        doc.append(expr_to_ltx(r'\\kappa_x(x, y)', sy.latex(kxx)))\n",
    "        doc.append(expr_to_ltx(r'\\kappa_y(x, y)', sy.latex(kyy)))\n",
    "        doc.append(expr_to_ltx(r'\\kappa_{xy}(x, y)', sy.latex(kxy)))\n",
    "        doc.append(expr_to_ltx(r'\\gamma_{xz}(x, y)', sy.latex(exz)))\n",
    "        doc.append(expr_to_ltx(r'\\gamma_{yz}(x, y)', sy.latex(eyz)))\n",
    "\n",
    "    with doc.create(Subsection('Loads')):\n",
    "        doc.append(NoEscape(\n",
    "            r\"\"\"\n",
    "            If the load functions are represented as suggested by the\n",
    "            left hand-sides of the equilibrium equations, the solution of\n",
    "            the system simplifies to the solution of a 3x3 algebraic equation\n",
    "            system.\n",
    "            \"\"\"))\n",
    "\n",
    "        # constans vertical load over a rectangular area\n",
    "        doc.append(NoEscape(\n",
    "            r\"\"\"\n",
    "            \\noindent\n",
    "            \\paragraph{Constans vertical load of intensity $q$ over a\n",
    "            rectangular area}\n",
    "            \"\"\"))\n",
    "        doc.append(expr_to_ltx(r'q_{mn}', sy.latex(qmn_fz), post = ','))\n",
    "        #doc.append(NoEscape(r\"\\noindent\"))\n",
    "        doc.append(NoEscape(\n",
    "            r\"\"\"\n",
    "            where $w$ and $h$ denote the width and height, $x_c$ and $y_c$ the\n",
    "            coordinates of the center point of the rectangle.\n",
    "            \"\"\"))\n",
    "\n",
    "        # constans moment of intensity mx, around global axis X,\n",
    "        # over a rectangular area with width w, height h and center (xc, yc)\n",
    "        doc.append(NoEscape(\n",
    "            r\"\"\"\n",
    "            \\noindent\n",
    "            \\paragraph{Constans moment around global axis $x$ of intensity\n",
    "            $m_x$ over a rectangular area}\n",
    "            \"\"\"))\n",
    "        doc.append(expr_to_ltx(r'q_{mn}', sy.latex(qmn_mx), post = ','))\n",
    "        #doc.append(NoEscape(r\"\\noindent\"))\n",
    "        doc.append(NoEscape(\n",
    "            r\"\"\"\n",
    "            where $w$ and $h$ denote the width and height, $x_c$ and $y_c$ the\n",
    "            coordinates of the center of the rectangle.\n",
    "            \"\"\"))\n",
    "\n",
    "        # constant moment of intensity my, around global axis Y,\n",
    "        # over a rectangular area with width w, height h and center (xc, yc)\n",
    "        doc.append(NoEscape(\n",
    "            r\"\"\"\n",
    "            \\noindent\n",
    "            \\paragraph{Constans moment around global axis $y$ of intensity\n",
    "            $m_y$ over a rectangular area}\n",
    "            \"\"\"))\n",
    "        doc.append(expr_to_ltx(r'q_{mn}', sy.latex(qmn_my), post = ','))\n",
    "        #doc.append(NoEscape(r\"\\noindent\"))\n",
    "        doc.append(NoEscape(\n",
    "            r\"\"\"\n",
    "            where $w$ and $h$ denote the width and height, $x_c$ and $y_c$ the\n",
    "            coordinates of the center of the rectangle.\n",
    "            \"\"\"))"
   ]
  },
  {
   "cell_type": "code",
   "execution_count": null,
   "metadata": {},
   "outputs": [],
   "source": [
    "doc.generate_pdf('e:\\\\navier', clean_tex=False, compiler='pdfLaTeX')"
   ]
  }
 ],
 "metadata": {
  "interpreter": {
   "hash": "8d15e2cb4dca8274af5fb092bbadab583a099b53b169f927cb892edc8b735b32"
  },
  "kernelspec": {
   "display_name": "Python 3.8.10 64-bit ('.dewloosh': venv)",
   "language": "python",
   "name": "python3"
  },
  "language_info": {
   "codemirror_mode": {
    "name": "ipython",
    "version": 3
   },
   "file_extension": ".py",
   "mimetype": "text/x-python",
   "name": "python",
   "nbconvert_exporter": "python",
   "pygments_lexer": "ipython3",
   "version": "3.8.10"
  },
  "orig_nbformat": 4
 },
 "nbformat": 4,
 "nbformat_minor": 2
}
